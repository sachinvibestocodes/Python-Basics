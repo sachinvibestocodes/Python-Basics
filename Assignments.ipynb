{
 "cells": [
  {
   "cell_type": "code",
   "execution_count": 3,
   "id": "9a4d561f",
   "metadata": {},
   "outputs": [
    {
     "name": "stdout",
     "output_type": "stream",
     "text": [
      "Hello Sachin!\n"
     ]
    }
   ],
   "source": [
    "# Printing your name.\n",
    "\n",
    "print(\"Hello \"+\"Sachin!\")"
   ]
  },
  {
   "cell_type": "code",
   "execution_count": 2,
   "id": "e50c8dd0",
   "metadata": {},
   "outputs": [
    {
     "name": "stdout",
     "output_type": "stream",
     "text": [
      "What is your name?\n",
      "Sachin\n",
      "Hello, Sachin!\n"
     ]
    }
   ],
   "source": [
    "# Printing your name.\n",
    "\n",
    "print('Hello, '+ input(\"What is your name?\\n\") + \"!\")"
   ]
  },
  {
   "cell_type": "code",
   "execution_count": 7,
   "id": "53d652d6",
   "metadata": {},
   "outputs": [
    {
     "name": "stdout",
     "output_type": "stream",
     "text": [
      "Enter an alphabet = A\n",
      "The alphabet is a vowel.\n"
     ]
    }
   ],
   "source": [
    "# Whether an alphabet is a vowel or consonant.\n",
    "\n",
    "l = (input(\"Enter an alphabet = \")).lower()\n",
    "if(l == 'a' or l == 'e' or l == 'i' or l == 'o' or l == 'u'):\n",
    "    print(\"The alphabet is a vowel.\")\n",
    "else:\n",
    "    print(\"The alphabet is a consonant.\")"
   ]
  },
  {
   "cell_type": "code",
   "execution_count": 7,
   "id": "1d24c74f",
   "metadata": {},
   "outputs": [
    {
     "name": "stdout",
     "output_type": "stream",
     "text": [
      "Enter a number, a = 42.5\n",
      "Enter a number, b = 87.5\n",
      "Enter a number, c = 98.7\n",
      "c is the greatest number.\n"
     ]
    }
   ],
   "source": [
    "# Finding the greatest number out of three numbers.\n",
    "\n",
    "a = float(input(\"Enter a number, a = \"))\n",
    "b = float(input(\"Enter a number, b = \"))\n",
    "c = float(input(\"Enter a number, c = \"))\n",
    "if (a>b>c or a>c>b):\n",
    "    print(\"a is the greatest number.\")\n",
    "elif (b>c>a or b>a>c):\n",
    "    print(\"b is the greatest number.\")\n",
    "elif (c>a>b or c>b>a):\n",
    "    print(\"c is the greatest number.\")\n",
    "else:\n",
    "    print(\"Please enter a valid number.\")"
   ]
  },
  {
   "cell_type": "code",
   "execution_count": 7,
   "id": "d206ea8f",
   "metadata": {},
   "outputs": [
    {
     "name": "stdout",
     "output_type": "stream",
     "text": [
      "Enter the temperature in degree celsius = 30\n",
      "86.0 degree farenheit\n",
      "It is moderate.\n"
     ]
    }
   ],
   "source": [
    "# Conversion of celsius to farenheit (F = 1.8*(C)+32).\n",
    "\n",
    "c=float(input(\"Enter the temperature in degree celsius = \"))\n",
    "f=1.8*(c)+32\n",
    "print(f, \"degree farenheit\")\n",
    "if f<=50:\n",
    "    print(\"It is cold.\")\n",
    "elif 50<f<100:\n",
    "    print(\"It is moderate.\")\n",
    "else:\n",
    "    print(\"It is hot.\")"
   ]
  },
  {
   "cell_type": "code",
   "execution_count": 11,
   "id": "e5cbba55",
   "metadata": {},
   "outputs": [
    {
     "name": "stdout",
     "output_type": "stream",
     "text": [
      "Enter the name of the month = March\n",
      "The month has 31 days.\n"
     ]
    }
   ],
   "source": [
    "# Finding the number of days in a given month.\n",
    "\n",
    "m = input(\"Enter the name of the month = \")\n",
    "if (m == \"January\" or m==\"March\" or m==\"May\" or m==\"July\" or m==\"August\" or m==\"October\" or m==\"December\"):\n",
    "    print(\"The month has 31 days.\")\n",
    "elif (m ==\"April\" or m==\"June\" or m==\"September\" or m==\"November\"):\n",
    "    print(\"The month has 30 days.\")\n",
    "else:\n",
    "    print(\"The month has 28 or 29 days.\")"
   ]
  },
  {
   "cell_type": "code",
   "execution_count": 10,
   "id": "d73ff6f9",
   "metadata": {},
   "outputs": [
    {
     "name": "stdout",
     "output_type": "stream",
     "text": [
      "Enter the year = 1700\n",
      "It is not a leap year.\n"
     ]
    }
   ],
   "source": [
    "# Finding a leap year.\n",
    "\n",
    "y = int(input(\"Enter the year = \"))\n",
    "if (y%4 == 0 and y%100 != 0) or (y%400 == 0):\n",
    "    print(\"It is a leap year.\")\n",
    "else:\n",
    "    print(\"It is not a leap year.\")"
   ]
  },
  {
   "cell_type": "code",
   "execution_count": 12,
   "id": "11dfe853",
   "metadata": {},
   "outputs": [
    {
     "name": "stdout",
     "output_type": "stream",
     "text": [
      "Enter a number: 67\n",
      "It's a prime number.\n"
     ]
    }
   ],
   "source": [
    "# A number is prime or not.\n",
    "\n",
    "def prime_checker(number):\n",
    "    is_prime = True\n",
    "    for i in range(2,number):\n",
    "        if number%i == 0:\n",
    "            is_prime =  False\n",
    "    if is_prime:\n",
    "        print(\"It's a prime number.\")\n",
    "    else:\n",
    "        print(\"It's not a prime number.\")\n",
    "        \n",
    "number = int(input(\"Enter a number: \"))\n",
    "prime_checker(number)"
   ]
  },
  {
   "cell_type": "code",
   "execution_count": 8,
   "id": "b12435fc",
   "metadata": {},
   "outputs": [
    {
     "name": "stdout",
     "output_type": "stream",
     "text": [
      "Multiplication table for : 79\n",
      "79 X 1 = 79\n",
      "79 X 2 = 158\n",
      "79 X 3 = 237\n",
      "79 X 4 = 316\n",
      "79 X 5 = 395\n",
      "79 X 6 = 474\n",
      "79 X 7 = 553\n",
      "79 X 8 = 632\n",
      "79 X 9 = 711\n",
      "79 X 10 = 790\n"
     ]
    }
   ],
   "source": [
    "# Multiplication Table.\n",
    "\n",
    "num = int(input(\"Multiplication table for : \"))\n",
    "for i in range(1,11):\n",
    "    print(f\"{num} X {i} = {num*i}\")"
   ]
  },
  {
   "cell_type": "code",
   "execution_count": 1,
   "id": "219086e2",
   "metadata": {},
   "outputs": [
    {
     "name": "stdout",
     "output_type": "stream",
     "text": [
      "Welcome to the Love Calculator!\n",
      "What is your name? \n",
      "Sachin\n",
      "What is their name? \n",
      "Shriya\n",
      "Your score is 10, you go together like coke and mentos.\n"
     ]
    }
   ],
   "source": [
    "# Love Calculator.\n",
    "\n",
    "print(\"Welcome to the Love Calculator!\")\n",
    "name1 = input(\"What is your name? \\n\")\n",
    "name2 = input(\"What is their name? \\n\")\n",
    "n1 = name1.lower()\n",
    "n2 = name2.lower()\n",
    "combined_name = n1+n2\n",
    "t = combined_name.count(\"t\")\n",
    "r = combined_name.count(\"r\")\n",
    "u = combined_name.count(\"u\")\n",
    "e = combined_name.count(\"e\")\n",
    "per1 =  str(t+r+u+e)\n",
    "l = combined_name.count(\"l\")\n",
    "o = combined_name.count(\"o\")\n",
    "v = combined_name.count(\"v\")\n",
    "e = combined_name.count(\"e\")\n",
    "per2 = str(l+o+v+e)\n",
    "fp = int(per1+per2)\n",
    "if fp <= 10 or fp >=90:\n",
    "    print(f\"Your score is {fp}, you go together like coke and mentos.\")\n",
    "elif 40 <= fp <= 50:\n",
    "    print(f\"Your score is {fp}, you are alright together.\")\n",
    "else:\n",
    "    print(f\"Your score is {fp}.\")"
   ]
  },
  {
   "cell_type": "code",
   "execution_count": 2,
   "id": "1649adf5",
   "metadata": {},
   "outputs": [
    {
     "name": "stdout",
     "output_type": "stream",
     "text": [
      "Welcome to Python Pizza Deliveries!\n",
      "What size pizza do you want? S, M, or L \n",
      "L\n",
      "Do you want pepperoni? Y or N \n",
      "Y\n",
      "Do you want extra cheese? Y or N \n",
      "Y\n",
      "Your final bill is: $29\n"
     ]
    }
   ],
   "source": [
    "# Pizza delivery order.\n",
    "\n",
    "print(\"Welcome to Python Pizza Deliveries!\")\n",
    "size = input(\"What size pizza do you want? S, M, or L \\n\")\n",
    "add_pepperoni = input(\"Do you want pepperoni? Y or N \\n\")\n",
    "extra_cheese = input(\"Do you want extra cheese? Y or N \\n\")\n",
    "bill = 0\n",
    "if size == \"S\":\n",
    "    bill = 15\n",
    "elif size == \"M\":\n",
    "    bill = 20\n",
    "elif size == \"L\":\n",
    "    bill = 25\n",
    "\n",
    "if add_pepperoni == \"Y\":\n",
    "    if size == \"S\":\n",
    "        bill += 2\n",
    "    else:\n",
    "        bill += 3\n",
    "\n",
    "if extra_cheese == \"Y\":\n",
    "    bill += 1\n",
    "else:\n",
    "    bill += 0\n",
    "\n",
    "print(f\"Your final bill is: ${bill}\")"
   ]
  },
  {
   "cell_type": "code",
   "execution_count": 4,
   "id": "6de086d5",
   "metadata": {},
   "outputs": [
    {
     "name": "stdout",
     "output_type": "stream",
     "text": [
      "enter your height in m: 1.78\n",
      "enter your weight in kg: 75.5\n",
      "Your BMI is 23.83, you have a normal weight.\n"
     ]
    }
   ],
   "source": [
    "# BMI Calculator.\n",
    "\n",
    "height = float(input(\"enter your height in m: \"))\n",
    "weight = float(input(\"enter your weight in kg: \"))\n",
    "\n",
    "bmi = round(weight/(height**2), 2)\n",
    "if bmi <= 18.5:\n",
    "    print(f\"Your BMI is {bmi}, you are underweight.\")\n",
    "elif bmi <=25:\n",
    "    print(f\"Your BMI is {bmi}, you have a normal weight.\")\n",
    "elif bmi <=30:\n",
    "    print(f\"Your BMI is {bmi}, you are slightly overweight.\")\n",
    "elif bmi <= 35:\n",
    "    print(f\"Your BMI is {bmi}, you are obese.\")\n",
    "elif bmi > 35:\n",
    "    print(f\"Your BMI is {bmi}, you are clinically obese.\")"
   ]
  },
  {
   "cell_type": "code",
   "execution_count": 1,
   "id": "9caacdab",
   "metadata": {},
   "outputs": [
    {
     "name": "stdout",
     "output_type": "stream",
     "text": [
      "\n",
      "*******************************************************************************\n",
      "          |                   |                  |                     |\n",
      " _________|________________.=\"\"_;=.______________|_____________________|_______\n",
      "|                   |  ,-\"_,=\"\"     `\"=.|                  |\n",
      "|___________________|__\"=._o`\"-._        `\"=.______________|___________________\n",
      "          |                `\"=._o`\"=._      _`\"=._                     |\n",
      " _________|_____________________:=._o \"=._.\"_.-=\"'\"=.__________________|_______\n",
      "|                   |    __.--\" , ; `\"=._o.\" ,-\"\"\"-._ \".   |\n",
      "|___________________|_._\"  ,. .` ` `` ,  `\"-._\"-._   \". '__|___________________\n",
      "          |           |o`\"=._` , \"` `; .\". ,  \"-._\"-._; ;              |\n",
      " _________|___________| ;`-.o`\"=._; .\" ` '`.\"\\` . \"-._ /_______________|_______\n",
      "|                   | |o;    `\"-.o`\"=._``  '` \" ,__.--o;   |\n",
      "|___________________|_| ;     (#) `-.o `\"=.`_.--\"_o.-; ;___|___________________\n",
      "____/______/______/___|o;._    \"      `\".o|o_.--\"    ;o;____/______/______/____\n",
      "/______/______/______/_\"=._o--._        ; | ;        ; ;/______/______/______/_\n",
      "____/______/______/______/__\"=._o--._   ;o|o;     _._;o;____/______/______/____\n",
      "/______/______/______/______/____\"=._o._; | ;_.--\"o.--\"_/______/______/______/_\n",
      "____/______/______/______/______/_____\"=.o|o_.--\"\"___/______/______/______/____\n",
      "/______/______/______/______/______/______/______/______/______/______/_____ /\n",
      "*******************************************************************************\n",
      "\n",
      "Welcome to Treasure Island.\n",
      "Your mission is to find the treasure.\n",
      "You are at a crossroad, where do you want to go? Type 'left' or 'right'. = left\n",
      "You have come to a lake. Type 'wait' to wait for a boat or 'swim' to swim across. = wait\n",
      "You have arrived at the island unharmed. There is a house with 3 doors. One red, one yellow and one blue. Which colour do you choose? = yellow\n",
      "Hurray, you found the treasure! You win!\n"
     ]
    }
   ],
   "source": [
    "print('''\n",
    "*******************************************************************************\n",
    "          |                   |                  |                     |\n",
    " _________|________________.=\"\"_;=.______________|_____________________|_______\n",
    "|                   |  ,-\"_,=\"\"     `\"=.|                  |\n",
    "|___________________|__\"=._o`\"-._        `\"=.______________|___________________\n",
    "          |                `\"=._o`\"=._      _`\"=._                     |\n",
    " _________|_____________________:=._o \"=._.\"_.-=\"'\"=.__________________|_______\n",
    "|                   |    __.--\" , ; `\"=._o.\" ,-\"\"\"-._ \".   |\n",
    "|___________________|_._\"  ,. .` ` `` ,  `\"-._\"-._   \". '__|___________________\n",
    "          |           |o`\"=._` , \"` `; .\". ,  \"-._\"-._; ;              |\n",
    " _________|___________| ;`-.o`\"=._; .\" ` '`.\"\\` . \"-._ /_______________|_______\n",
    "|                   | |o;    `\"-.o`\"=._``  '` \" ,__.--o;   |\n",
    "|___________________|_| ;     (#) `-.o `\"=.`_.--\"_o.-; ;___|___________________\n",
    "____/______/______/___|o;._    \"      `\".o|o_.--\"    ;o;____/______/______/____\n",
    "/______/______/______/_\"=._o--._        ; | ;        ; ;/______/______/______/_\n",
    "____/______/______/______/__\"=._o--._   ;o|o;     _._;o;____/______/______/____\n",
    "/______/______/______/______/____\"=._o._; | ;_.--\"o.--\"_/______/______/______/_\n",
    "____/______/______/______/______/_____\"=.o|o_.--\"\"___/______/______/______/____\n",
    "/______/______/______/______/______/______/______/______/______/______/_____ /\n",
    "*******************************************************************************\n",
    "''')\n",
    "print(\"Welcome to Treasure Island.\")\n",
    "print(\"Your mission is to find the treasure.\") \n",
    "\n",
    "\n",
    "choice1 = input(\"You are at a crossroad, where do you want to go? Type 'left' or 'right'. = \").lower()\n",
    "if choice1 == \"right\":\n",
    "  print(\"You fell into a hole. Game Over!\")\n",
    "elif choice1 == \"left\":\n",
    "  choice2 = input(\"You have come to a lake. Type 'wait' to wait for a boat or 'swim' to swim across. = \").lower()\n",
    "  if choice2 == \"swim\":\n",
    "    print(\"You got attacked by an angry trout. Game over!\")\n",
    "  elif choice2 == \"wait\":\n",
    "    choice3 = input(\"You have arrived at the island unharmed. There is a house with 3 doors. One red, one yellow and one blue. Which colour do you choose? = \").lower()\n",
    "    if choice3 == \"red\":\n",
    "      print(\"You are burned by fire. Game Over!\")\n",
    "    elif choice3 == \"blue\":\n",
    "      print(\"You are eaten by beasts. Game Over!\")\n",
    "    elif choice3 == \"yellow\":\n",
    "      print(\"Hurray, you found the treasure! You win!\")\n",
    "    else:\n",
    "      print(\"Choose a valid option!\")\n",
    "\n",
    "else:\n",
    "  print(\"Choose a valid option!\")"
   ]
  },
  {
   "cell_type": "code",
   "execution_count": 1,
   "id": "6aae52fa",
   "metadata": {},
   "outputs": [
    {
     "name": "stdout",
     "output_type": "stream",
     "text": [
      "Enter the principal amount = 100000\n",
      "Enter the tenure of loan = 3\n",
      "Enter the rate of interest = 1.5\n",
      "The interest will be 4500.0\n"
     ]
    }
   ],
   "source": [
    "# Simple Interest\n",
    "\n",
    "p = float(input(\"Enter the principal amount = \"))\n",
    "n = float(input(\"Enter the tenure of loan = \"))\n",
    "r = float(input(\"Enter the rate of interest = \"))\n",
    "simple_interest = ((p*n*r)/100)\n",
    "print(f\"The interest will be {simple_interest}\")"
   ]
  },
  {
   "cell_type": "code",
   "execution_count": 3,
   "id": "f5172359",
   "metadata": {},
   "outputs": [
    {
     "name": "stdout",
     "output_type": "stream",
     "text": [
      "Enter your weight in kilogram = 75.5\n",
      "Your weight is 166.1 pounds!\n"
     ]
    }
   ],
   "source": [
    "# Convert Kilogram into pounds\n",
    "\n",
    "w = float(input(\"Enter your weight in kilogram = \"))\n",
    "p = round(2.2*w, 2)\n",
    "print(f\"Your weight is {p} pounds!\")"
   ]
  },
  {
   "cell_type": "code",
   "execution_count": 2,
   "id": "0f4cae56",
   "metadata": {},
   "outputs": [
    {
     "name": "stdout",
     "output_type": "stream",
     "text": [
      "You have BIKE: True\n",
      "\n",
      "You have CAR: False\n",
      "\n",
      "You can travel 100 KM: True\n",
      "\n",
      "You have BIKE: False\n",
      "\n",
      "You have CAR: True\n",
      "\n",
      "You can travel 100 KM: True\n",
      "\n",
      "You have BIKE: True\n",
      "\n",
      "You have CAR: True\n",
      "\n",
      "You can travel 100 KM: True\n",
      "\n",
      "You have BIKE: False\n",
      "\n",
      "You have CAR: False\n",
      "\n",
      "You can travel 100 KM: False\n",
      "\n"
     ]
    }
   ],
   "source": [
    "#Example for functions\n",
    "\n",
    "def travel_or_not(BIKE, CAR):\n",
    "    TRAVEL_100_KM = BIKE or CAR\n",
    "    \n",
    "    print(f\"You have BIKE: {BIKE}\\n\")\n",
    "    print(f\"You have CAR: {CAR}\\n\")\n",
    "    print(f\"You can travel 100 KM: {TRAVEL_100_KM}\\n\")\n",
    "    \n",
    "BIKE = [True, False, True, False]\n",
    "CAR = [False, True, True, False]\n",
    "\n",
    "for bike, car in zip(BIKE, CAR):\n",
    "    travel_or_not(bike, car)"
   ]
  },
  {
   "cell_type": "code",
   "execution_count": 11,
   "id": "aa76799e",
   "metadata": {},
   "outputs": [
    {
     "name": "stdout",
     "output_type": "stream",
     "text": [
      "Tails\n"
     ]
    }
   ],
   "source": [
    "#Randomisation in python\n",
    "\n",
    "import random\n",
    "toss = random.randint(0,1)\n",
    "if toss == 1:\n",
    "    print(\"Heads\")\n",
    "else:\n",
    "    print(\"Tails\")"
   ]
  },
  {
   "cell_type": "code",
   "execution_count": 2,
   "id": "523ad7e2",
   "metadata": {},
   "outputs": [
    {
     "name": "stdout",
     "output_type": "stream",
     "text": [
      "Give me everybody's names, separated by a comma. Sachin, Hari, Jaimin, Deep\n",
      "Hari is going to pay the bill!\n"
     ]
    }
   ],
   "source": [
    "# Random payment of a bill\n",
    "# Split string method\n",
    "\n",
    "names_string = input(\"Give me everybody's names, separated by a comma. \")\n",
    "names = names_string.split(\", \")\n",
    "\n",
    "a = len(names)\n",
    "bill = random.randint(0,a-1)\n",
    "person = names[bill]\n",
    "print(f\"{person} is going to pay the bill!\")"
   ]
  },
  {
   "cell_type": "code",
   "execution_count": 4,
   "id": "aca54f55",
   "metadata": {},
   "outputs": [
    {
     "name": "stdout",
     "output_type": "stream",
     "text": [
      "Give me everybody's names, separated by a comma. Sachin, Mohit, Hari, Jaimin, Deep\n",
      "Deep is going to pay the bill!\n"
     ]
    }
   ],
   "source": [
    "# Random payment of a bill\n",
    "# Split string method\n",
    "\n",
    "names_string = input(\"Give me everybody's names, separated by a comma. \")\n",
    "names = names_string.split(\", \")\n",
    "\n",
    "person = random.choice(names)\n",
    "print(f\"{person} is going to pay the bill!\")"
   ]
  },
  {
   "cell_type": "code",
   "execution_count": 2,
   "id": "e92186bc",
   "metadata": {},
   "outputs": [
    {
     "name": "stdout",
     "output_type": "stream",
     "text": [
      "The total is : 2550\n"
     ]
    }
   ],
   "source": [
    "#Adding all even numbers upto 100\n",
    "\n",
    "total = 0\n",
    "for number in range(2,101,2):\n",
    "    total = total + number\n",
    "print(f\"The total is : {total}\")"
   ]
  },
  {
   "cell_type": "code",
   "execution_count": 1,
   "id": "3434d759",
   "metadata": {},
   "outputs": [
    {
     "name": "stdout",
     "output_type": "stream",
     "text": [
      "1\n",
      "2\n",
      "Fizz\n",
      "4\n",
      "Buzz\n",
      "Fizz\n",
      "7\n",
      "8\n",
      "Fizz\n",
      "Buzz\n",
      "11\n",
      "Fizz\n",
      "13\n",
      "14\n",
      "FizzBuzz\n",
      "16\n",
      "17\n",
      "Fizz\n",
      "19\n",
      "Buzz\n",
      "Fizz\n",
      "22\n",
      "23\n",
      "Fizz\n",
      "Buzz\n",
      "26\n",
      "Fizz\n",
      "28\n",
      "29\n",
      "FizzBuzz\n",
      "31\n",
      "32\n",
      "Fizz\n",
      "34\n",
      "Buzz\n",
      "Fizz\n",
      "37\n",
      "38\n",
      "Fizz\n",
      "Buzz\n",
      "41\n",
      "Fizz\n",
      "43\n",
      "44\n",
      "FizzBuzz\n",
      "46\n",
      "47\n",
      "Fizz\n",
      "49\n",
      "Buzz\n",
      "Fizz\n",
      "52\n",
      "53\n",
      "Fizz\n",
      "Buzz\n",
      "56\n",
      "Fizz\n",
      "58\n",
      "59\n",
      "FizzBuzz\n",
      "61\n",
      "62\n",
      "Fizz\n",
      "64\n",
      "Buzz\n",
      "Fizz\n",
      "67\n",
      "68\n",
      "Fizz\n",
      "Buzz\n",
      "71\n",
      "Fizz\n",
      "73\n",
      "74\n",
      "FizzBuzz\n",
      "76\n",
      "77\n",
      "Fizz\n",
      "79\n",
      "Buzz\n",
      "Fizz\n",
      "82\n",
      "83\n",
      "Fizz\n",
      "Buzz\n",
      "86\n",
      "Fizz\n",
      "88\n",
      "89\n",
      "FizzBuzz\n",
      "91\n",
      "92\n",
      "Fizz\n",
      "94\n",
      "Buzz\n",
      "Fizz\n",
      "97\n",
      "98\n",
      "Fizz\n",
      "Buzz\n"
     ]
    }
   ],
   "source": [
    "#Your program should print each number from 1 to 100 in turn.\n",
    "#When the number is divisible by 3 then instead of printing the number it should print \"Fizz\".\n",
    "#When the number is divisible by 5, then instead of printing the number it should print \"Buzz\".`\n",
    "#And if the number is divisible by both 3 and 5 e.g. 15 then instead of the number it should print \"FizzBuzz\"\n",
    "\n",
    "for number in range(1,101):\n",
    "    if number%15 == 0:\n",
    "        print(\"FizzBuzz\")\n",
    "    elif number%3 == 0:\n",
    "        print(\"Fizz\")\n",
    "    elif number%5 == 0:\n",
    "        print(\"Buzz\")\n",
    "    else:\n",
    "        print(number)"
   ]
  },
  {
   "cell_type": "code",
   "execution_count": 3,
   "id": "5b6897a5",
   "metadata": {},
   "outputs": [
    {
     "name": "stdout",
     "output_type": "stream",
     "text": [
      "Welcome to the PyPassword Generator!\n",
      "How many letters would you like in your password?\n",
      "3\n",
      "How many symbols would you like?\n",
      "2\n",
      "How many numbers would you like?\n",
      "2\n",
      "Your password is: x!4m7#p\n"
     ]
    }
   ],
   "source": [
    "#Password generator\n",
    "\n",
    "import random\n",
    "letters = ['a', 'b', 'c', 'd', 'e', 'f', 'g', 'h', 'i', 'j', 'k', 'l', 'm', 'n', 'o', 'p', 'q', 'r', 's', 't', 'u', 'v', 'w', 'x', 'y', 'z', 'A', 'B', 'C', 'D', 'E', 'F', 'G', 'H', 'I', 'J', 'K', 'L', 'M', 'N', 'O', 'P', 'Q', 'R', 'S', 'T', 'U', 'V', 'W', 'X', 'Y', 'Z']\n",
    "numbers = ['0', '1', '2', '3', '4', '5', '6', '7', '8', '9']\n",
    "symbols = ['!', '#', '$', '%', '&', '(', ')', '*', '+']\n",
    "\n",
    "print(\"Welcome to the PyPassword Generator!\")\n",
    "nr_letters= int(input(\"How many letters would you like in your password?\\n\")) \n",
    "nr_symbols = int(input(f\"How many symbols would you like?\\n\"))\n",
    "nr_numbers = int(input(f\"How many numbers would you like?\\n\"))\n",
    "\n",
    "password_list = []\n",
    "for char in range(1, nr_letters + 1):\n",
    "  password_list += random.choice(letters)\n",
    "for char in range(1, nr_symbols + 1):\n",
    "  password_list += random.choice(symbols)\n",
    "for char in range(1, nr_numbers + 1):\n",
    "  password_list += random.choice(numbers)\n",
    "\n",
    "random.shuffle(password_list)\n",
    "\n",
    "password = \"\"\n",
    "for char in password_list:\n",
    "  password += char\n",
    "print(f\"Your password is: {password}\")"
   ]
  },
  {
   "cell_type": "code",
   "execution_count": 4,
   "id": "bcf398b4",
   "metadata": {},
   "outputs": [
    {
     "name": "stdout",
     "output_type": "stream",
     "text": [
      "How many terms? 12\n",
      "Fibonacci sequence:\n",
      "0\n",
      "1\n",
      "1\n",
      "2\n",
      "3\n",
      "5\n",
      "8\n",
      "13\n",
      "21\n",
      "34\n",
      "55\n",
      "89\n"
     ]
    }
   ],
   "source": [
    "# Program to fetch Fibonacci sequence\n",
    "\n",
    "nterms = int(input(\"How many terms? \"))\n",
    "\n",
    "n1 = 0\n",
    "n2 = 1\n",
    "count = 0\n",
    "\n",
    "if nterms <= 0:\n",
    "   print(\"0\")\n",
    "\n",
    "elif nterms == 1:\n",
    "   print(f\"Fibonacci sequence upto {nterm} is {n1}\")\n",
    "         \n",
    "else:\n",
    "   print(\"Fibonacci sequence:\")\n",
    "   while count < nterms:\n",
    "       print(n1)\n",
    "       n3 = n1 + n2\n",
    "       n1 = n2\n",
    "       n2 = n3\n",
    "       count += 1"
   ]
  },
  {
   "cell_type": "code",
   "execution_count": 5,
   "id": "50fe8d8e",
   "metadata": {},
   "outputs": [
    {
     "name": "stdout",
     "output_type": "stream",
     "text": [
      " \n",
      " _                                             \n",
      "| |                                            \n",
      "| |__   __ _ _ __   __ _ _ __ ___   __ _ _ __  \n",
      "| '_ \\ / _` | '_ \\ / _` | '_ ` _ \\ / _` | '_ \\ \n",
      "| | | | (_| | | | | (_| | | | | | | (_| | | | |\n",
      "|_| |_|\\__,_|_| |_|\\__, |_| |_| |_|\\__,_|_| |_|\n",
      "                    __/ |                      \n",
      "                   |___/    \n",
      "Guess a letter: w\n",
      "You guessed w, that's not in the word. You lose a life.\n",
      "_ _ _ _ _ _\n",
      "\n",
      "  +---+\n",
      "  |   |\n",
      "  O   |\n",
      "      |\n",
      "      |\n",
      "      |\n",
      "=========\n",
      "\n",
      "Guess a letter: c\n",
      "You guessed c, that's not in the word. You lose a life.\n",
      "_ _ _ _ _ _\n",
      "\n",
      "  +---+\n",
      "  |   |\n",
      "  O   |\n",
      "  |   |\n",
      "      |\n",
      "      |\n",
      "=========\n",
      "\n",
      "Guess a letter: a\n",
      "_ a _ _ _ _\n",
      "\n",
      "  +---+\n",
      "  |   |\n",
      "  O   |\n",
      "  |   |\n",
      "      |\n",
      "      |\n",
      "=========\n",
      "\n",
      "Guess a letter: v\n",
      "You guessed v, that's not in the word. You lose a life.\n",
      "_ a _ _ _ _\n",
      "\n",
      "  +---+\n",
      "  |   |\n",
      "  O   |\n",
      " /|   |\n",
      "      |\n",
      "      |\n",
      "=========\n",
      "Guess a letter: o\n",
      "_ a _ o o _\n",
      "\n",
      "  +---+\n",
      "  |   |\n",
      "  O   |\n",
      " /|   |\n",
      "      |\n",
      "      |\n",
      "=========\n",
      "Guess a letter: b\n",
      "b a b o o _\n",
      "\n",
      "  +---+\n",
      "  |   |\n",
      "  O   |\n",
      " /|   |\n",
      "      |\n",
      "      |\n",
      "=========\n",
      "Guess a letter: n\n",
      "b a b o o n\n",
      "You win.\n",
      "\n",
      "  +---+\n",
      "  |   |\n",
      "  O   |\n",
      " /|   |\n",
      "      |\n",
      "      |\n",
      "=========\n"
     ]
    }
   ],
   "source": [
    "# Hangman Game\n",
    "\n",
    "import random\n",
    "\n",
    "word_list = [\"ardvark\", \"baboon\", \"camel\"]\n",
    "stages = ['''\n",
    "  +---+\n",
    "  |   |\n",
    "  O   |\n",
    " /|\\  |\n",
    " / \\  |\n",
    "      |\n",
    "=========\n",
    "''', '''\n",
    "  +---+\n",
    "  |   |\n",
    "  O   |\n",
    " /|\\  |\n",
    " /    |\n",
    "      |\n",
    "=========\n",
    "''', '''\n",
    "  +---+\n",
    "  |   |\n",
    "  O   |\n",
    " /|\\  |\n",
    "      |\n",
    "      |\n",
    "=========\n",
    "''', '''\n",
    "  +---+\n",
    "  |   |\n",
    "  O   |\n",
    " /|   |\n",
    "      |\n",
    "      |\n",
    "=========''', '''\n",
    "  +---+\n",
    "  |   |\n",
    "  O   |\n",
    "  |   |\n",
    "      |\n",
    "      |\n",
    "=========\n",
    "''', '''\n",
    "  +---+\n",
    "  |   |\n",
    "  O   |\n",
    "      |\n",
    "      |\n",
    "      |\n",
    "=========\n",
    "''', '''\n",
    "  +---+\n",
    "  |   |\n",
    "      |\n",
    "      |\n",
    "      |\n",
    "      |\n",
    "=========\n",
    "''']\n",
    "\n",
    "logo = ''' \n",
    " _                                             \n",
    "| |                                            \n",
    "| |__   __ _ _ __   __ _ _ __ ___   __ _ _ __  \n",
    "| '_ \\ / _` | '_ \\ / _` | '_ ` _ \\ / _` | '_ \\ \n",
    "| | | | (_| | | | | (_| | | | | | | (_| | | | |\n",
    "|_| |_|\\__,_|_| |_|\\__, |_| |_| |_|\\__,_|_| |_|\n",
    "                    __/ |                      \n",
    "                   |___/    '''\n",
    "\n",
    "\n",
    "chosen_word = random.choice(word_list)\n",
    "word_length = len(chosen_word)\n",
    "\n",
    "end_of_game = False\n",
    "lives = 6\n",
    "\n",
    "#Import the logo from hangman_art.py and print it at the start of the game.\n",
    "\n",
    "print(logo)\n",
    "\n",
    "#Testing code\n",
    "#print(f'The solution is {chosen_word}.')\n",
    "\n",
    "#Create blanks\n",
    "display = []\n",
    "for _ in range(word_length):\n",
    "    display += \"_\"\n",
    "\n",
    "while not end_of_game:\n",
    "    guess = input(\"Guess a letter: \").lower()\n",
    "\n",
    "#If the user has entered a letter they've already guessed, print the letter and let them know.\n",
    "    if guess in display:\n",
    "        print(f\"You've already guessed {guess}\")\n",
    "\n",
    "    #Check guessed letter\n",
    "    for position in range(word_length):\n",
    "        letter = chosen_word[position]\n",
    "        #print(f\"Current position: {position}\\n Current letter: {letter}\\n Guessed letter: {guess}\")\n",
    "        if letter == guess:\n",
    "            display[position] = letter\n",
    "\n",
    "    #Check if user is wrong.\n",
    "    if guess not in chosen_word:\n",
    "        #TODO-5: - If the letter is not in the chosen_word, print out the letter and let them know it's not in the word.\n",
    "        print(f\"You guessed {guess}, that's not in the word. You lose a life.\")\n",
    "        \n",
    "        lives -= 1\n",
    "        if lives == 0:\n",
    "            end_of_game = True\n",
    "            print(\"You lose.\")\n",
    "\n",
    "    #Join all the elements in the list and turn it into a String.\n",
    "    print(f\"{' '.join(display)}\")\n",
    "\n",
    "    #Check if user has got all letters.\n",
    "    if \"_\" not in display:\n",
    "        end_of_game = True\n",
    "        print(\"You win.\")\n",
    "\n",
    "    print(stages[lives])"
   ]
  },
  {
   "cell_type": "code",
   "execution_count": 1,
   "id": "2265dc93",
   "metadata": {},
   "outputs": [
    {
     "name": "stdout",
     "output_type": "stream",
     "text": [
      "Hey there Sachin!\n",
      "I welcome you to day 8 of '100 days of code'!\n",
      "Just remember Sachin, when life gets tough, the tough gets going!\n"
     ]
    }
   ],
   "source": [
    "# Greeting with a function\n",
    "\n",
    "def greet(name):\n",
    "  print(f\"Hey there {name}!\")\n",
    "  print(\"I welcome you to day 8 of '100 days of code'!\")\n",
    "  print(f\"Just remember {name}, when life gets tough, the tough gets going!\")\n",
    "greet(\"Sachin\")"
   ]
  },
  {
   "cell_type": "code",
   "execution_count": 2,
   "id": "661681a4",
   "metadata": {},
   "outputs": [
    {
     "name": "stdout",
     "output_type": "stream",
     "text": [
      "Height of wall(in meters): 3\n",
      "Width of wall(in meters): 7\n",
      "You'll need 5 cans of paint.\n"
     ]
    }
   ],
   "source": [
    "# Paint can calculator\n",
    "\n",
    "import math\n",
    "def paint_calc(height, width, cover):\n",
    "    cans = (height*width)/cover\n",
    "    cans = math.ceil(cans)\n",
    "    print(f\"You'll need {cans} cans of paint.\")\n",
    "\n",
    "test_h = int(input(\"Height of wall(in meters): \"))\n",
    "test_w = int(input(\"Width of wall(in meters): \"))\n",
    "coverage = 5\n",
    "\n",
    "paint_calc(height=test_h, width=test_w, cover=coverage)"
   ]
  },
  {
   "cell_type": "code",
   "execution_count": 1,
   "id": "e8a0df30",
   "metadata": {},
   "outputs": [
    {
     "name": "stdout",
     "output_type": "stream",
     "text": [
      "Type 'encode' to encrypt, type 'decode' to decrypt:\n",
      "encode\n",
      "Type your message:\n",
      "I miss you\n",
      "Type the shift number:\n",
      "5\n",
      "Here's the encoded result: n rnxx dtz\n",
      "Type 'yes' if you want to go again. Otherwise type 'no'.\n",
      "yes\n",
      "Type 'encode' to encrypt, type 'decode' to decrypt:\n",
      "decode\n",
      "Type your message:\n",
      "n rnxx dtz\n",
      "Type the shift number:\n",
      "5\n",
      "Here's the decoded result: i miss you\n",
      "Type 'yes' if you want to go again. Otherwise type 'no'.\n",
      "no\n",
      "Goodbye. See you later!\n"
     ]
    }
   ],
   "source": [
    "alphabet = ['a', 'b', 'c', 'd', 'e', 'f', 'g', 'h', 'i', 'j', 'k', 'l', 'm', 'n', 'o', 'p', 'q', 'r', 's', 't', 'u', 'v', 'w', 'x', 'y', 'z', 'a', 'b', 'c', 'd', 'e', 'f', 'g', 'h', 'i', 'j', 'k', 'l', 'm', 'n', 'o', 'p', 'q', 'r', 's', 't', 'u', 'v', 'w', 'x', 'y', 'z']\n",
    "\n",
    "def caesar(start_text, shift_amount, cipher_direction):\n",
    "  end_text = \"\"\n",
    "  if cipher_direction == \"decode\":\n",
    "    shift_amount *= -1\n",
    "  for char in start_text:\n",
    "    \n",
    "    if char in alphabet:\n",
    "      position = alphabet.index(char)\n",
    "      new_position = position + shift_amount\n",
    "      end_text += alphabet[new_position]\n",
    "    else:\n",
    "      end_text += char\n",
    "  print(f\"Here's the {cipher_direction}d result: {end_text}\")\n",
    "\n",
    "should_end = False\n",
    "while not should_end:\n",
    "\n",
    "  direction = input(\"Type 'encode' to encrypt, type 'decode' to decrypt:\\n\")\n",
    "  text = input(\"Type your message:\\n\").lower()\n",
    "  shift = int(input(\"Type the shift number:\\n\"))\n",
    "  shift = shift % 26\n",
    "\n",
    "  caesar(start_text=text, shift_amount=shift, cipher_direction=direction)\n",
    "\n",
    "  restart = input(\"Type 'yes' if you want to go again. Otherwise type 'no'.\\n\")\n",
    "  if restart == \"no\":\n",
    "    should_end = True\n",
    "    print(\"Goodbye. See you later!\")"
   ]
  },
  {
   "cell_type": "code",
   "execution_count": 1,
   "id": "b5eb0b6d",
   "metadata": {},
   "outputs": [
    {
     "name": "stdout",
     "output_type": "stream",
     "text": [
      "The second largest number is 96.\n",
      "The second smallest number is 14.\n"
     ]
    }
   ],
   "source": [
    "# \n",
    "l = [12,45,78,98,65,32,14,25,36,47,58,69,96,85,75,95,15,53,57,59]\n",
    "l.sort()\n",
    "y = l[1]\n",
    "a = len(l)-2\n",
    "x= l[a]\n",
    "print(f\"The second largest number is {x}.\")\n",
    "print(f\"The second smallest number is {y}.\")"
   ]
  },
  {
   "cell_type": "code",
   "execution_count": null,
   "id": "4c2c3059",
   "metadata": {},
   "outputs": [],
   "source": [
    "# Calculator\n",
    "\n",
    "def add(n1, n2):\n",
    "  return n1 + n2\n",
    "\n",
    "def subtract(n1, n2):\n",
    "  return n1 - n2\n",
    "\n",
    "def multiply(n1, n2):\n",
    "  return n1 * n2\n",
    "\n",
    "def divide(n1, n2):\n",
    "  return n1 / n2\n",
    "\n",
    "operations = {\n",
    "  \"+\": add,\n",
    "  \"-\": subtract,\n",
    "  \"*\": multiply,\n",
    "  \"/\": divide\n",
    "}\n",
    "\n",
    "def calculator():\n",
    "  num1 = float(input(\"What's the first number?: \"))\n",
    "  for symbol in operations:\n",
    "    print(symbol)\n",
    "  should_continue = True\n",
    " \n",
    "  while should_continue:\n",
    "    operation_symbol = input(\"Pick an operation: \")\n",
    "    num2 = float(input(\"What's the next number?: \"))\n",
    "    calculation_function = operations[operation_symbol]\n",
    "    answer = calculation_function(num1, num2)\n",
    "    print(f\"{num1} {operation_symbol} {num2} = {answer}\")\n",
    "\n",
    "    if input(f\"Type 'y' to continue calculating with {answer}, or type 'n' to start a new calculation: \") == 'y':\n",
    "      num1 = answer\n",
    "    else:\n",
    "      should_continue = False\n",
    "      calculator()\n",
    "\n",
    "calculator()"
   ]
  },
  {
   "cell_type": "code",
   "execution_count": 19,
   "id": "5fcf785f",
   "metadata": {},
   "outputs": [
    {
     "name": "stdout",
     "output_type": "stream",
     "text": [
      "Enter the number: 196.5\n",
      "The square root of 196.5 is 14.02.\n"
     ]
    }
   ],
   "source": [
    "# Q1\n",
    "\n",
    "import math\n",
    "\n",
    "def square_root(n):\n",
    "    '''This is a function to find out the square root.'''\n",
    "    a = round(math.sqrt(n), 2)\n",
    "    print(f\"The square root of {n} is {a}.\")\n",
    "n = float(input(\"Enter the number: \"))\n",
    "square_root(n)"
   ]
  },
  {
   "cell_type": "code",
   "execution_count": null,
   "id": "5224190d",
   "metadata": {},
   "outputs": [],
   "source": [
    "# Q2\n"
   ]
  },
  {
   "cell_type": "code",
   "execution_count": 20,
   "id": "dc9e45f5",
   "metadata": {},
   "outputs": [
    {
     "name": "stdout",
     "output_type": "stream",
     "text": [
      "87\n"
     ]
    }
   ],
   "source": [
    "# Q3\n",
    "\n",
    "def highest_number():\n",
    "    '''This is a function to find out the highest number out of these four numbers.'''\n",
    "    l = [23,87,65,29]\n",
    "    l.sort()\n",
    "    print(l[3])\n",
    "    \n",
    "highest_number()"
   ]
  },
  {
   "cell_type": "code",
   "execution_count": 8,
   "id": "18fd8b1f",
   "metadata": {},
   "outputs": [
    {
     "name": "stdout",
     "output_type": "stream",
     "text": [
      "Enter the radius of the circle in cm: 2.5\n",
      "The area of the circle is 19.64 cm^2.\n"
     ]
    }
   ],
   "source": [
    "# Q4\n",
    "\n",
    "def calc_area(r):\n",
    "    '''This function will generate the area of circle!'''\n",
    "    area = round((22/7)*r*r, 2)\n",
    "    print(f\"The area of the circle is {area} cm^2.\")\n",
    "radius = float(input(\"Enter the radius of the circle in cm: \"))\n",
    "calc_area(r=radius)"
   ]
  },
  {
   "cell_type": "code",
   "execution_count": 26,
   "id": "747c90d6",
   "metadata": {},
   "outputs": [
    {
     "name": "stdout",
     "output_type": "stream",
     "text": [
      "4932\n"
     ]
    }
   ],
   "source": [
    "# Q5\n",
    "\n",
    "import random\n",
    "\n",
    "list = range(0,10000)\n",
    "def ran_num():\n",
    "    '''This function will randomly pick out a number between 0 and 10000'''\n",
    "    for a in list:\n",
    "        x = random.choice(list)\n",
    "    print(x)\n",
    "ran_num()"
   ]
  },
  {
   "cell_type": "code",
   "execution_count": 20,
   "id": "1e937e5c",
   "metadata": {},
   "outputs": [
    {
     "name": "stdout",
     "output_type": "stream",
     "text": [
      "The average is 51.143.\n"
     ]
    }
   ],
   "source": [
    "# Q6\n",
    "\n",
    "list = [12,45,87,98,56,32,28]\n",
    "length=len(list)\n",
    "def average():\n",
    "    a=0\n",
    "    '''This function will return the average of N numbers'''\n",
    "    for num in list:\n",
    "        a=a+num\n",
    "    avg = round(a/length , 3)\n",
    "    print(f\"The average is {avg}.\")\n",
    "average()"
   ]
  },
  {
   "cell_type": "code",
   "execution_count": 28,
   "id": "469b1a90",
   "metadata": {},
   "outputs": [
    {
     "name": "stdout",
     "output_type": "stream",
     "text": [
      "Enter the number to generate its factorial: 6\n",
      "6! = 720\n"
     ]
    }
   ],
   "source": [
    "# Q7\n",
    "\n",
    "def factorial():\n",
    "    '''This function will generate the factorial of a number.'''\n",
    "    a = 1\n",
    "    n = int(input(\"Enter the number to generate its factorial: \"))\n",
    "    for num in range(1,n+1):\n",
    "        a = a*num\n",
    "    print(f\"{n}! = {a}\")\n",
    "factorial()"
   ]
  },
  {
   "cell_type": "code",
   "execution_count": 29,
   "id": "a5b25bc3",
   "metadata": {},
   "outputs": [
    {
     "name": "stdout",
     "output_type": "stream",
     "text": [
      "Enter the year = 1800\n",
      "It is not a leap year.\n"
     ]
    }
   ],
   "source": [
    "# Q8\n",
    "\n",
    "def leap_year():\n",
    "    '''This function will determine whether a year is leap year or not.'''\n",
    "    y = int(input(\"Enter the year = \"))\n",
    "    if (y%4 == 0 and y%100 != 0) or (y%400 == 0):\n",
    "        print(\"It is a leap year.\")\n",
    "    else:\n",
    "        print(\"It is not a leap year.\")\n",
    "leap_year()"
   ]
  },
  {
   "cell_type": "code",
   "execution_count": 7,
   "id": "19b50ec3",
   "metadata": {},
   "outputs": [
    {
     "name": "stdout",
     "output_type": "stream",
     "text": [
      "Enter the number of rows: 15\n",
      "       *\n",
      "      ***\n",
      "     *****\n",
      "    *******\n",
      "   *********\n",
      "  ***********\n",
      " *************\n",
      "***************\n",
      " *************\n",
      "  ***********\n",
      "   *********\n",
      "    *******\n",
      "     *****\n",
      "      ***\n",
      "       *\n"
     ]
    }
   ],
   "source": [
    "# Q9\n",
    "\n",
    "def diamond():\n",
    "    '''This function will create a diamond of the specified rows.'''\n",
    "    n = int(input(\"Enter the number of rows: \"))\n",
    "    for i in range(1, n+2, 2):\n",
    "        print((\" \" * ((n-i)//2)) + (\"*\" * i))\n",
    "    for i in range(n-2, 0, -2):\n",
    "        print((\" \" * ((n-i)//2)) + (\"*\" * i))\n",
    "diamond()"
   ]
  },
  {
   "cell_type": "code",
   "execution_count": 12,
   "id": "32e9ca8e",
   "metadata": {},
   "outputs": [
    {
     "name": "stdout",
     "output_type": "stream",
     "text": [
      "2 3 5 7 11 13 17 19 23 29 31 37 41 43 47 53 59 61 67 71 73 79 83 89 97 101 103 107 109 113 127 131 137 139 149 151 157 163 167 173 179 181 191 193 197 199 211 223 227 229 233 239 241 251 257 263 269 271 277 281 283 293 307 311 313 317 331 337 347 349 353 359 367 373 379 383 389 397 401 409 419 421 431 433 439 443 449 457 461 463 467 479 487 491 499 503 509 521 523 541 547 557 563 569 571 577 587 593 599 601 607 613 617 619 631 641 643 647 653 659 661 673 677 683 691 701 709 719 727 733 739 743 751 757 761 769 773 787 797 809 811 821 823 827 829 839 853 857 859 863 877 881 883 887 907 911 919 929 937 941 947 953 967 971 977 983 991 997 "
     ]
    }
   ],
   "source": [
    "# Q10\n",
    "\n",
    "def prime_checker():\n",
    "    '''This function will fetch all the prime numbers between 1 and 1000.'''\n",
    "    for num in range(2, 1001):\n",
    "        for i in range(2, num):\n",
    "            if (num % i) == 0:\n",
    "                break\n",
    "        else:\n",
    "            print(num, end = \" \")\n",
    "prime_checker()"
   ]
  },
  {
   "cell_type": "code",
   "execution_count": 17,
   "id": "8f940b5b",
   "metadata": {},
   "outputs": [
    {
     "name": "stdout",
     "output_type": "stream",
     "text": [
      "Enter a word : RaceCar\n",
      "This word is a palindrome\n"
     ]
    }
   ],
   "source": [
    "# Q12\n",
    "\n",
    "s = (input('Enter a word : ')).lower()\n",
    "def palindrome():\n",
    "    '''This functon will determine whether a word is a palindrome or not.'''\n",
    "    if s[::-1] == s:\n",
    "        print('This word is a palindrome.')\n",
    "    else:\n",
    "        print('This word is not a palindrome.')\n",
    "palindrome()"
   ]
  },
  {
   "cell_type": "code",
   "execution_count": null,
   "id": "a13215e8",
   "metadata": {},
   "outputs": [],
   "source": []
  }
 ],
 "metadata": {
  "kernelspec": {
   "display_name": "Python 3 (ipykernel)",
   "language": "python",
   "name": "python3"
  },
  "language_info": {
   "codemirror_mode": {
    "name": "ipython",
    "version": 3
   },
   "file_extension": ".py",
   "mimetype": "text/x-python",
   "name": "python",
   "nbconvert_exporter": "python",
   "pygments_lexer": "ipython3",
   "version": "3.9.13"
  }
 },
 "nbformat": 4,
 "nbformat_minor": 5
}
