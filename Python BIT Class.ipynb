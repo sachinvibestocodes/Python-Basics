{
 "cells": [
  {
   "cell_type": "code",
   "execution_count": 1,
   "id": "740905a8",
   "metadata": {},
   "outputs": [
    {
     "name": "stdout",
     "output_type": "stream",
     "text": [
      "Hello world\n"
     ]
    }
   ],
   "source": [
    "print ('Hello world')"
   ]
  },
  {
   "cell_type": "code",
   "execution_count": 2,
   "id": "afdab236",
   "metadata": {},
   "outputs": [],
   "source": [
    "a=5"
   ]
  },
  {
   "cell_type": "code",
   "execution_count": 3,
   "id": "44d732f4",
   "metadata": {},
   "outputs": [
    {
     "data": {
      "text/plain": [
       "5"
      ]
     },
     "execution_count": 3,
     "metadata": {},
     "output_type": "execute_result"
    }
   ],
   "source": [
    "a"
   ]
  },
  {
   "cell_type": "code",
   "execution_count": 4,
   "id": "9e7df523",
   "metadata": {},
   "outputs": [
    {
     "data": {
      "text/plain": [
       "int"
      ]
     },
     "execution_count": 4,
     "metadata": {},
     "output_type": "execute_result"
    }
   ],
   "source": [
    "type(a)"
   ]
  },
  {
   "cell_type": "code",
   "execution_count": 5,
   "id": "9a4710e1",
   "metadata": {},
   "outputs": [],
   "source": [
    "c=6.7"
   ]
  },
  {
   "cell_type": "code",
   "execution_count": 6,
   "id": "2a257915",
   "metadata": {},
   "outputs": [
    {
     "data": {
      "text/plain": [
       "float"
      ]
     },
     "execution_count": 6,
     "metadata": {},
     "output_type": "execute_result"
    }
   ],
   "source": [
    "type(c\n",
    ")"
   ]
  },
  {
   "cell_type": "code",
   "execution_count": 7,
   "id": "5f5293c1",
   "metadata": {},
   "outputs": [
    {
     "ename": "SyntaxError",
     "evalue": "invalid syntax (689078327.py, line 1)",
     "output_type": "error",
     "traceback": [
      "\u001b[1;36m  File \u001b[1;32m\"C:\\Users\\lenovo\\AppData\\Local\\Temp\\ipykernel_7220\\689078327.py\"\u001b[1;36m, line \u001b[1;32m1\u001b[0m\n\u001b[1;33m    type c\u001b[0m\n\u001b[1;37m         ^\u001b[0m\n\u001b[1;31mSyntaxError\u001b[0m\u001b[1;31m:\u001b[0m invalid syntax\n"
     ]
    }
   ],
   "source": [
    "type c"
   ]
  },
  {
   "cell_type": "code",
   "execution_count": 8,
   "id": "0f2fea55",
   "metadata": {},
   "outputs": [
    {
     "data": {
      "text/plain": [
       "float"
      ]
     },
     "execution_count": 8,
     "metadata": {},
     "output_type": "execute_result"
    }
   ],
   "source": [
    "type(c)"
   ]
  },
  {
   "cell_type": "code",
   "execution_count": 9,
   "id": "79dcb461",
   "metadata": {},
   "outputs": [
    {
     "ename": "NameError",
     "evalue": "name 'b' is not defined",
     "output_type": "error",
     "traceback": [
      "\u001b[1;31m---------------------------------------------------------------------------\u001b[0m",
      "\u001b[1;31mNameError\u001b[0m                                 Traceback (most recent call last)",
      "\u001b[1;32m~\\AppData\\Local\\Temp\\ipykernel_7220\\3553919051.py\u001b[0m in \u001b[0;36m<module>\u001b[1;34m\u001b[0m\n\u001b[1;32m----> 1\u001b[1;33m \u001b[0ma\u001b[0m\u001b[1;33m+\u001b[0m\u001b[0mb\u001b[0m\u001b[1;33m\u001b[0m\u001b[1;33m\u001b[0m\u001b[0m\n\u001b[0m",
      "\u001b[1;31mNameError\u001b[0m: name 'b' is not defined"
     ]
    }
   ],
   "source": [
    "a+b"
   ]
  },
  {
   "cell_type": "code",
   "execution_count": 10,
   "id": "c2c45f50",
   "metadata": {},
   "outputs": [
    {
     "data": {
      "text/plain": [
       "11.7"
      ]
     },
     "execution_count": 10,
     "metadata": {},
     "output_type": "execute_result"
    }
   ],
   "source": [
    "a+c"
   ]
  },
  {
   "cell_type": "code",
   "execution_count": 11,
   "id": "efa3e299",
   "metadata": {},
   "outputs": [
    {
     "ename": "NameError",
     "evalue": "name 'Sachin' is not defined",
     "output_type": "error",
     "traceback": [
      "\u001b[1;31m---------------------------------------------------------------------------\u001b[0m",
      "\u001b[1;31mNameError\u001b[0m                                 Traceback (most recent call last)",
      "\u001b[1;32m~\\AppData\\Local\\Temp\\ipykernel_7220\\2109436900.py\u001b[0m in \u001b[0;36m<module>\u001b[1;34m\u001b[0m\n\u001b[1;32m----> 1\u001b[1;33m \u001b[0mn\u001b[0m\u001b[1;33m=\u001b[0m\u001b[0mSachin\u001b[0m\u001b[1;33m\u001b[0m\u001b[1;33m\u001b[0m\u001b[0m\n\u001b[0m",
      "\u001b[1;31mNameError\u001b[0m: name 'Sachin' is not defined"
     ]
    }
   ],
   "source": [
    "n=Sachin"
   ]
  },
  {
   "cell_type": "code",
   "execution_count": 12,
   "id": "e9e6416c",
   "metadata": {},
   "outputs": [
    {
     "ename": "NameError",
     "evalue": "name 'Sachin' is not defined",
     "output_type": "error",
     "traceback": [
      "\u001b[1;31m---------------------------------------------------------------------------\u001b[0m",
      "\u001b[1;31mNameError\u001b[0m                                 Traceback (most recent call last)",
      "\u001b[1;32m~\\AppData\\Local\\Temp\\ipykernel_7220\\2109436900.py\u001b[0m in \u001b[0;36m<module>\u001b[1;34m\u001b[0m\n\u001b[1;32m----> 1\u001b[1;33m \u001b[0mn\u001b[0m\u001b[1;33m=\u001b[0m\u001b[0mSachin\u001b[0m\u001b[1;33m\u001b[0m\u001b[1;33m\u001b[0m\u001b[0m\n\u001b[0m",
      "\u001b[1;31mNameError\u001b[0m: name 'Sachin' is not defined"
     ]
    }
   ],
   "source": [
    "n=Sachin"
   ]
  },
  {
   "cell_type": "code",
   "execution_count": 13,
   "id": "a9a24a35",
   "metadata": {},
   "outputs": [
    {
     "ename": "NameError",
     "evalue": "name 'Sachin' is not defined",
     "output_type": "error",
     "traceback": [
      "\u001b[1;31m---------------------------------------------------------------------------\u001b[0m",
      "\u001b[1;31mNameError\u001b[0m                                 Traceback (most recent call last)",
      "\u001b[1;32m~\\AppData\\Local\\Temp\\ipykernel_7220\\4028369132.py\u001b[0m in \u001b[0;36m<module>\u001b[1;34m\u001b[0m\n\u001b[1;32m----> 1\u001b[1;33m \u001b[0ms1\u001b[0m\u001b[1;33m=\u001b[0m\u001b[0mSachin\u001b[0m\u001b[1;33m\u001b[0m\u001b[1;33m\u001b[0m\u001b[0m\n\u001b[0m",
      "\u001b[1;31mNameError\u001b[0m: name 'Sachin' is not defined"
     ]
    }
   ],
   "source": [
    "s1=Sachin"
   ]
  },
  {
   "cell_type": "code",
   "execution_count": 3,
   "id": "e1db6fec",
   "metadata": {},
   "outputs": [
    {
     "ename": "NameError",
     "evalue": "name 'a' is not defined",
     "output_type": "error",
     "traceback": [
      "\u001b[1;31m---------------------------------------------------------------------------\u001b[0m",
      "\u001b[1;31mNameError\u001b[0m                                 Traceback (most recent call last)",
      "\u001b[1;32m~\\AppData\\Local\\Temp\\ipykernel_14544\\2167009006.py\u001b[0m in \u001b[0;36m<module>\u001b[1;34m\u001b[0m\n\u001b[1;32m----> 1\u001b[1;33m \u001b[0ma\u001b[0m\u001b[1;33m\u001b[0m\u001b[1;33m\u001b[0m\u001b[0m\n\u001b[0m",
      "\u001b[1;31mNameError\u001b[0m: name 'a' is not defined"
     ]
    }
   ],
   "source": [
    "a"
   ]
  },
  {
   "cell_type": "code",
   "execution_count": 5,
   "id": "e86acc0d",
   "metadata": {},
   "outputs": [
    {
     "ename": "NameError",
     "evalue": "name 'c' is not defined",
     "output_type": "error",
     "traceback": [
      "\u001b[1;31m---------------------------------------------------------------------------\u001b[0m",
      "\u001b[1;31mNameError\u001b[0m                                 Traceback (most recent call last)",
      "\u001b[1;32m~\\AppData\\Local\\Temp\\ipykernel_14544\\3235490055.py\u001b[0m in \u001b[0;36m<module>\u001b[1;34m\u001b[0m\n\u001b[1;32m----> 1\u001b[1;33m \u001b[0mc\u001b[0m\u001b[1;33m\u001b[0m\u001b[1;33m\u001b[0m\u001b[0m\n\u001b[0m",
      "\u001b[1;31mNameError\u001b[0m: name 'c' is not defined"
     ]
    }
   ],
   "source": [
    "c"
   ]
  },
  {
   "cell_type": "code",
   "execution_count": 16,
   "id": "4cba0173",
   "metadata": {},
   "outputs": [
    {
     "ename": "NameError",
     "evalue": "name 'b' is not defined",
     "output_type": "error",
     "traceback": [
      "\u001b[1;31m---------------------------------------------------------------------------\u001b[0m",
      "\u001b[1;31mNameError\u001b[0m                                 Traceback (most recent call last)",
      "\u001b[1;32m~\\AppData\\Local\\Temp\\ipykernel_7220\\1625861875.py\u001b[0m in \u001b[0;36m<module>\u001b[1;34m\u001b[0m\n\u001b[1;32m----> 1\u001b[1;33m \u001b[0ma\u001b[0m\u001b[1;33m>\u001b[0m\u001b[0mb\u001b[0m\u001b[1;33m\u001b[0m\u001b[1;33m\u001b[0m\u001b[0m\n\u001b[0m",
      "\u001b[1;31mNameError\u001b[0m: name 'b' is not defined"
     ]
    }
   ],
   "source": [
    "a>b"
   ]
  },
  {
   "cell_type": "code",
   "execution_count": 17,
   "id": "87a824b8",
   "metadata": {},
   "outputs": [
    {
     "data": {
      "text/plain": [
       "False"
      ]
     },
     "execution_count": 17,
     "metadata": {},
     "output_type": "execute_result"
    }
   ],
   "source": [
    "a>c"
   ]
  },
  {
   "cell_type": "code",
   "execution_count": 18,
   "id": "202be50c",
   "metadata": {},
   "outputs": [
    {
     "data": {
      "text/plain": [
       "True"
      ]
     },
     "execution_count": 18,
     "metadata": {},
     "output_type": "execute_result"
    }
   ],
   "source": [
    "c>a"
   ]
  },
  {
   "cell_type": "code",
   "execution_count": 19,
   "id": "ff349877",
   "metadata": {},
   "outputs": [],
   "source": [
    "s1=\"Sachin\""
   ]
  },
  {
   "cell_type": "code",
   "execution_count": 20,
   "id": "7dfa609a",
   "metadata": {},
   "outputs": [],
   "source": [
    "s2=\"Subhash\""
   ]
  },
  {
   "cell_type": "code",
   "execution_count": 21,
   "id": "87ddfc13",
   "metadata": {},
   "outputs": [
    {
     "data": {
      "text/plain": [
       "'SachinSubhash'"
      ]
     },
     "execution_count": 21,
     "metadata": {},
     "output_type": "execute_result"
    }
   ],
   "source": [
    "s1+s2"
   ]
  },
  {
   "cell_type": "code",
   "execution_count": 22,
   "id": "5300bd1e",
   "metadata": {},
   "outputs": [
    {
     "ename": "SyntaxError",
     "evalue": "invalid syntax (3517891890.py, line 1)",
     "output_type": "error",
     "traceback": [
      "\u001b[1;36m  File \u001b[1;32m\"C:\\Users\\lenovo\\AppData\\Local\\Temp\\ipykernel_7220\\3517891890.py\"\u001b[1;36m, line \u001b[1;32m1\u001b[0m\n\u001b[1;33m    s1+\"\"s2\u001b[0m\n\u001b[1;37m         ^\u001b[0m\n\u001b[1;31mSyntaxError\u001b[0m\u001b[1;31m:\u001b[0m invalid syntax\n"
     ]
    }
   ],
   "source": [
    "s1+\"\"s2"
   ]
  },
  {
   "cell_type": "code",
   "execution_count": 23,
   "id": "3b62a496",
   "metadata": {},
   "outputs": [
    {
     "data": {
      "text/plain": [
       "5"
      ]
     },
     "execution_count": 23,
     "metadata": {},
     "output_type": "execute_result"
    }
   ],
   "source": [
    "a"
   ]
  },
  {
   "cell_type": "code",
   "execution_count": 24,
   "id": "99f7fdc8",
   "metadata": {},
   "outputs": [],
   "source": [
    "# List"
   ]
  },
  {
   "cell_type": "code",
   "execution_count": 25,
   "id": "f85c4500",
   "metadata": {},
   "outputs": [],
   "source": [
    "l = [2,4,6,'Sachin',100]"
   ]
  },
  {
   "cell_type": "code",
   "execution_count": 26,
   "id": "7c0d1d95",
   "metadata": {},
   "outputs": [
    {
     "data": {
      "text/plain": [
       "'Sachin'"
      ]
     },
     "execution_count": 26,
     "metadata": {},
     "output_type": "execute_result"
    }
   ],
   "source": [
    "l[-2]"
   ]
  },
  {
   "cell_type": "code",
   "execution_count": 27,
   "id": "c151e451",
   "metadata": {},
   "outputs": [
    {
     "data": {
      "text/plain": [
       "100"
      ]
     },
     "execution_count": 27,
     "metadata": {},
     "output_type": "execute_result"
    }
   ],
   "source": [
    "l[-1]"
   ]
  },
  {
   "cell_type": "code",
   "execution_count": 28,
   "id": "6be96fc5",
   "metadata": {},
   "outputs": [],
   "source": [
    "l[-3]=125"
   ]
  },
  {
   "cell_type": "code",
   "execution_count": null,
   "id": "e08bb01d",
   "metadata": {},
   "outputs": [],
   "source": []
  },
  {
   "cell_type": "code",
   "execution_count": 29,
   "id": "7f8d363c",
   "metadata": {},
   "outputs": [
    {
     "data": {
      "text/plain": [
       "[2, 4, 125, 'Sachin', 100]"
      ]
     },
     "execution_count": 29,
     "metadata": {},
     "output_type": "execute_result"
    }
   ],
   "source": [
    "l"
   ]
  },
  {
   "cell_type": "code",
   "execution_count": 34,
   "id": "908e658b",
   "metadata": {},
   "outputs": [],
   "source": [
    "# tuple\n",
    "t=(2,4,6,'Sachin',100, [7,8])"
   ]
  },
  {
   "cell_type": "code",
   "execution_count": 35,
   "id": "ada63749",
   "metadata": {},
   "outputs": [
    {
     "data": {
      "text/plain": [
       "7"
      ]
     },
     "execution_count": 35,
     "metadata": {},
     "output_type": "execute_result"
    }
   ],
   "source": [
    "t[-1][0]"
   ]
  },
  {
   "cell_type": "code",
   "execution_count": 32,
   "id": "d2618663",
   "metadata": {},
   "outputs": [
    {
     "ename": "TypeError",
     "evalue": "'tuple' object is not callable",
     "output_type": "error",
     "traceback": [
      "\u001b[1;31m---------------------------------------------------------------------------\u001b[0m",
      "\u001b[1;31mTypeError\u001b[0m                                 Traceback (most recent call last)",
      "\u001b[1;32m~\\AppData\\Local\\Temp\\ipykernel_7220\\910297362.py\u001b[0m in \u001b[0;36m<module>\u001b[1;34m\u001b[0m\n\u001b[1;32m----> 1\u001b[1;33m \u001b[0mt\u001b[0m\u001b[1;33m(\u001b[0m\u001b[1;36m4\u001b[0m\u001b[1;33m)\u001b[0m\u001b[1;33m\u001b[0m\u001b[1;33m\u001b[0m\u001b[0m\n\u001b[0m",
      "\u001b[1;31mTypeError\u001b[0m: 'tuple' object is not callable"
     ]
    }
   ],
   "source": [
    "t(4)"
   ]
  },
  {
   "cell_type": "code",
   "execution_count": 38,
   "id": "f2c1fa74",
   "metadata": {},
   "outputs": [
    {
     "ename": "TypeError",
     "evalue": "unhashable type: 'list'",
     "output_type": "error",
     "traceback": [
      "\u001b[1;31m---------------------------------------------------------------------------\u001b[0m",
      "\u001b[1;31mTypeError\u001b[0m                                 Traceback (most recent call last)",
      "\u001b[1;32m~\\AppData\\Local\\Temp\\ipykernel_7220\\2063819222.py\u001b[0m in \u001b[0;36m<module>\u001b[1;34m\u001b[0m\n\u001b[0;32m      1\u001b[0m \u001b[1;31m# sets\u001b[0m\u001b[1;33m\u001b[0m\u001b[1;33m\u001b[0m\u001b[0m\n\u001b[1;32m----> 2\u001b[1;33m \u001b[0ms\u001b[0m \u001b[1;33m=\u001b[0m \u001b[1;33m{\u001b[0m\u001b[1;36m3\u001b[0m\u001b[1;33m,\u001b[0m \u001b[1;36m4\u001b[0m\u001b[1;33m,\u001b[0m \u001b[1;36m5\u001b[0m\u001b[1;33m,\u001b[0m \u001b[1;36m6\u001b[0m\u001b[1;33m,\u001b[0m \u001b[1;34m'Sachin'\u001b[0m\u001b[1;33m,\u001b[0m \u001b[1;36m8\u001b[0m\u001b[1;33m,\u001b[0m \u001b[1;36m9.5\u001b[0m\u001b[1;33m,\u001b[0m \u001b[1;36m8\u001b[0m\u001b[1;33m,\u001b[0m \u001b[1;33m[\u001b[0m\u001b[1;36m1\u001b[0m\u001b[1;33m,\u001b[0m\u001b[1;36m2\u001b[0m\u001b[1;33m]\u001b[0m\u001b[1;33m}\u001b[0m\u001b[1;33m\u001b[0m\u001b[1;33m\u001b[0m\u001b[0m\n\u001b[0m",
      "\u001b[1;31mTypeError\u001b[0m: unhashable type: 'list'"
     ]
    }
   ],
   "source": [
    "# sets\n",
    "s = {3, 4, 5, 6, 'Sachin', 8, 9.5, 8, [1,2]}"
   ]
  },
  {
   "cell_type": "code",
   "execution_count": 37,
   "id": "7855df6e",
   "metadata": {},
   "outputs": [
    {
     "ename": "TypeError",
     "evalue": "'set' object is not subscriptable",
     "output_type": "error",
     "traceback": [
      "\u001b[1;31m---------------------------------------------------------------------------\u001b[0m",
      "\u001b[1;31mTypeError\u001b[0m                                 Traceback (most recent call last)",
      "\u001b[1;32m~\\AppData\\Local\\Temp\\ipykernel_7220\\1249360391.py\u001b[0m in \u001b[0;36m<module>\u001b[1;34m\u001b[0m\n\u001b[1;32m----> 1\u001b[1;33m \u001b[0ms\u001b[0m\u001b[1;33m[\u001b[0m\u001b[1;33m-\u001b[0m\u001b[1;36m2\u001b[0m\u001b[1;33m]\u001b[0m\u001b[1;33m\u001b[0m\u001b[1;33m\u001b[0m\u001b[0m\n\u001b[0m",
      "\u001b[1;31mTypeError\u001b[0m: 'set' object is not subscriptable"
     ]
    }
   ],
   "source": [
    "s[-2]"
   ]
  },
  {
   "cell_type": "code",
   "execution_count": 9,
   "id": "e9382730",
   "metadata": {},
   "outputs": [],
   "source": [
    "# dictonary\n",
    "\n",
    "d = {1:'j', 2:'k', 3:[4,5,6]}"
   ]
  },
  {
   "cell_type": "code",
   "execution_count": 10,
   "id": "9d32201c",
   "metadata": {},
   "outputs": [
    {
     "data": {
      "text/plain": [
       "'k'"
      ]
     },
     "execution_count": 10,
     "metadata": {},
     "output_type": "execute_result"
    }
   ],
   "source": [
    "d[2]"
   ]
  },
  {
   "cell_type": "code",
   "execution_count": 11,
   "id": "292d96ba",
   "metadata": {},
   "outputs": [],
   "source": [
    "d[3][0] = 3.5"
   ]
  },
  {
   "cell_type": "code",
   "execution_count": 44,
   "id": "ba5bfa61",
   "metadata": {},
   "outputs": [
    {
     "data": {
      "text/plain": [
       "{1: 'j', 2: 'k', 3: [3.5, 5, 6]}"
      ]
     },
     "execution_count": 44,
     "metadata": {},
     "output_type": "execute_result"
    }
   ],
   "source": [
    "d"
   ]
  },
  {
   "cell_type": "code",
   "execution_count": 47,
   "id": "4598bbc2",
   "metadata": {},
   "outputs": [
    {
     "data": {
      "text/plain": [
       "dict_values(['j', 'k', [3.5, 5, 6]])"
      ]
     },
     "execution_count": 47,
     "metadata": {},
     "output_type": "execute_result"
    }
   ],
   "source": [
    "d.values()"
   ]
  },
  {
   "cell_type": "code",
   "execution_count": 48,
   "id": "8a029a3b",
   "metadata": {},
   "outputs": [],
   "source": [
    "d['x']=200"
   ]
  },
  {
   "cell_type": "code",
   "execution_count": 49,
   "id": "7bf5982d",
   "metadata": {},
   "outputs": [
    {
     "data": {
      "text/plain": [
       "{1: 'j', 2: 'k', 3: [3.5, 5, 6], 'x': 200}"
      ]
     },
     "execution_count": 49,
     "metadata": {},
     "output_type": "execute_result"
    }
   ],
   "source": [
    "d"
   ]
  },
  {
   "cell_type": "code",
   "execution_count": 50,
   "id": "314d8c5a",
   "metadata": {},
   "outputs": [
    {
     "data": {
      "text/plain": [
       "{1: 'j', 2: 'k', 3: [3.5, 5, 6], 'x': 200}"
      ]
     },
     "execution_count": 50,
     "metadata": {},
     "output_type": "execute_result"
    }
   ],
   "source": [
    "d"
   ]
  },
  {
   "cell_type": "code",
   "execution_count": 51,
   "id": "b70491e6",
   "metadata": {},
   "outputs": [
    {
     "data": {
      "text/plain": [
       "{1: 'j', 2: 'k', 3: [3.5, 5, 6], 'x': 200}"
      ]
     },
     "execution_count": 51,
     "metadata": {},
     "output_type": "execute_result"
    }
   ],
   "source": [
    "d"
   ]
  },
  {
   "cell_type": "code",
   "execution_count": 53,
   "id": "08c2bcd0",
   "metadata": {},
   "outputs": [],
   "source": [
    "d['y']=300"
   ]
  },
  {
   "cell_type": "code",
   "execution_count": 54,
   "id": "bf7be3c5",
   "metadata": {},
   "outputs": [
    {
     "data": {
      "text/plain": [
       "{1: 'j', 2: 'k', 3: [3.5, 5, 6], 'x': 200, 'y': 300}"
      ]
     },
     "execution_count": 54,
     "metadata": {},
     "output_type": "execute_result"
    }
   ],
   "source": [
    "d"
   ]
  },
  {
   "cell_type": "code",
   "execution_count": 55,
   "id": "88643c34",
   "metadata": {},
   "outputs": [],
   "source": [
    "x = {\n",
    "   \"id\":\"0001\",\n",
    "   \"type\":\"donut\",\n",
    "   \"name\":\"Cake\",\n",
    "   \"ppu\":0.55,\n",
    "   \"batters\":{\n",
    "      \"batter\":[\n",
    "         {\n",
    "            \"id\":\"1001\",\n",
    "            \"type\":\"Regular\"\n",
    "         },\n",
    "         {\n",
    "            \"id\":\"1002\",\n",
    "            \"type\":\"Chocolate\"\n",
    "         },\n",
    "         {\n",
    "            \"id\":\"1003\",\n",
    "            \"type\":\"Blueberry\"\n",
    "         },\n",
    "         {\n",
    "            \"id\":\"1004\",\n",
    "            \"type\":\"Devil's Food\"\n",
    "         }\n",
    "      ]\n",
    "   },\n",
    "   \"topping\":[\n",
    "      {\n",
    "         \"id\":\"5001\",\n",
    "         \"type\":\"None\"\n",
    "      },\n",
    "      {\n",
    "         \"id\":\"5002\",\n",
    "         \"type\":\"Glazed\"\n",
    "      },\n",
    "      {\n",
    "         \"id\":\"5005\",\n",
    "         \"type\":\"Sugar\"\n",
    "      },\n",
    "      {\n",
    "         \"id\":\"5007\",\n",
    "         \"type\":\"Powdered Sugar\"\n",
    "      },\n",
    "      {\n",
    "         \"id\":\"5006\",\n",
    "         \"type\":\"Chocolate with Sprinkles\"\n",
    "      },\n",
    "      {\n",
    "         \"id\":\"5003\",\n",
    "         \"type\":\"Chocolate\"\n",
    "      },\n",
    "      {\n",
    "         \"id\":\"5004\",\n",
    "         \"type\":\"Maple\"\n",
    "      }\n",
    "   ]\n",
    "}"
   ]
  },
  {
   "cell_type": "code",
   "execution_count": 56,
   "id": "dc5af779",
   "metadata": {},
   "outputs": [
    {
     "data": {
      "text/plain": [
       "{'id': '0001',\n",
       " 'type': 'donut',\n",
       " 'name': 'Cake',\n",
       " 'ppu': 0.55,\n",
       " 'batters': {'batter': [{'id': '1001', 'type': 'Regular'},\n",
       "   {'id': '1002', 'type': 'Chocolate'},\n",
       "   {'id': '1003', 'type': 'Blueberry'},\n",
       "   {'id': '1004', 'type': \"Devil's Food\"}]},\n",
       " 'topping': [{'id': '5001', 'type': 'None'},\n",
       "  {'id': '5002', 'type': 'Glazed'},\n",
       "  {'id': '5005', 'type': 'Sugar'},\n",
       "  {'id': '5007', 'type': 'Powdered Sugar'},\n",
       "  {'id': '5006', 'type': 'Chocolate with Sprinkles'},\n",
       "  {'id': '5003', 'type': 'Chocolate'},\n",
       "  {'id': '5004', 'type': 'Maple'}]}"
      ]
     },
     "execution_count": 56,
     "metadata": {},
     "output_type": "execute_result"
    }
   ],
   "source": [
    "x"
   ]
  },
  {
   "cell_type": "code",
   "execution_count": 57,
   "id": "94180aaa",
   "metadata": {},
   "outputs": [
    {
     "ename": "IndexError",
     "evalue": "list index out of range",
     "output_type": "error",
     "traceback": [
      "\u001b[1;31m---------------------------------------------------------------------------\u001b[0m",
      "\u001b[1;31mIndexError\u001b[0m                                Traceback (most recent call last)",
      "\u001b[1;32m~\\AppData\\Local\\Temp\\ipykernel_7220\\1184553892.py\u001b[0m in \u001b[0;36m<module>\u001b[1;34m\u001b[0m\n\u001b[1;32m----> 1\u001b[1;33m \u001b[0mx\u001b[0m\u001b[1;33m=\u001b[0m\u001b[1;33m[\u001b[0m\u001b[1;34m'topping'\u001b[0m\u001b[1;33m]\u001b[0m\u001b[1;33m[\u001b[0m\u001b[1;36m2\u001b[0m\u001b[1;33m]\u001b[0m\u001b[1;33m\u001b[0m\u001b[1;33m\u001b[0m\u001b[0m\n\u001b[0m",
      "\u001b[1;31mIndexError\u001b[0m: list index out of range"
     ]
    }
   ],
   "source": [
    "x=['topping'][2]"
   ]
  },
  {
   "cell_type": "code",
   "execution_count": 1,
   "id": "f6acefb7",
   "metadata": {},
   "outputs": [
    {
     "ename": "NameError",
     "evalue": "name 'x' is not defined",
     "output_type": "error",
     "traceback": [
      "\u001b[1;31m---------------------------------------------------------------------------\u001b[0m",
      "\u001b[1;31mNameError\u001b[0m                                 Traceback (most recent call last)",
      "\u001b[1;32m~\\AppData\\Local\\Temp\\ipykernel_5052\\3673690269.py\u001b[0m in \u001b[0;36m<module>\u001b[1;34m\u001b[0m\n\u001b[1;32m----> 1\u001b[1;33m \u001b[0mx\u001b[0m\u001b[1;33m[\u001b[0m\u001b[1;34m'topping'\u001b[0m\u001b[1;33m]\u001b[0m\u001b[1;33m\u001b[0m\u001b[1;33m\u001b[0m\u001b[0m\n\u001b[0m",
      "\u001b[1;31mNameError\u001b[0m: name 'x' is not defined"
     ]
    }
   ],
   "source": [
    "x['topping']"
   ]
  },
  {
   "cell_type": "code",
   "execution_count": 62,
   "id": "d273dda7",
   "metadata": {},
   "outputs": [],
   "source": [
    "a=5"
   ]
  },
  {
   "cell_type": "code",
   "execution_count": 63,
   "id": "054803c6",
   "metadata": {},
   "outputs": [],
   "source": [
    "b=8"
   ]
  },
  {
   "cell_type": "code",
   "execution_count": 66,
   "id": "15a79479",
   "metadata": {},
   "outputs": [
    {
     "name": "stdout",
     "output_type": "stream",
     "text": [
      "8\n"
     ]
    }
   ],
   "source": [
    "if a<b:\n",
    "    print(b)\n",
    "else:\n",
    "        print(a)"
   ]
  },
  {
   "cell_type": "code",
   "execution_count": 65,
   "id": "0667645b",
   "metadata": {},
   "outputs": [
    {
     "name": "stdout",
     "output_type": "stream",
     "text": [
      "8\n"
     ]
    }
   ],
   "source": [
    "if a<b:\n",
    "    print(b)\n",
    "else:\n",
    "    print(a)"
   ]
  },
  {
   "cell_type": "code",
   "execution_count": 2,
   "id": "5237d422",
   "metadata": {},
   "outputs": [
    {
     "ename": "NameError",
     "evalue": "name 'x' is not defined",
     "output_type": "error",
     "traceback": [
      "\u001b[1;31m---------------------------------------------------------------------------\u001b[0m",
      "\u001b[1;31mNameError\u001b[0m                                 Traceback (most recent call last)",
      "\u001b[1;32m~\\AppData\\Local\\Temp\\ipykernel_5052\\32546335.py\u001b[0m in \u001b[0;36m<module>\u001b[1;34m\u001b[0m\n\u001b[1;32m----> 1\u001b[1;33m \u001b[0mx\u001b[0m\u001b[1;33m\u001b[0m\u001b[1;33m\u001b[0m\u001b[0m\n\u001b[0m",
      "\u001b[1;31mNameError\u001b[0m: name 'x' is not defined"
     ]
    }
   ],
   "source": [
    "x"
   ]
  },
  {
   "cell_type": "code",
   "execution_count": 3,
   "id": "2a437c8d",
   "metadata": {},
   "outputs": [],
   "source": [
    "x = {\n",
    "   \"id\":\"0001\",\n",
    "   \"type\":\"donut\",\n",
    "   \"name\":\"Cake\",\n",
    "   \"ppu\":0.55,\n",
    "   \"batters\":{\n",
    "      \"batter\":[\n",
    "         {\n",
    "            \"id\":\"1001\",\n",
    "            \"type\":\"Regular\"\n",
    "         },\n",
    "         {\n",
    "            \"id\":\"1002\",\n",
    "            \"type\":\"Chocolate\"\n",
    "         },\n",
    "         {\n",
    "            \"id\":\"1003\",\n",
    "            \"type\":\"Blueberry\"\n",
    "         },\n",
    "         {\n",
    "            \"id\":\"1004\",\n",
    "            \"type\":\"Devil's Food\"\n",
    "         }\n",
    "      ]\n",
    "   },\n",
    "   \"topping\":[\n",
    "      {\n",
    "         \"id\":\"5001\",\n",
    "         \"type\":\"None\"\n",
    "      },\n",
    "      {\n",
    "         \"id\":\"5002\",\n",
    "         \"type\":\"Glazed\"\n",
    "      },\n",
    "      {\n",
    "         \"id\":\"5005\",\n",
    "         \"type\":\"Sugar\"\n",
    "      },\n",
    "      {\n",
    "         \"id\":\"5007\",\n",
    "         \"type\":\"Powdered Sugar\"\n",
    "      },\n",
    "      {\n",
    "         \"id\":\"5006\",\n",
    "         \"type\":\"Chocolate with Sprinkles\"\n",
    "      },\n",
    "      {\n",
    "         \"id\":\"5003\",\n",
    "         \"type\":\"Chocolate\"\n",
    "      },\n",
    "      {\n",
    "         \"id\":\"5004\",\n",
    "         \"type\":\"Maple\"\n",
    "      }\n",
    "   ]\n",
    "}"
   ]
  },
  {
   "cell_type": "code",
   "execution_count": 4,
   "id": "351a893c",
   "metadata": {},
   "outputs": [
    {
     "data": {
      "text/plain": [
       "{'id': '0001',\n",
       " 'type': 'donut',\n",
       " 'name': 'Cake',\n",
       " 'ppu': 0.55,\n",
       " 'batters': {'batter': [{'id': '1001', 'type': 'Regular'},\n",
       "   {'id': '1002', 'type': 'Chocolate'},\n",
       "   {'id': '1003', 'type': 'Blueberry'},\n",
       "   {'id': '1004', 'type': \"Devil's Food\"}]},\n",
       " 'topping': [{'id': '5001', 'type': 'None'},\n",
       "  {'id': '5002', 'type': 'Glazed'},\n",
       "  {'id': '5005', 'type': 'Sugar'},\n",
       "  {'id': '5007', 'type': 'Powdered Sugar'},\n",
       "  {'id': '5006', 'type': 'Chocolate with Sprinkles'},\n",
       "  {'id': '5003', 'type': 'Chocolate'},\n",
       "  {'id': '5004', 'type': 'Maple'}]}"
      ]
     },
     "execution_count": 4,
     "metadata": {},
     "output_type": "execute_result"
    }
   ],
   "source": [
    "x"
   ]
  },
  {
   "cell_type": "code",
   "execution_count": 5,
   "id": "e5da7643",
   "metadata": {},
   "outputs": [],
   "source": [
    "x=['batters']"
   ]
  },
  {
   "cell_type": "code",
   "execution_count": 6,
   "id": "20b47b29",
   "metadata": {},
   "outputs": [
    {
     "data": {
      "text/plain": [
       "['batters']"
      ]
     },
     "execution_count": 6,
     "metadata": {},
     "output_type": "execute_result"
    }
   ],
   "source": [
    "x"
   ]
  },
  {
   "cell_type": "code",
   "execution_count": 7,
   "id": "39ce44db",
   "metadata": {},
   "outputs": [],
   "source": [
    "x = {\n",
    "   \"id\":\"0001\",\n",
    "   \"type\":\"donut\",\n",
    "   \"name\":\"Cake\",\n",
    "   \"ppu\":0.55,\n",
    "   \"batters\":{\n",
    "      \"batter\":[\n",
    "         {\n",
    "            \"id\":\"1001\",\n",
    "            \"type\":\"Regular\"\n",
    "         },\n",
    "         {\n",
    "            \"id\":\"1002\",\n",
    "            \"type\":\"Chocolate\"\n",
    "         },\n",
    "         {\n",
    "            \"id\":\"1003\",\n",
    "            \"type\":\"Blueberry\"\n",
    "         },\n",
    "         {\n",
    "            \"id\":\"1004\",\n",
    "            \"type\":\"Devil's Food\"\n",
    "         }\n",
    "      ]\n",
    "   },\n",
    "   \"topping\":[\n",
    "      {\n",
    "         \"id\":\"5001\",\n",
    "         \"type\":\"None\"\n",
    "      },\n",
    "      {\n",
    "         \"id\":\"5002\",\n",
    "         \"type\":\"Glazed\"\n",
    "      },\n",
    "      {\n",
    "         \"id\":\"5005\",\n",
    "         \"type\":\"Sugar\"\n",
    "      },\n",
    "      {\n",
    "         \"id\":\"5007\",\n",
    "         \"type\":\"Powdered Sugar\"\n",
    "      },\n",
    "      {\n",
    "         \"id\":\"5006\",\n",
    "         \"type\":\"Chocolate with Sprinkles\"\n",
    "      },\n",
    "      {\n",
    "         \"id\":\"5003\",\n",
    "         \"type\":\"Chocolate\"\n",
    "      },\n",
    "      {\n",
    "         \"id\":\"5004\",\n",
    "         \"type\":\"Maple\"\n",
    "      }\n",
    "   ]\n",
    "}"
   ]
  },
  {
   "cell_type": "code",
   "execution_count": 8,
   "id": "14e1011e",
   "metadata": {},
   "outputs": [
    {
     "data": {
      "text/plain": [
       "{'id': '0001',\n",
       " 'type': 'donut',\n",
       " 'name': 'Cake',\n",
       " 'ppu': 0.55,\n",
       " 'batters': {'batter': [{'id': '1001', 'type': 'Regular'},\n",
       "   {'id': '1002', 'type': 'Chocolate'},\n",
       "   {'id': '1003', 'type': 'Blueberry'},\n",
       "   {'id': '1004', 'type': \"Devil's Food\"}]},\n",
       " 'topping': [{'id': '5001', 'type': 'None'},\n",
       "  {'id': '5002', 'type': 'Glazed'},\n",
       "  {'id': '5005', 'type': 'Sugar'},\n",
       "  {'id': '5007', 'type': 'Powdered Sugar'},\n",
       "  {'id': '5006', 'type': 'Chocolate with Sprinkles'},\n",
       "  {'id': '5003', 'type': 'Chocolate'},\n",
       "  {'id': '5004', 'type': 'Maple'}]}"
      ]
     },
     "execution_count": 8,
     "metadata": {},
     "output_type": "execute_result"
    }
   ],
   "source": [
    "x"
   ]
  },
  {
   "cell_type": "code",
   "execution_count": 25,
   "id": "87817925",
   "metadata": {},
   "outputs": [
    {
     "data": {
      "text/plain": [
       "'Sugar'"
      ]
     },
     "execution_count": 25,
     "metadata": {},
     "output_type": "execute_result"
    }
   ],
   "source": [
    "x['topping'][2]['type']"
   ]
  },
  {
   "cell_type": "code",
   "execution_count": 1,
   "id": "8dfe410c",
   "metadata": {},
   "outputs": [
    {
     "ename": "NameError",
     "evalue": "name 'x' is not defined",
     "output_type": "error",
     "traceback": [
      "\u001b[1;31m---------------------------------------------------------------------------\u001b[0m",
      "\u001b[1;31mNameError\u001b[0m                                 Traceback (most recent call last)",
      "\u001b[1;32m~\\AppData\\Local\\Temp\\ipykernel_6396\\4134165887.py\u001b[0m in \u001b[0;36m<module>\u001b[1;34m\u001b[0m\n\u001b[1;32m----> 1\u001b[1;33m \u001b[0mx\u001b[0m\u001b[1;33m[\u001b[0m\u001b[1;34m'batters'\u001b[0m\u001b[1;33m]\u001b[0m\u001b[1;33m\u001b[0m\u001b[1;33m\u001b[0m\u001b[0m\n\u001b[0m",
      "\u001b[1;31mNameError\u001b[0m: name 'x' is not defined"
     ]
    }
   ],
   "source": [
    "x['batters']"
   ]
  },
  {
   "cell_type": "code",
   "execution_count": 2,
   "id": "6a5c1713",
   "metadata": {},
   "outputs": [],
   "source": [
    "x={'id': '0001',\n",
    " 'type': 'donut',\n",
    " 'name': 'Cake',\n",
    " 'ppu': 0.55,\n",
    " 'batters': {'batter': [{'id': '1001', 'type': 'Regular'},\n",
    "   {'id': '1002', 'type': 'Chocolate'},\n",
    "   {'id': '1003', 'type': 'Blueberry'},\n",
    "   {'id': '1004', 'type': \"Devil's Food\"}]},\n",
    " 'topping': [{'id': '5001', 'type': 'None'},\n",
    "  {'id': '5002', 'type': 'Glazed'},\n",
    "  {'id': '5005', 'type': 'Sugar'},\n",
    "  {'id': '5007', 'type': 'Powdered Sugar'},\n",
    "  {'id': '5006', 'type': 'Chocolate with Sprinkles'},\n",
    "  {'id': '5003', 'type': 'Chocolate'},\n",
    "  {'id': '5004', 'type': 'Maple'}]}"
   ]
  },
  {
   "cell_type": "code",
   "execution_count": 3,
   "id": "4c2e8903",
   "metadata": {},
   "outputs": [
    {
     "data": {
      "text/plain": [
       "{'id': '0001',\n",
       " 'type': 'donut',\n",
       " 'name': 'Cake',\n",
       " 'ppu': 0.55,\n",
       " 'batters': {'batter': [{'id': '1001', 'type': 'Regular'},\n",
       "   {'id': '1002', 'type': 'Chocolate'},\n",
       "   {'id': '1003', 'type': 'Blueberry'},\n",
       "   {'id': '1004', 'type': \"Devil's Food\"}]},\n",
       " 'topping': [{'id': '5001', 'type': 'None'},\n",
       "  {'id': '5002', 'type': 'Glazed'},\n",
       "  {'id': '5005', 'type': 'Sugar'},\n",
       "  {'id': '5007', 'type': 'Powdered Sugar'},\n",
       "  {'id': '5006', 'type': 'Chocolate with Sprinkles'},\n",
       "  {'id': '5003', 'type': 'Chocolate'},\n",
       "  {'id': '5004', 'type': 'Maple'}]}"
      ]
     },
     "execution_count": 3,
     "metadata": {},
     "output_type": "execute_result"
    }
   ],
   "source": [
    "x"
   ]
  },
  {
   "cell_type": "code",
   "execution_count": 10,
   "id": "97600778",
   "metadata": {},
   "outputs": [
    {
     "data": {
      "text/plain": [
       "'Blueberry'"
      ]
     },
     "execution_count": 10,
     "metadata": {},
     "output_type": "execute_result"
    }
   ],
   "source": [
    "x['batters']['batter'][2]['type']"
   ]
  },
  {
   "cell_type": "code",
   "execution_count": 12,
   "id": "4c3afd0e",
   "metadata": {},
   "outputs": [
    {
     "name": "stdout",
     "output_type": "stream",
     "text": [
      "[2, 3, 4]\n"
     ]
    }
   ],
   "source": [
    "l=[2,3,4]\n",
    "l1=[3,4,5,6,7]\n",
    "if len(l1)<len(l):\n",
    "    print(l1)\n",
    "else:\n",
    "    print(l)"
   ]
  },
  {
   "cell_type": "code",
   "execution_count": 13,
   "id": "1ef84d88",
   "metadata": {},
   "outputs": [
    {
     "name": "stdout",
     "output_type": "stream",
     "text": [
      "Subhash\n"
     ]
    }
   ],
   "source": [
    "s='Sachin'\n",
    "s1='Subhash'\n",
    "if len(s)<len(s1):\n",
    "    print(s1)\n",
    "else:\n",
    "    print(s)"
   ]
  },
  {
   "cell_type": "code",
   "execution_count": 14,
   "id": "5433b66f",
   "metadata": {},
   "outputs": [
    {
     "ename": "SyntaxError",
     "evalue": "invalid syntax (4155473201.py, line 2)",
     "output_type": "error",
     "traceback": [
      "\u001b[1;36m  File \u001b[1;32m\"C:\\Users\\lenovo\\AppData\\Local\\Temp\\ipykernel_6396\\4155473201.py\"\u001b[1;36m, line \u001b[1;32m2\u001b[0m\n\u001b[1;33m    if a=odd:\u001b[0m\n\u001b[1;37m        ^\u001b[0m\n\u001b[1;31mSyntaxError\u001b[0m\u001b[1;31m:\u001b[0m invalid syntax\n"
     ]
    }
   ],
   "source": [
    "a=7\n",
    "if a=odd:\n",
    "    print('The number is odd.')\n",
    "else:\n",
    "    print('The number is even.')"
   ]
  },
  {
   "cell_type": "code",
   "execution_count": 15,
   "id": "600151e9",
   "metadata": {},
   "outputs": [
    {
     "ename": "SyntaxError",
     "evalue": "invalid syntax (1269167653.py, line 2)",
     "output_type": "error",
     "traceback": [
      "\u001b[1;36m  File \u001b[1;32m\"C:\\Users\\lenovo\\AppData\\Local\\Temp\\ipykernel_6396\\1269167653.py\"\u001b[1;36m, line \u001b[1;32m2\u001b[0m\n\u001b[1;33m    if a/2 = int:\u001b[0m\n\u001b[1;37m           ^\u001b[0m\n\u001b[1;31mSyntaxError\u001b[0m\u001b[1;31m:\u001b[0m invalid syntax\n"
     ]
    }
   ],
   "source": [
    "a=7\n",
    "if a/2 = int:\n",
    "    print('The number is even.')\n",
    "else:\n",
    "    print('The number is odd.')"
   ]
  },
  {
   "cell_type": "code",
   "execution_count": 2,
   "id": "a47f8b72",
   "metadata": {},
   "outputs": [
    {
     "name": "stdout",
     "output_type": "stream",
     "text": [
      "Enter a number : 6\n",
      "This is an even number\n"
     ]
    }
   ],
   "source": [
    "a=int(input('Enter a number : '))\n",
    "if a%2==0:\n",
    "    print('This is an even number')\n",
    "else:\n",
    "    print('This is an odd number')"
   ]
  },
  {
   "cell_type": "code",
   "execution_count": 18,
   "id": "f71fb905",
   "metadata": {},
   "outputs": [
    {
     "ename": "SyntaxError",
     "evalue": "unexpected EOF while parsing (252043208.py, line 1)",
     "output_type": "error",
     "traceback": [
      "\u001b[1;36m  File \u001b[1;32m\"C:\\Users\\lenovo\\AppData\\Local\\Temp\\ipykernel_6396\\252043208.py\"\u001b[1;36m, line \u001b[1;32m1\u001b[0m\n\u001b[1;33m    s=(input('Enter a word : ')\u001b[0m\n\u001b[1;37m                               ^\u001b[0m\n\u001b[1;31mSyntaxError\u001b[0m\u001b[1;31m:\u001b[0m unexpected EOF while parsing\n"
     ]
    }
   ],
   "source": [
    "s=(input('Enter a word : ')"
   ]
  },
  {
   "cell_type": "code",
   "execution_count": null,
   "id": "5d3c727f",
   "metadata": {},
   "outputs": [],
   "source": [
    "s=(input('Enter a word : '))"
   ]
  },
  {
   "cell_type": "code",
   "execution_count": null,
   "id": "b03dae48",
   "metadata": {},
   "outputs": [],
   "source": [
    "s=(input('Enter a word : ')\n",
    "if s[::-1] = s[::1]:\n",
    "   print('This word is a palindrome')\n",
    "else:\n",
    "   print('This word is not a palindrome')"
   ]
  },
  {
   "cell_type": "code",
   "execution_count": null,
   "id": "930cdb08",
   "metadata": {},
   "outputs": [],
   "source": [
    "s=(input('Enter a word : '))\n",
    "if s[::-1] = s[::1]:\n",
    "   print('This word is a palindrome')\n",
    "else:\n",
    "   print('This word is not a palindrome')"
   ]
  },
  {
   "cell_type": "code",
   "execution_count": 3,
   "id": "5067434a",
   "metadata": {},
   "outputs": [
    {
     "name": "stdout",
     "output_type": "stream",
     "text": [
      "Enter a word : racecar\n",
      "This word is a palindrome\n"
     ]
    }
   ],
   "source": [
    "s=(input('Enter a word : '))\n",
    "if s[::-1] == s:\n",
    "   print('This word is a palindrome')\n",
    "else:\n",
    "   print('This word is not a palindrome')"
   ]
  },
  {
   "cell_type": "code",
   "execution_count": 7,
   "id": "4ac398c1",
   "metadata": {},
   "outputs": [
    {
     "name": "stdout",
     "output_type": "stream",
     "text": [
      "Enter a number : 0\n",
      "This is positive.\n",
      "The number is zero.\n"
     ]
    }
   ],
   "source": [
    "a=int(input('Enter a number : '))\n",
    "if a>=0:\n",
    "    print('This is positive.')\n",
    "    if a==0:\n",
    "        print('The number is zero.')\n",
    "else:\n",
    "    print('This is negative.')"
   ]
  },
  {
   "cell_type": "code",
   "execution_count": 1,
   "id": "c4d8249e",
   "metadata": {},
   "outputs": [
    {
     "name": "stdout",
     "output_type": "stream",
     "text": [
      "Enter your marks = 71.23\n",
      "First class\n"
     ]
    }
   ],
   "source": [
    "m = float(input('Enter your marks = '))\n",
    "if m<40:\n",
    "    print('Fail')\n",
    "elif m<50:\n",
    "    print('Pass class')\n",
    "elif m<60:\n",
    "    print('Second class')\n",
    "else:\n",
    "    print('First class')"
   ]
  },
  {
   "cell_type": "code",
   "execution_count": 4,
   "id": "d28b74e9",
   "metadata": {},
   "outputs": [
    {
     "name": "stdout",
     "output_type": "stream",
     "text": [
      "Enter your weight (in kg) = 75\n",
      "Enter your height (in meter) = 1.78\n",
      "23.671253629592222\n"
     ]
    }
   ],
   "source": [
    "# BMI\n",
    "# bmi = weight/height*height\n",
    "\n",
    "w = float(input(\"Enter your weight (in kg) = \"))\n",
    "h = float(input(\"Enter your height (in meter) = \"))\n",
    "bmi = (w/(h*h))\n",
    "print(bmi)"
   ]
  },
  {
   "cell_type": "code",
   "execution_count": 5,
   "id": "119673bb",
   "metadata": {},
   "outputs": [
    {
     "name": "stdout",
     "output_type": "stream",
     "text": [
      "Enter your weight (in kg) = 55\n",
      "Enter your height (in meter) = 1.53\n",
      "Your BMI is = 23.49523687470631\n",
      "You are fit.\n"
     ]
    }
   ],
   "source": [
    "# Finding the BMI\n",
    "\n",
    "w = float(input(\"Enter your weight (in kg) = \"))\n",
    "h = float(input(\"Enter your height (in meter) = \"))\n",
    "bmi = (w/(h*h))\n",
    "print(\"Your BMI is =\" ,bmi)\n",
    "if bmi <=20:\n",
    "    print(\"You are underweight.\")\n",
    "elif 20<bmi<=24:\n",
    "    print(\"You are fit.\")\n",
    "elif 24<bmi<=30:\n",
    "    print(\"You are overweight.\")\n",
    "elif bmi>30:\n",
    "    print(\"You are obese.\")\n",
    "else:\n",
    "    print(\"Enter valid height-weight details.\")"
   ]
  },
  {
   "cell_type": "code",
   "execution_count": 11,
   "id": "e612e772",
   "metadata": {},
   "outputs": [
    {
     "name": "stdout",
     "output_type": "stream",
     "text": [
      "Enter the income of person = 100000000000\n",
      "You won't get any discount.\n"
     ]
    }
   ],
   "source": [
    "income = int(input(\"Enter the income of person = \"))\n",
    "if income < 10000:\n",
    "    discount = income*0.2\n",
    "    print(\"You got a discount of 20%\")\n",
    "elif income < 20000:\n",
    "    discount = income*0.1\n",
    "    print(\"You got a discount of 10%\")\n",
    "elif income < 30000:\n",
    "    discount = income*0.05\n",
    "    print(\"You got a discount of 5%\")\n",
    "else:\n",
    "    print(\"You won't get any discount.\")"
   ]
  },
  {
   "cell_type": "code",
   "execution_count": 14,
   "id": "eefffeeb",
   "metadata": {},
   "outputs": [
    {
     "name": "stdout",
     "output_type": "stream",
     "text": [
      "Enter the number of working hours per day = 2\n",
      "You need a transition period of 5 to 6 months\n"
     ]
    }
   ],
   "source": [
    "# Find the transition period for a job in IT services.\n",
    "\n",
    "w = int(input(\"Enter the number of working hours per day = \"))\n",
    "if w<3:\n",
    "    print(\"You need a transition period of 5 to 6 months\")\n",
    "elif 3<w<6:\n",
    "    print(\"You need a transition period of 3 to 4 months\")\n",
    "else:\n",
    "    print(\"You need a transition period of 2 to 3 months\")"
   ]
  },
  {
   "cell_type": "code",
   "execution_count": 1,
   "id": "fc232826",
   "metadata": {},
   "outputs": [],
   "source": [
    "l = [1,2,3,4,5]"
   ]
  },
  {
   "cell_type": "code",
   "execution_count": 2,
   "id": "50240a3e",
   "metadata": {},
   "outputs": [
    {
     "data": {
      "text/plain": [
       "1"
      ]
     },
     "execution_count": 2,
     "metadata": {},
     "output_type": "execute_result"
    }
   ],
   "source": [
    "l[0]"
   ]
  },
  {
   "cell_type": "code",
   "execution_count": 3,
   "id": "9c121b34",
   "metadata": {},
   "outputs": [
    {
     "data": {
      "text/plain": [
       "5"
      ]
     },
     "execution_count": 3,
     "metadata": {},
     "output_type": "execute_result"
    }
   ],
   "source": [
    "l[-1]"
   ]
  },
  {
   "cell_type": "code",
   "execution_count": 4,
   "id": "92512850",
   "metadata": {},
   "outputs": [],
   "source": [
    "s = \"Sachin\""
   ]
  },
  {
   "cell_type": "code",
   "execution_count": 5,
   "id": "995c081c",
   "metadata": {},
   "outputs": [
    {
     "name": "stdout",
     "output_type": "stream",
     "text": [
      "Sachin\n"
     ]
    }
   ],
   "source": [
    "print(s)"
   ]
  },
  {
   "cell_type": "code",
   "execution_count": 6,
   "id": "27d22dca",
   "metadata": {},
   "outputs": [
    {
     "data": {
      "text/plain": [
       "'SachinSachinSachin'"
      ]
     },
     "execution_count": 6,
     "metadata": {},
     "output_type": "execute_result"
    }
   ],
   "source": [
    "s*3"
   ]
  },
  {
   "cell_type": "code",
   "execution_count": 8,
   "id": "725b24da",
   "metadata": {},
   "outputs": [
    {
     "data": {
      "text/plain": [
       "'Sachin Sachin Sachin'"
      ]
     },
     "execution_count": 8,
     "metadata": {},
     "output_type": "execute_result"
    }
   ],
   "source": [
    "s + \" \" + s + \" \" + s"
   ]
  },
  {
   "cell_type": "code",
   "execution_count": 9,
   "id": "846ab3b7",
   "metadata": {},
   "outputs": [
    {
     "data": {
      "text/plain": [
       "'Sachin'"
      ]
     },
     "execution_count": 9,
     "metadata": {},
     "output_type": "execute_result"
    }
   ],
   "source": [
    "s"
   ]
  },
  {
   "cell_type": "code",
   "execution_count": 10,
   "id": "b4eb7a12",
   "metadata": {},
   "outputs": [
    {
     "data": {
      "text/plain": [
       "'h'"
      ]
     },
     "execution_count": 10,
     "metadata": {},
     "output_type": "execute_result"
    }
   ],
   "source": [
    "s[3]"
   ]
  },
  {
   "cell_type": "code",
   "execution_count": 13,
   "id": "6909893b",
   "metadata": {},
   "outputs": [],
   "source": [
    "# sets. We can change the values.\n",
    "s = {1,2,3,4,3,2,\"xyz\",\"sachin\"}"
   ]
  },
  {
   "cell_type": "code",
   "execution_count": 15,
   "id": "ba46c0bc",
   "metadata": {},
   "outputs": [
    {
     "data": {
      "text/plain": [
       "{1, 2, 3, 4, 'sachin', 'xyz'}"
      ]
     },
     "execution_count": 15,
     "metadata": {},
     "output_type": "execute_result"
    }
   ],
   "source": [
    "s"
   ]
  },
  {
   "cell_type": "code",
   "execution_count": 16,
   "id": "e4052fcf",
   "metadata": {},
   "outputs": [],
   "source": [
    "#tuple. It is an immutable sequence.\n",
    "t = (1,2,3,\"sachin\",6.9)"
   ]
  },
  {
   "cell_type": "code",
   "execution_count": 17,
   "id": "a3e27b56",
   "metadata": {},
   "outputs": [
    {
     "data": {
      "text/plain": [
       "'sachin'"
      ]
     },
     "execution_count": 17,
     "metadata": {},
     "output_type": "execute_result"
    }
   ],
   "source": [
    "t[-2]"
   ]
  },
  {
   "cell_type": "code",
   "execution_count": 27,
   "id": "26045bcf",
   "metadata": {},
   "outputs": [],
   "source": [
    "d = {1:\"Sachin\", \n",
    "     2:\"Shriya\",\n",
    "     3:\"Subhash\", \n",
    "     \"xyz\":1234567890}"
   ]
  },
  {
   "cell_type": "code",
   "execution_count": 28,
   "id": "d9e0c9a0",
   "metadata": {},
   "outputs": [
    {
     "name": "stdout",
     "output_type": "stream",
     "text": [
      "{1: 'Sachin', 2: 'Shriya', 3: 'Subhash', 'xyz': 1234567890}\n"
     ]
    }
   ],
   "source": [
    "print(d)"
   ]
  },
  {
   "cell_type": "code",
   "execution_count": 20,
   "id": "e700688d",
   "metadata": {},
   "outputs": [
    {
     "data": {
      "text/plain": [
       "1234567890"
      ]
     },
     "execution_count": 20,
     "metadata": {},
     "output_type": "execute_result"
    }
   ],
   "source": [
    "d[\"xyz\"]"
   ]
  },
  {
   "cell_type": "code",
   "execution_count": 22,
   "id": "da7d64ec",
   "metadata": {},
   "outputs": [
    {
     "data": {
      "text/plain": [
       "'Sachin'"
      ]
     },
     "execution_count": 22,
     "metadata": {},
     "output_type": "execute_result"
    }
   ],
   "source": [
    "d[1]"
   ]
  },
  {
   "cell_type": "code",
   "execution_count": 24,
   "id": "bde49130",
   "metadata": {},
   "outputs": [],
   "source": [
    "# Adding an extra key\n",
    "d[\"4\"] = 2406"
   ]
  },
  {
   "cell_type": "code",
   "execution_count": 25,
   "id": "0771839a",
   "metadata": {},
   "outputs": [
    {
     "name": "stdout",
     "output_type": "stream",
     "text": [
      "{1: 'Sachin', 2: 'Shriya', 3: 'Subhash', 'xyz': 1234567890, '4': 2406}\n"
     ]
    }
   ],
   "source": [
    "print(d)"
   ]
  },
  {
   "cell_type": "code",
   "execution_count": 26,
   "id": "2f3d8fc2",
   "metadata": {},
   "outputs": [
    {
     "data": {
      "text/plain": [
       "2406"
      ]
     },
     "execution_count": 26,
     "metadata": {},
     "output_type": "execute_result"
    }
   ],
   "source": [
    "d[\"4\"]"
   ]
  },
  {
   "cell_type": "code",
   "execution_count": 30,
   "id": "242eaa1c",
   "metadata": {},
   "outputs": [
    {
     "name": "stdout",
     "output_type": "stream",
     "text": [
      "Enter a number = 20\n",
      "20 is not divisible by 3\n"
     ]
    }
   ],
   "source": [
    "# A number is divisible by 3 or not.\n",
    "\n",
    "x = int(input(\"Enter a number = \"))\n",
    "if x%3 == 0:\n",
    "    print(x, \"is divisible by 3\")\n",
    "else:\n",
    "    print(x, \"is not divisible by 3\")"
   ]
  },
  {
   "cell_type": "code",
   "execution_count": 33,
   "id": "e5b5a5fc",
   "metadata": {},
   "outputs": [
    {
     "name": "stdout",
     "output_type": "stream",
     "text": [
      "l1\n"
     ]
    }
   ],
   "source": [
    "#Comparing the length of two lists.\n",
    "\n",
    "l1 = [1,2,3,4,5,6,7,9]\n",
    "l2 = [88,45,25,12]\n",
    "if len(l1) > len(l2):\n",
    "    print(\"l1\")\n",
    "else:\n",
    "    print(\"l2\")"
   ]
  },
  {
   "cell_type": "code",
   "execution_count": 34,
   "id": "e7d44874",
   "metadata": {},
   "outputs": [
    {
     "data": {
      "text/plain": [
       "True"
      ]
     },
     "execution_count": 34,
     "metadata": {},
     "output_type": "execute_result"
    }
   ],
   "source": [
    " 4 == 4"
   ]
  },
  {
   "cell_type": "code",
   "execution_count": 35,
   "id": "b6e9e3c6",
   "metadata": {},
   "outputs": [
    {
     "data": {
      "text/plain": [
       "False"
      ]
     },
     "execution_count": 35,
     "metadata": {},
     "output_type": "execute_result"
    }
   ],
   "source": [
    "4 != 4"
   ]
  },
  {
   "cell_type": "code",
   "execution_count": 37,
   "id": "1d964648",
   "metadata": {},
   "outputs": [
    {
     "name": "stdout",
     "output_type": "stream",
     "text": [
      "1\n",
      "2\n",
      "3\n",
      "4\n",
      "5\n"
     ]
    }
   ],
   "source": [
    "# while is a continuous loop.\n",
    "a = 1\n",
    "while a<6:\n",
    "    print(a)\n",
    "    a = a + 1"
   ]
  },
  {
   "cell_type": "code",
   "execution_count": 1,
   "id": "e09182fe",
   "metadata": {},
   "outputs": [
    {
     "name": "stdout",
     "output_type": "stream",
     "text": [
      "1\n",
      "2\n",
      "3\n",
      "4\n",
      "5\n",
      "6\n",
      "7\n",
      "8\n"
     ]
    }
   ],
   "source": [
    "# Increment of 1 number\n",
    "\n",
    "a = 1\n",
    "while a <= 10:\n",
    "    print(a)\n",
    "    if a == 8:\n",
    "        break\n",
    "    a = a + 1"
   ]
  },
  {
   "cell_type": "code",
   "execution_count": 1,
   "id": "07241635",
   "metadata": {},
   "outputs": [
    {
     "ename": "SyntaxError",
     "evalue": "invalid syntax (174569550.py, line 2)",
     "output_type": "error",
     "traceback": [
      "\u001b[1;36m  File \u001b[1;32m\"C:\\Users\\lenovo\\AppData\\Local\\Temp\\ipykernel_6628\\174569550.py\"\u001b[1;36m, line \u001b[1;32m2\u001b[0m\n\u001b[1;33m    while a = int:\u001b[0m\n\u001b[1;37m    ^\u001b[0m\n\u001b[1;31mSyntaxError\u001b[0m\u001b[1;31m:\u001b[0m invalid syntax\n"
     ]
    }
   ],
   "source": [
    "a = int(input(\"Enter a number = \")\n",
    "while a = int:\n",
    "        print(\"Correct\")\n",
    "        if a != int\n",
    "        print(\"Try again\")\n",
    "        break"
   ]
  },
  {
   "cell_type": "code",
   "execution_count": null,
   "id": "16b0ae8a",
   "metadata": {},
   "outputs": [],
   "source": []
  },
  {
   "cell_type": "code",
   "execution_count": 2,
   "id": "c1892925",
   "metadata": {},
   "outputs": [],
   "source": [
    "l = [1,2,3,4,\"sachin\",5.4]"
   ]
  },
  {
   "cell_type": "code",
   "execution_count": 3,
   "id": "41a528ae",
   "metadata": {},
   "outputs": [
    {
     "name": "stdout",
     "output_type": "stream",
     "text": [
      "[1, 2, 3, 4, 'sachin', 5.4]\n"
     ]
    }
   ],
   "source": [
    "print(l)"
   ]
  },
  {
   "cell_type": "code",
   "execution_count": 4,
   "id": "6d130cf8",
   "metadata": {},
   "outputs": [
    {
     "data": {
      "text/plain": [
       "range(0, 5)"
      ]
     },
     "execution_count": 4,
     "metadata": {},
     "output_type": "execute_result"
    }
   ],
   "source": [
    "range(5)"
   ]
  },
  {
   "cell_type": "code",
   "execution_count": 5,
   "id": "8b2145ce",
   "metadata": {},
   "outputs": [
    {
     "data": {
      "text/plain": [
       "range(1, 5)"
      ]
     },
     "execution_count": 5,
     "metadata": {},
     "output_type": "execute_result"
    }
   ],
   "source": [
    "range(1,5)"
   ]
  },
  {
   "cell_type": "code",
   "execution_count": 6,
   "id": "2f73fb53",
   "metadata": {},
   "outputs": [
    {
     "data": {
      "text/plain": [
       "range(1, 10, 2)"
      ]
     },
     "execution_count": 6,
     "metadata": {},
     "output_type": "execute_result"
    }
   ],
   "source": [
    "range(1,10,2)"
   ]
  },
  {
   "cell_type": "code",
   "execution_count": 9,
   "id": "51afc9fb",
   "metadata": {},
   "outputs": [
    {
     "name": "stdout",
     "output_type": "stream",
     "text": [
      "1\n",
      "3\n",
      "5\n",
      "7\n",
      "9\n"
     ]
    }
   ],
   "source": [
    "for x in range(1,10,2):\n",
    "    print(x)"
   ]
  },
  {
   "cell_type": "code",
   "execution_count": 10,
   "id": "090848d3",
   "metadata": {},
   "outputs": [
    {
     "name": "stdout",
     "output_type": "stream",
     "text": [
      "9\n",
      "9\n",
      "9\n",
      "9\n",
      "9\n",
      "9\n"
     ]
    }
   ],
   "source": [
    "for x in l:\n",
    "    print(i)"
   ]
  },
  {
   "cell_type": "code",
   "execution_count": 11,
   "id": "7a3e7c41",
   "metadata": {},
   "outputs": [],
   "source": [
    "l = [1,2,3,4,\"sachin\",5.4]"
   ]
  },
  {
   "cell_type": "code",
   "execution_count": 12,
   "id": "4f60d511",
   "metadata": {},
   "outputs": [
    {
     "name": "stdout",
     "output_type": "stream",
     "text": [
      "1\n",
      "2\n",
      "3\n",
      "4\n",
      "sachin\n",
      "5.4\n"
     ]
    }
   ],
   "source": [
    "for i in l:\n",
    "    print(i)"
   ]
  },
  {
   "cell_type": "code",
   "execution_count": 13,
   "id": "2c2e4582",
   "metadata": {},
   "outputs": [
    {
     "name": "stdout",
     "output_type": "stream",
     "text": [
      "s\n",
      "a\n",
      "c\n",
      "h\n",
      "i\n",
      "n\n"
     ]
    }
   ],
   "source": [
    "s = \"sachin\"\n",
    "for i in s:\n",
    "    print(i)"
   ]
  },
  {
   "cell_type": "code",
   "execution_count": 14,
   "id": "89e279c6",
   "metadata": {},
   "outputs": [
    {
     "data": {
      "text/plain": [
       "[1, 2, 3, 4, 'sachin', 5.4]"
      ]
     },
     "execution_count": 14,
     "metadata": {},
     "output_type": "execute_result"
    }
   ],
   "source": [
    "l"
   ]
  },
  {
   "cell_type": "code",
   "execution_count": 21,
   "id": "88ca9afb",
   "metadata": {},
   "outputs": [
    {
     "name": "stdout",
     "output_type": "stream",
     "text": [
      "1\n",
      "2\n",
      "3\n",
      "4\n"
     ]
    },
    {
     "ename": "ValueError",
     "evalue": "invalid literal for int() with base 10: 'sachin'",
     "output_type": "error",
     "traceback": [
      "\u001b[1;31m---------------------------------------------------------------------------\u001b[0m",
      "\u001b[1;31mValueError\u001b[0m                                Traceback (most recent call last)",
      "\u001b[1;32m~\\AppData\\Local\\Temp\\ipykernel_6628\\2808371685.py\u001b[0m in \u001b[0;36m<module>\u001b[1;34m\u001b[0m\n\u001b[0;32m      1\u001b[0m \u001b[1;32mfor\u001b[0m \u001b[0mi\u001b[0m \u001b[1;32min\u001b[0m \u001b[0ml\u001b[0m\u001b[1;33m:\u001b[0m\u001b[1;33m\u001b[0m\u001b[1;33m\u001b[0m\u001b[0m\n\u001b[1;32m----> 2\u001b[1;33m     \u001b[0mprint\u001b[0m\u001b[1;33m(\u001b[0m\u001b[0mint\u001b[0m\u001b[1;33m(\u001b[0m\u001b[0mi\u001b[0m\u001b[1;33m)\u001b[0m\u001b[1;33m)\u001b[0m\u001b[1;33m\u001b[0m\u001b[1;33m\u001b[0m\u001b[0m\n\u001b[0m",
      "\u001b[1;31mValueError\u001b[0m: invalid literal for int() with base 10: 'sachin'"
     ]
    }
   ],
   "source": [
    "for i in l:\n",
    "    print(int(i))"
   ]
  },
  {
   "cell_type": "code",
   "execution_count": 26,
   "id": "ab9d46dc",
   "metadata": {},
   "outputs": [
    {
     "ename": "IndentationError",
     "evalue": "expected an indented block (2792486043.py, line 3)",
     "output_type": "error",
     "traceback": [
      "\u001b[1;36m  File \u001b[1;32m\"C:\\Users\\lenovo\\AppData\\Local\\Temp\\ipykernel_6628\\2792486043.py\"\u001b[1;36m, line \u001b[1;32m3\u001b[0m\n\u001b[1;33m    print(i)\u001b[0m\n\u001b[1;37m    ^\u001b[0m\n\u001b[1;31mIndentationError\u001b[0m\u001b[1;31m:\u001b[0m expected an indented block\n"
     ]
    }
   ],
   "source": [
    "for i in l:\n",
    "    if type(i) == float:\n",
    "    print(i)"
   ]
  },
  {
   "cell_type": "code",
   "execution_count": 28,
   "id": "36655b44",
   "metadata": {},
   "outputs": [
    {
     "name": "stdout",
     "output_type": "stream",
     "text": [
      "5.4\n"
     ]
    }
   ],
   "source": [
    "for i in l:\n",
    "    if type(i) == float:\n",
    "        print(i)"
   ]
  },
  {
   "cell_type": "code",
   "execution_count": 29,
   "id": "b6af6e12",
   "metadata": {},
   "outputs": [
    {
     "data": {
      "text/plain": [
       "[1, 2, 3, 4, 'sachin', 5.4]"
      ]
     },
     "execution_count": 29,
     "metadata": {},
     "output_type": "execute_result"
    }
   ],
   "source": [
    "l"
   ]
  },
  {
   "cell_type": "code",
   "execution_count": 30,
   "id": "2c79b3a5",
   "metadata": {},
   "outputs": [
    {
     "name": "stdout",
     "output_type": "stream",
     "text": [
      "[1, 2, 3, 4, 'sachin', 5.4]\n",
      "[1, 2, 3, 4, 'sachin', 5.4]\n",
      "[1, 2, 3, 4, 'sachin', 5.4]\n",
      "[1, 2, 3, 4, 'sachin', 5.4]\n",
      "[1, 2, 3, 4, 'sachin', 5.4]\n",
      "[1, 2, 3, 4, 'sachin', 5.4]\n"
     ]
    }
   ],
   "source": [
    "for i in l:\n",
    "    print(l)"
   ]
  },
  {
   "cell_type": "code",
   "execution_count": 29,
   "id": "1eca7e75",
   "metadata": {},
   "outputs": [
    {
     "name": "stdout",
     "output_type": "stream",
     "text": [
      "Enter the value of n = 5\n",
      "1 \n",
      "\n",
      "2 2 \n",
      "\n",
      "3 3 3 \n",
      "\n",
      "4 4 4 4 \n",
      "\n"
     ]
    }
   ],
   "source": [
    "n = int(input(\"Enter the value of n = \"))\n",
    "for i in range(1,n):\n",
    "    for j in  range(1,i+1):\n",
    "        print(i, end = \" \")\n",
    "    print(\"\\n\")"
   ]
  },
  {
   "cell_type": "code",
   "execution_count": 2,
   "id": "5ebc8848",
   "metadata": {},
   "outputs": [
    {
     "name": "stdout",
     "output_type": "stream",
     "text": [
      "Enter the value of n = 5\n",
      " *   *   *   *   *  \n",
      "\n",
      " *   *   *   *   *  \n",
      "\n",
      " *   *   *   *   *  \n",
      "\n",
      " *   *   *   *   *  \n",
      "\n",
      " *   *   *   *   *  \n",
      "\n"
     ]
    }
   ],
   "source": [
    "n = int(input(\"Enter the value of n = \"))\n",
    "for i in range(0,n):\n",
    "    for j in  range(0,n):\n",
    "        print(\" * \", end = \" \")\n",
    "    print(\"\\n\")"
   ]
  },
  {
   "cell_type": "code",
   "execution_count": 3,
   "id": "98ebc209",
   "metadata": {},
   "outputs": [
    {
     "name": "stdout",
     "output_type": "stream",
     "text": [
      "Enter the value of n = 5\n",
      " *  \n",
      "\n",
      " *   *  \n",
      "\n",
      " *   *   *  \n",
      "\n",
      " *   *   *   *  \n",
      "\n",
      " *   *   *   *   *  \n",
      "\n"
     ]
    }
   ],
   "source": [
    "n = int(input(\"Enter the value of n = \"))\n",
    "for i in range(0,n):\n",
    "    for j in  range(0,i+1):\n",
    "        print(\" * \", end = \" \")\n",
    "    print(\"\\n\")"
   ]
  },
  {
   "cell_type": "code",
   "execution_count": 5,
   "id": "856008bd",
   "metadata": {},
   "outputs": [
    {
     "name": "stdout",
     "output_type": "stream",
     "text": [
      "Enter the value of n = 10\n",
      " *   *   *   *   *   *   *   *   *   *  \n",
      "\n",
      " *   *   *   *   *   *   *   *   *   *  \n",
      "\n",
      " *   *   *   *   *   *   *   *   *   *  \n",
      "\n",
      " *   *   *   *   *   *   *   *   *   *  \n",
      "\n",
      " *   *   *   *   *   *   *   *   *   *  \n",
      "\n",
      " *   *   *   *   *   *   *   *   *   *  \n",
      "\n",
      " *   *   *   *   *   *   *   *   *   *  \n",
      "\n",
      " *   *   *   *   *   *   *   *   *   *  \n",
      "\n",
      " *   *   *   *   *   *   *   *   *   *  \n",
      "\n",
      " *   *   *   *   *   *   *   *   *   *  \n",
      "\n"
     ]
    }
   ],
   "source": [
    "n = int(input(\"Enter the value of n = \"))\n",
    "for i in range(0,n):\n",
    "    for j in  range(0,n):\n",
    "        print(\" * \", end = \" \")\n",
    "    print(\"\\n\")"
   ]
  },
  {
   "cell_type": "code",
   "execution_count": 4,
   "id": "add76204",
   "metadata": {},
   "outputs": [
    {
     "name": "stdout",
     "output_type": "stream",
     "text": [
      "* * * * * \n",
      "*       * \n",
      "*       * \n",
      "*       * \n",
      "* * * * * \n"
     ]
    }
   ],
   "source": [
    "for raw in range(5):\n",
    "    for col in range(5):\n",
    "        if (raw in {0,4}):\n",
    "            print(\"*\", end=\" \")\n",
    "        elif (raw in {1,2,3,4}) and (col in {0,4}):\n",
    "            print(\"*\", end=\" \")\n",
    "        else:\n",
    "            print(\" \", end=\" \")\n",
    "    print()"
   ]
  },
  {
   "cell_type": "code",
   "execution_count": 5,
   "id": "d59f7fb5",
   "metadata": {},
   "outputs": [
    {
     "name": "stdout",
     "output_type": "stream",
     "text": [
      "* * * * * \n",
      "* S S S * \n",
      "* S S S * \n",
      "* S S S * \n",
      "* * * * * \n"
     ]
    }
   ],
   "source": [
    "for raw in range(5):\n",
    "    for col in range(5):\n",
    "        if (raw in {0,4}):\n",
    "            print(\"*\", end=\" \")\n",
    "        elif (raw in {1,2,3,4}) and (col in {0,4}):\n",
    "            print(\"*\", end=\" \")\n",
    "        else:\n",
    "            print(\"S\", end=\" \")\n",
    "    print()"
   ]
  },
  {
   "cell_type": "code",
   "execution_count": 19,
   "id": "eb8c364c",
   "metadata": {},
   "outputs": [
    {
     "ename": "TypeError",
     "evalue": "'str' object cannot be interpreted as an integer",
     "output_type": "error",
     "traceback": [
      "\u001b[1;31m---------------------------------------------------------------------------\u001b[0m",
      "\u001b[1;31mTypeError\u001b[0m                                 Traceback (most recent call last)",
      "\u001b[1;32m~\\AppData\\Local\\Temp\\ipykernel_1660\\549074306.py\u001b[0m in \u001b[0;36m<module>\u001b[1;34m\u001b[0m\n\u001b[1;32m----> 1\u001b[1;33m \u001b[1;32mfor\u001b[0m \u001b[0mi\u001b[0m \u001b[1;32min\u001b[0m \u001b[0mrange\u001b[0m\u001b[1;33m(\u001b[0m\u001b[0mchr\u001b[0m\u001b[1;33m(\u001b[0m\u001b[1;36m65\u001b[0m\u001b[1;33m)\u001b[0m\u001b[1;33m,\u001b[0m \u001b[0mchr\u001b[0m\u001b[1;33m(\u001b[0m\u001b[1;36m90\u001b[0m\u001b[1;33m)\u001b[0m\u001b[1;33m)\u001b[0m\u001b[1;33m:\u001b[0m\u001b[1;33m\u001b[0m\u001b[1;33m\u001b[0m\u001b[0m\n\u001b[0m\u001b[0;32m      2\u001b[0m     \u001b[1;32mfor\u001b[0m \u001b[0mj\u001b[0m \u001b[1;32min\u001b[0m  \u001b[0mrange\u001b[0m\u001b[1;33m(\u001b[0m\u001b[0mchr\u001b[0m\u001b[1;33m(\u001b[0m\u001b[1;36m65\u001b[0m\u001b[1;33m)\u001b[0m\u001b[1;33m,\u001b[0m \u001b[0mchr\u001b[0m\u001b[1;33m(\u001b[0m\u001b[0mi\u001b[0m\u001b[1;33m+\u001b[0m\u001b[1;36m1\u001b[0m\u001b[1;33m)\u001b[0m\u001b[1;33m)\u001b[0m\u001b[1;33m:\u001b[0m\u001b[1;33m\u001b[0m\u001b[1;33m\u001b[0m\u001b[0m\n\u001b[0;32m      3\u001b[0m         \u001b[0mprint\u001b[0m\u001b[1;33m(\u001b[0m\u001b[0mi\u001b[0m\u001b[1;33m,\u001b[0m \u001b[0mend\u001b[0m \u001b[1;33m=\u001b[0m \u001b[1;34m\" \"\u001b[0m\u001b[1;33m)\u001b[0m\u001b[1;33m\u001b[0m\u001b[1;33m\u001b[0m\u001b[0m\n\u001b[0;32m      4\u001b[0m     \u001b[0mprint\u001b[0m\u001b[1;33m(\u001b[0m\u001b[1;34m\"\\n\"\u001b[0m\u001b[1;33m)\u001b[0m\u001b[1;33m\u001b[0m\u001b[1;33m\u001b[0m\u001b[0m\n",
      "\u001b[1;31mTypeError\u001b[0m: 'str' object cannot be interpreted as an integer"
     ]
    }
   ],
   "source": [
    "for i in range(chr(65), chr(90)):\n",
    "    for j in  range(chr(65), chr(i+1)):\n",
    "        print(j, end = \" \")\n",
    "    print(\"\\n\")"
   ]
  },
  {
   "cell_type": "code",
   "execution_count": 20,
   "id": "ea1edc0e",
   "metadata": {},
   "outputs": [
    {
     "ename": "TypeError",
     "evalue": "'str' object cannot be interpreted as an integer",
     "output_type": "error",
     "traceback": [
      "\u001b[1;31m---------------------------------------------------------------------------\u001b[0m",
      "\u001b[1;31mTypeError\u001b[0m                                 Traceback (most recent call last)",
      "\u001b[1;32m~\\AppData\\Local\\Temp\\ipykernel_1660\\1460816174.py\u001b[0m in \u001b[0;36m<module>\u001b[1;34m\u001b[0m\n\u001b[0;32m      1\u001b[0m \u001b[0mn\u001b[0m \u001b[1;33m=\u001b[0m \u001b[0mchr\u001b[0m\u001b[1;33m(\u001b[0m\u001b[1;36m65\u001b[0m\u001b[1;33m)\u001b[0m\u001b[1;33m\u001b[0m\u001b[1;33m\u001b[0m\u001b[0m\n\u001b[1;32m----> 2\u001b[1;33m \u001b[1;32mfor\u001b[0m \u001b[0mi\u001b[0m \u001b[1;32min\u001b[0m \u001b[0mrange\u001b[0m\u001b[1;33m(\u001b[0m\u001b[0mchr\u001b[0m\u001b[1;33m(\u001b[0m\u001b[1;36m65\u001b[0m\u001b[1;33m)\u001b[0m\u001b[1;33m,\u001b[0m \u001b[0mchr\u001b[0m\u001b[1;33m(\u001b[0m\u001b[1;36m90\u001b[0m\u001b[1;33m)\u001b[0m\u001b[1;33m)\u001b[0m\u001b[1;33m:\u001b[0m\u001b[1;33m\u001b[0m\u001b[1;33m\u001b[0m\u001b[0m\n\u001b[0m\u001b[0;32m      3\u001b[0m     \u001b[1;32mfor\u001b[0m \u001b[0mj\u001b[0m \u001b[1;32min\u001b[0m  \u001b[0mrange\u001b[0m\u001b[1;33m(\u001b[0m\u001b[0mn\u001b[0m\u001b[1;33m,\u001b[0m \u001b[0mn\u001b[0m\u001b[1;33m+\u001b[0m\u001b[1;36m1\u001b[0m\u001b[1;33m)\u001b[0m\u001b[1;33m:\u001b[0m\u001b[1;33m\u001b[0m\u001b[1;33m\u001b[0m\u001b[0m\n\u001b[0;32m      4\u001b[0m         \u001b[0mprint\u001b[0m\u001b[1;33m(\u001b[0m\u001b[0mj\u001b[0m\u001b[1;33m,\u001b[0m \u001b[0mend\u001b[0m \u001b[1;33m=\u001b[0m \u001b[1;34m\" \"\u001b[0m\u001b[1;33m)\u001b[0m\u001b[1;33m\u001b[0m\u001b[1;33m\u001b[0m\u001b[0m\n\u001b[0;32m      5\u001b[0m     \u001b[0mprint\u001b[0m\u001b[1;33m(\u001b[0m\u001b[1;34m\"\\n\"\u001b[0m\u001b[1;33m)\u001b[0m\u001b[1;33m\u001b[0m\u001b[1;33m\u001b[0m\u001b[0m\n",
      "\u001b[1;31mTypeError\u001b[0m: 'str' object cannot be interpreted as an integer"
     ]
    }
   ],
   "source": [
    "n = chr(65)\n",
    "for i in range(chr(65), chr(90)):\n",
    "    for j in  range(n, n+1):\n",
    "        print(chr(j), end = \" \")\n",
    "    print(\"\\n\")"
   ]
  },
  {
   "cell_type": "code",
   "execution_count": 34,
   "id": "7021dffa",
   "metadata": {},
   "outputs": [
    {
     "name": "stdout",
     "output_type": "stream",
     "text": [
      "Enter the value of n = 5\n",
      "A \n",
      "\n",
      "A B \n",
      "\n",
      "A B C \n",
      "\n",
      "A B C D \n",
      "\n"
     ]
    }
   ],
   "source": [
    "n = int(input(\"Enter the value of n = \"))\n",
    "for i in range(1,n):\n",
    "    for j in  range(65, 65+i):\n",
    "        print(chr(j), end = \" \")\n",
    "    print(\"\\n\")"
   ]
  },
  {
   "cell_type": "code",
   "execution_count": 35,
   "id": "86bdcb3a",
   "metadata": {},
   "outputs": [
    {
     "name": "stdout",
     "output_type": "stream",
     "text": [
      "Enter number of rows: 6\n",
      "A \n",
      "\n",
      "B B \n",
      "\n",
      "C C C \n",
      "\n",
      "D D D D \n",
      "\n",
      "E E E E E \n",
      "\n",
      "F F F F F F \n",
      "\n"
     ]
    }
   ],
   "source": [
    "rows = int(input(\"Enter number of rows: \"))\n",
    "ascii_value = 65\n",
    "for i in range(rows):\n",
    "    for j in range(i+1):\n",
    "        alpha = chr(ascii_value)\n",
    "        print(alpha, end=\" \")\n",
    "    ascii_value += 1\n",
    "    print(\"\\n\")"
   ]
  },
  {
   "cell_type": "code",
   "execution_count": 36,
   "id": "3fba9213",
   "metadata": {},
   "outputs": [
    {
     "name": "stdout",
     "output_type": "stream",
     "text": [
      "Enter number of rows: 5\n",
      "A \n",
      "\n",
      "B B \n",
      "\n",
      "C C C \n",
      "\n",
      "D D D D \n",
      "\n",
      "E E E E E \n",
      "\n"
     ]
    }
   ],
   "source": [
    "rows = int(input(\"Enter number of rows: \"))\n",
    "ascii_value = 65\n",
    "for i in range(rows):\n",
    "    for j in range(i+1):\n",
    "        alpha = chr(ascii_value)\n",
    "        print(alpha, end=\" \")\n",
    "    ascii_value += 1\n",
    "    print(\"\\n\")"
   ]
  },
  {
   "cell_type": "code",
   "execution_count": 40,
   "id": "5c427eab",
   "metadata": {},
   "outputs": [
    {
     "name": "stdout",
     "output_type": "stream",
     "text": [
      "Multiplication table for : 17\n",
      "17 X 1 = 17\n",
      "17 X 2 = 34\n",
      "17 X 3 = 51\n",
      "17 X 4 = 68\n",
      "17 X 5 = 85\n",
      "17 X 6 = 102\n",
      "17 X 7 = 119\n",
      "17 X 8 = 136\n",
      "17 X 9 = 153\n",
      "17 X 10 = 170\n"
     ]
    }
   ],
   "source": [
    "num = int(input(\"Multiplication table for : \"))\n",
    "for i in range(1,11):\n",
    "    print(f\"{num} X {i} = {num*i}\")"
   ]
  },
  {
   "cell_type": "code",
   "execution_count": 45,
   "id": "e8426649",
   "metadata": {},
   "outputs": [
    {
     "name": "stdout",
     "output_type": "stream",
     "text": [
      "Enter the number : 16\n",
      "16 is a prime number\n"
     ]
    }
   ],
   "source": [
    "n = int(input(\"Enter the number : \"))\n",
    "if (n%1 == 0) or (n%n == 0):\n",
    "    print(f\"{n} is a prime number\")\n",
    "else:\n",
    "    print(f\"{n} if not a prime number\")\n",
    "    "
   ]
  },
  {
   "cell_type": "code",
   "execution_count": 49,
   "id": "5422cbc8",
   "metadata": {},
   "outputs": [
    {
     "name": "stdout",
     "output_type": "stream",
     "text": [
      "Enter a number = 101\n",
      "101 is a prime number!\n"
     ]
    }
   ],
   "source": [
    "num = int(input(\"Enter a number = \"))\n",
    "for i in range (2, num):\n",
    "    if num%i == 0:\n",
    "        print(f\"{num} is not a prime number!\")\n",
    "        break\n",
    "    else:\n",
    "        print(f\"{num} is a prime number!\")\n",
    "        break"
   ]
  },
  {
   "cell_type": "code",
   "execution_count": 1,
   "id": "3cc0b727",
   "metadata": {},
   "outputs": [
    {
     "name": "stdout",
     "output_type": "stream",
     "text": [
      "Enter number of rows: \n"
     ]
    },
    {
     "ename": "ValueError",
     "evalue": "invalid literal for int() with base 10: ''",
     "output_type": "error",
     "traceback": [
      "\u001b[1;31m---------------------------------------------------------------------------\u001b[0m",
      "\u001b[1;31mValueError\u001b[0m                                Traceback (most recent call last)",
      "\u001b[1;32m~\\AppData\\Local\\Temp\\ipykernel_8844\\1341250790.py\u001b[0m in \u001b[0;36m<module>\u001b[1;34m\u001b[0m\n\u001b[1;32m----> 1\u001b[1;33m \u001b[0mrows\u001b[0m \u001b[1;33m=\u001b[0m \u001b[0mint\u001b[0m\u001b[1;33m(\u001b[0m\u001b[0minput\u001b[0m\u001b[1;33m(\u001b[0m\u001b[1;34m\"Enter number of rows: \"\u001b[0m\u001b[1;33m)\u001b[0m\u001b[1;33m)\u001b[0m\u001b[1;33m\u001b[0m\u001b[1;33m\u001b[0m\u001b[0m\n\u001b[0m\u001b[0;32m      2\u001b[0m \u001b[0mascii_value\u001b[0m \u001b[1;33m=\u001b[0m \u001b[1;36m65\u001b[0m\u001b[1;33m\u001b[0m\u001b[1;33m\u001b[0m\u001b[0m\n\u001b[0;32m      3\u001b[0m \u001b[1;32mfor\u001b[0m \u001b[0mi\u001b[0m \u001b[1;32min\u001b[0m \u001b[0mrange\u001b[0m\u001b[1;33m(\u001b[0m\u001b[0mrows\u001b[0m\u001b[1;33m)\u001b[0m\u001b[1;33m:\u001b[0m\u001b[1;33m\u001b[0m\u001b[1;33m\u001b[0m\u001b[0m\n\u001b[0;32m      4\u001b[0m     \u001b[1;32mfor\u001b[0m \u001b[0mj\u001b[0m \u001b[1;32min\u001b[0m \u001b[0mrange\u001b[0m\u001b[1;33m(\u001b[0m\u001b[0mi\u001b[0m\u001b[1;33m+\u001b[0m\u001b[1;36m1\u001b[0m\u001b[1;33m)\u001b[0m\u001b[1;33m:\u001b[0m\u001b[1;33m\u001b[0m\u001b[1;33m\u001b[0m\u001b[0m\n\u001b[0;32m      5\u001b[0m         \u001b[0malpha\u001b[0m \u001b[1;33m=\u001b[0m \u001b[0mchr\u001b[0m\u001b[1;33m(\u001b[0m\u001b[0mascii_value\u001b[0m\u001b[1;33m)\u001b[0m\u001b[1;33m\u001b[0m\u001b[1;33m\u001b[0m\u001b[0m\n",
      "\u001b[1;31mValueError\u001b[0m: invalid literal for int() with base 10: ''"
     ]
    }
   ],
   "source": [
    "rows = int(input(\"Enter number of rows: \"))\n",
    "ascii_value = 65\n",
    "for i in range(rows):\n",
    "    for j in range(i+1):\n",
    "        alpha = chr(ascii_value)\n",
    "        print(alpha, end=\" \")\n",
    "    ascii_value += 1\n",
    "    print(\"\\n\")"
   ]
  },
  {
   "cell_type": "code",
   "execution_count": 13,
   "id": "c68320a0",
   "metadata": {},
   "outputs": [
    {
     "name": "stdout",
     "output_type": "stream",
     "text": [
      "Enter number of rows: 8\n",
      "A \n",
      "\n",
      "B B \n",
      "\n",
      "C C C \n",
      "\n",
      "D D D D \n",
      "\n",
      "E E E E E \n",
      "\n",
      "F F F F F F \n",
      "\n",
      "G G G G G G G \n",
      "\n",
      "H H H H H H H H \n",
      "\n"
     ]
    }
   ],
   "source": [
    "rows = int(input(\"Enter number of rows: \"))\n",
    "ascii_value = 65\n",
    "for i in range(rows):\n",
    "    for j in range(i+1):\n",
    "        alpha = chr(ascii_value)\n",
    "        print(alpha, end=\" \")\n",
    "    ascii_value += 1\n",
    "    print(\"\\n\")"
   ]
  },
  {
   "cell_type": "code",
   "execution_count": 7,
   "id": "c0eaa86a",
   "metadata": {},
   "outputs": [
    {
     "name": "stdout",
     "output_type": "stream",
     "text": [
      "Enter the principal amount = 50000\n",
      "Enter the tenure of loan = 5\n",
      "Enter the rate of interest = 6.5\n",
      "The interest will be 16250.0\n"
     ]
    }
   ],
   "source": [
    "# Simple Interest\n",
    "\n",
    "p = float(input(\"Enter the principal amount = \"))\n",
    "n = float(input(\"Enter the tenure of loan = \"))\n",
    "r = float(input(\"Enter the rate of interest = \"))\n",
    "simple_interest = (p*n*r)/100\n",
    "print(f\"The interest will be {simple_interest}\")"
   ]
  },
  {
   "cell_type": "code",
   "execution_count": 12,
   "id": "18a68a7a",
   "metadata": {},
   "outputs": [
    {
     "name": "stdout",
     "output_type": "stream",
     "text": [
      "Enter your weight in kilogram = 75.5\n",
      "Your weight is 166.1 pounds!\n"
     ]
    }
   ],
   "source": [
    "# Convert Kilogram into pounds\n",
    "\n",
    "w = float(input(\"Enter your weight in kilogram = \"))\n",
    "p = round(2.2*w, 2)\n",
    "print(f\"Your weight is {p} pounds!\")"
   ]
  },
  {
   "cell_type": "code",
   "execution_count": 18,
   "id": "33a9d633",
   "metadata": {},
   "outputs": [
    {
     "name": "stdout",
     "output_type": "stream",
     "text": [
      "1\n",
      "3\n",
      "5\n",
      "7\n",
      "9\n",
      "11\n",
      "13\n",
      "15\n",
      "17\n",
      "19\n",
      "21\n",
      "23\n"
     ]
    }
   ],
   "source": [
    "# While loop\n",
    "\n",
    "a = 1\n",
    "while a < 25:\n",
    "    print(a)\n",
    "    a += 2"
   ]
  },
  {
   "cell_type": "code",
   "execution_count": 23,
   "id": "e6a7c40c",
   "metadata": {},
   "outputs": [
    {
     "name": "stdout",
     "output_type": "stream",
     "text": [
      "1\n",
      "2\n",
      "3\n",
      "4\n",
      "5\n",
      "6\n",
      "7\n"
     ]
    }
   ],
   "source": [
    "a = 1\n",
    "while a <= 10:\n",
    "    print(a)\n",
    "    a = a + 1\n",
    "    if a == 8:\n",
    "        break\n",
    "    #a += 1"
   ]
  },
  {
   "cell_type": "code",
   "execution_count": 28,
   "id": "62551a26",
   "metadata": {},
   "outputs": [
    {
     "name": "stdout",
     "output_type": "stream",
     "text": [
      "Okay\n",
      "8\n"
     ]
    }
   ],
   "source": [
    "a = 8\n",
    "while a == 8:\n",
    "    print(\"Okay\")\n",
    "    #break\n",
    "    #a += 1\n",
    "    print(a)\n",
    "    a += 1"
   ]
  },
  {
   "cell_type": "code",
   "execution_count": 2,
   "id": "a10cf4b5",
   "metadata": {},
   "outputs": [
    {
     "name": "stdout",
     "output_type": "stream",
     "text": [
      "1\n",
      "2\n",
      "3\n"
     ]
    }
   ],
   "source": [
    "l = [1,2,3,4,\"email_id\"]\n",
    "for i in l:\n",
    "    if i == 4:\n",
    "        break\n",
    "    print(i)\n",
    "else:\n",
    "    print(\"Check this statement\")"
   ]
  },
  {
   "cell_type": "code",
   "execution_count": 6,
   "id": "be5c67e8",
   "metadata": {},
   "outputs": [
    {
     "name": "stdout",
     "output_type": "stream",
     "text": [
      "r\n",
      "a\n"
     ]
    }
   ],
   "source": [
    "l = [\"r\",\"a\",3,4,\"emailid\"]\n",
    "for i in l:\n",
    "    if type(i) == int:\n",
    "        break\n",
    "    print(i)\n",
    "else:\n",
    "    print(\"Check this statement\")"
   ]
  },
  {
   "cell_type": "code",
   "execution_count": 5,
   "id": "bfc7674e",
   "metadata": {},
   "outputs": [
    {
     "name": "stdout",
     "output_type": "stream",
     "text": [
      "    \n",
      "*    \n",
      "**    \n",
      "***    \n",
      "****    \n",
      "*****    \n"
     ]
    }
   ],
   "source": [
    "n=5;i=0\n",
    "while(i <= n):\n",
    "    #print(\" \" * (n-1) + \"*\" * i)\n",
    "    print(\"*\" * i + \" \" * (n-1))\n",
    "    i += 1"
   ]
  },
  {
   "cell_type": "code",
   "execution_count": 1,
   "id": "02239a49",
   "metadata": {},
   "outputs": [],
   "source": [
    "def test():\n",
    "    pass"
   ]
  },
  {
   "cell_type": "code",
   "execution_count": 2,
   "id": "2a761f99",
   "metadata": {},
   "outputs": [],
   "source": [
    "test()"
   ]
  },
  {
   "cell_type": "code",
   "execution_count": 3,
   "id": "c77ce4f6",
   "metadata": {},
   "outputs": [],
   "source": [
    "def test1():\n",
    "    print(\"Hello World\")"
   ]
  },
  {
   "cell_type": "code",
   "execution_count": 4,
   "id": "566e68a8",
   "metadata": {},
   "outputs": [
    {
     "name": "stdout",
     "output_type": "stream",
     "text": [
      "Hello World\n"
     ]
    }
   ],
   "source": [
    "test1()"
   ]
  },
  {
   "cell_type": "code",
   "execution_count": 5,
   "id": "49ee3f4f",
   "metadata": {},
   "outputs": [
    {
     "name": "stdout",
     "output_type": "stream",
     "text": [
      "10\n"
     ]
    }
   ],
   "source": [
    "def test2(a,b):\n",
    "    print(a + b)\n",
    "test2(4,6)"
   ]
  },
  {
   "cell_type": "code",
   "execution_count": 6,
   "id": "a71bc052",
   "metadata": {},
   "outputs": [
    {
     "name": "stdout",
     "output_type": "stream",
     "text": [
      "Hello World\n"
     ]
    }
   ],
   "source": [
    "test1()"
   ]
  },
  {
   "cell_type": "code",
   "execution_count": 7,
   "id": "3afa6cd1",
   "metadata": {},
   "outputs": [
    {
     "ename": "TypeError",
     "evalue": "test2() missing 2 required positional arguments: 'a' and 'b'",
     "output_type": "error",
     "traceback": [
      "\u001b[1;31m---------------------------------------------------------------------------\u001b[0m",
      "\u001b[1;31mTypeError\u001b[0m                                 Traceback (most recent call last)",
      "\u001b[1;32m~\\AppData\\Local\\Temp\\ipykernel_11388\\2251835413.py\u001b[0m in \u001b[0;36m<module>\u001b[1;34m\u001b[0m\n\u001b[1;32m----> 1\u001b[1;33m \u001b[0mtest2\u001b[0m\u001b[1;33m(\u001b[0m\u001b[1;33m)\u001b[0m\u001b[1;33m\u001b[0m\u001b[1;33m\u001b[0m\u001b[0m\n\u001b[0m",
      "\u001b[1;31mTypeError\u001b[0m: test2() missing 2 required positional arguments: 'a' and 'b'"
     ]
    }
   ],
   "source": [
    "test2()"
   ]
  },
  {
   "cell_type": "code",
   "execution_count": 8,
   "id": "49218f05",
   "metadata": {},
   "outputs": [
    {
     "name": "stdout",
     "output_type": "stream",
     "text": [
      "224\n"
     ]
    }
   ],
   "source": [
    "test2(87,137)"
   ]
  },
  {
   "cell_type": "code",
   "execution_count": 9,
   "id": "96c17226",
   "metadata": {},
   "outputs": [],
   "source": [
    "def test(a,b,c):\n",
    "    print(a*b*c)"
   ]
  },
  {
   "cell_type": "code",
   "execution_count": 10,
   "id": "ce2fcbc9",
   "metadata": {},
   "outputs": [
    {
     "name": "stdout",
     "output_type": "stream",
     "text": [
      "24\n"
     ]
    }
   ],
   "source": [
    "test(2,3,4)"
   ]
  },
  {
   "cell_type": "code",
   "execution_count": 11,
   "id": "cbe690a0",
   "metadata": {},
   "outputs": [],
   "source": [
    "def test(a):\n",
    "    if a%2 == 0:\n",
    "        print(\"The number is even!\")\n",
    "    else:\n",
    "        print(\"The number is odd!\")"
   ]
  },
  {
   "cell_type": "code",
   "execution_count": 12,
   "id": "f2c62336",
   "metadata": {},
   "outputs": [
    {
     "name": "stdout",
     "output_type": "stream",
     "text": [
      "The number is odd!\n"
     ]
    }
   ],
   "source": [
    "test(87)"
   ]
  },
  {
   "cell_type": "code",
   "execution_count": 13,
   "id": "b67c127b",
   "metadata": {},
   "outputs": [
    {
     "name": "stdout",
     "output_type": "stream",
     "text": [
      "The number is even!\n"
     ]
    }
   ],
   "source": [
    "test(8)"
   ]
  },
  {
   "cell_type": "code",
   "execution_count": 14,
   "id": "eb7a78a6",
   "metadata": {},
   "outputs": [
    {
     "name": "stdout",
     "output_type": "stream",
     "text": [
      "The number is even!\n"
     ]
    }
   ],
   "source": [
    "test(88)"
   ]
  },
  {
   "cell_type": "code",
   "execution_count": 19,
   "id": "1b9ed1c2",
   "metadata": {},
   "outputs": [
    {
     "name": "stdout",
     "output_type": "stream",
     "text": [
      "You have BIKE: True\n",
      "\n",
      "You have CAR: True\n",
      "\n",
      "You can travel 100 KM: True\n",
      "\n",
      "You have BIKE: True\n",
      "\n",
      "You have CAR: False\n",
      "\n",
      "You can travel 100 KM: True\n",
      "\n",
      "You have BIKE: False\n",
      "\n",
      "You have CAR: True\n",
      "\n",
      "You can travel 100 KM: True\n",
      "\n",
      "You have BIKE: False\n",
      "\n",
      "You have CAR: False\n",
      "\n",
      "You can travel 100 KM: False\n",
      "\n"
     ]
    }
   ],
   "source": [
    "# Block one\n",
    "BIKE = True\n",
    "CAR = True\n",
    "TRAVEL_100_KM = BIKE or CAR\n",
    "print(f\"You have BIKE: {BIKE}\\n\")\n",
    "print(f\"You have CAR: {CAR}\\n\")\n",
    "print(f\"You can travel 100 KM: {TRAVEL_100_KM}\\n\")\n",
    "\n",
    "\n",
    "# Block two\n",
    "BIKE = True\n",
    "CAR = False\n",
    "TRAVEL_100_KM = BIKE or CAR\n",
    "print(f\"You have BIKE: {BIKE}\\n\")\n",
    "print(f\"You have CAR: {CAR}\\n\")\n",
    "print(f\"You can travel 100 KM: {TRAVEL_100_KM}\\n\")\n",
    "\n",
    "\n",
    "# Block three\n",
    "BIKE = False\n",
    "CAR = True\n",
    "TRAVEL_100_KM = BIKE or CAR\n",
    "print(f\"You have BIKE: {BIKE}\\n\")\n",
    "print(f\"You have CAR: {CAR}\\n\")\n",
    "print(f\"You can travel 100 KM: {TRAVEL_100_KM}\\n\")\n",
    "\n",
    "\n",
    "# Block four\n",
    "BIKE = False\n",
    "CAR = False\n",
    "TRAVEL_100_KM = BIKE or CAR\n",
    "print(f\"You have BIKE: {BIKE}\\n\")\n",
    "print(f\"You have CAR: {CAR}\\n\")\n",
    "print(f\"You can travel 100 KM: {TRAVEL_100_KM}\\n\")"
   ]
  },
  {
   "cell_type": "code",
   "execution_count": 24,
   "id": "2da3f043",
   "metadata": {},
   "outputs": [],
   "source": [
    "def travel_or_not(BIKE, CAR):\n",
    "    TRAVEL_100_KM = BIKE or CAR\n",
    "    \n",
    "    print(f\"You have BIKE: {BIKE}\\n\")\n",
    "    print(f\"You have CAR: {CAR}\\n\")\n",
    "    print(f\"You can travel 100 KM: {TRAVEL_100_KM}\\n\")"
   ]
  },
  {
   "cell_type": "code",
   "execution_count": 25,
   "id": "f90e8ccc",
   "metadata": {},
   "outputs": [
    {
     "name": "stdout",
     "output_type": "stream",
     "text": [
      "You have BIKE: False\n",
      "\n",
      "You have CAR: True\n",
      "\n",
      "You can travel 100 KM: True\n",
      "\n"
     ]
    }
   ],
   "source": [
    "travel_or_not(False, True)"
   ]
  },
  {
   "cell_type": "code",
   "execution_count": 26,
   "id": "c487dcf3",
   "metadata": {},
   "outputs": [
    {
     "name": "stdout",
     "output_type": "stream",
     "text": [
      "You have BIKE: True\n",
      "\n",
      "You have CAR: False\n",
      "\n",
      "You can travel 100 KM: True\n",
      "\n",
      "You have BIKE: False\n",
      "\n",
      "You have CAR: True\n",
      "\n",
      "You can travel 100 KM: True\n",
      "\n",
      "You have BIKE: True\n",
      "\n",
      "You have CAR: True\n",
      "\n",
      "You can travel 100 KM: True\n",
      "\n",
      "You have BIKE: False\n",
      "\n",
      "You have CAR: False\n",
      "\n",
      "You can travel 100 KM: False\n",
      "\n"
     ]
    }
   ],
   "source": [
    "def travel_or_not(BIKE, CAR):\n",
    "    TRAVEL_100_KM = BIKE or CAR\n",
    "    \n",
    "    print(f\"You have BIKE: {BIKE}\\n\")\n",
    "    print(f\"You have CAR: {CAR}\\n\")\n",
    "    print(f\"You can travel 100 KM: {TRAVEL_100_KM}\\n\")\n",
    "    \n",
    "BIKE = [True, False, True, False]\n",
    "CAR = [False, True, True, False]\n",
    "\n",
    "for bike, car in zip(BIKE, CAR):\n",
    "    travel_or_not(bike, car)"
   ]
  },
  {
   "cell_type": "code",
   "execution_count": 27,
   "id": "c15f1d8b",
   "metadata": {},
   "outputs": [
    {
     "name": "stdout",
     "output_type": "stream",
     "text": [
      "19\n"
     ]
    }
   ],
   "source": [
    "def test(a=10, b=9):\n",
    "    print(a+b)\n",
    "test()"
   ]
  },
  {
   "cell_type": "code",
   "execution_count": 28,
   "id": "634bd742",
   "metadata": {},
   "outputs": [
    {
     "name": "stdout",
     "output_type": "stream",
     "text": [
      "19\n"
     ]
    }
   ],
   "source": [
    "test()"
   ]
  },
  {
   "cell_type": "code",
   "execution_count": 29,
   "id": "f12fe475",
   "metadata": {},
   "outputs": [
    {
     "name": "stdout",
     "output_type": "stream",
     "text": [
      "9\n"
     ]
    }
   ],
   "source": [
    "test(4,5)"
   ]
  },
  {
   "cell_type": "code",
   "execution_count": 30,
   "id": "a639b38e",
   "metadata": {},
   "outputs": [
    {
     "name": "stdout",
     "output_type": "stream",
     "text": [
      "17\n"
     ]
    }
   ],
   "source": [
    "test(8,9)"
   ]
  },
  {
   "cell_type": "code",
   "execution_count": 31,
   "id": "40f521ee",
   "metadata": {},
   "outputs": [
    {
     "name": "stdout",
     "output_type": "stream",
     "text": [
      "16\n"
     ]
    }
   ],
   "source": [
    "test(a=8, b=8)"
   ]
  },
  {
   "cell_type": "code",
   "execution_count": 34,
   "id": "99aca466",
   "metadata": {},
   "outputs": [
    {
     "ename": "SyntaxError",
     "evalue": "non-default argument follows default argument (2275400096.py, line 1)",
     "output_type": "error",
     "traceback": [
      "\u001b[1;36m  File \u001b[1;32m\"C:\\Users\\lenovo\\AppData\\Local\\Temp\\ipykernel_11388\\2275400096.py\"\u001b[1;36m, line \u001b[1;32m1\u001b[0m\n\u001b[1;33m    def test(a=10, b):\u001b[0m\n\u001b[1;37m                    ^\u001b[0m\n\u001b[1;31mSyntaxError\u001b[0m\u001b[1;31m:\u001b[0m non-default argument follows default argument\n"
     ]
    }
   ],
   "source": [
    "def test(a=10, b):\n",
    "    print(a+b)\n",
    "test(11)"
   ]
  },
  {
   "cell_type": "code",
   "execution_count": 36,
   "id": "dae05cf6",
   "metadata": {},
   "outputs": [],
   "source": [
    "def test(a, b=10):\n",
    "    print(a+b)"
   ]
  },
  {
   "cell_type": "code",
   "execution_count": 37,
   "id": "d7549545",
   "metadata": {},
   "outputs": [
    {
     "name": "stdout",
     "output_type": "stream",
     "text": [
      "19\n"
     ]
    }
   ],
   "source": [
    "test(9)"
   ]
  },
  {
   "cell_type": "code",
   "execution_count": 38,
   "id": "2db43a69",
   "metadata": {},
   "outputs": [],
   "source": [
    "def travel_or_not(BIKE = False, CAR = False):\n",
    "    TRAVEL_100_KM = BIKE or CAR\n",
    "    \n",
    "    print(f\"You have BIKE: {BIKE}\\n\")\n",
    "    print(f\"You have CAR: {CAR}\\n\")\n",
    "    print(f\"You can travel 100 KM: {TRAVEL_100_KM}\\n\")"
   ]
  },
  {
   "cell_type": "code",
   "execution_count": 40,
   "id": "11f7966e",
   "metadata": {},
   "outputs": [
    {
     "name": "stdout",
     "output_type": "stream",
     "text": [
      "You have BIKE: True\n",
      "\n",
      "You have CAR: True\n",
      "\n",
      "You can travel 100 KM: True\n",
      "\n"
     ]
    }
   ],
   "source": [
    "travel_or_not(True, True)"
   ]
  },
  {
   "cell_type": "code",
   "execution_count": 41,
   "id": "a6dcb3cf",
   "metadata": {},
   "outputs": [
    {
     "data": {
      "text/plain": [
       "15"
      ]
     },
     "execution_count": 41,
     "metadata": {},
     "output_type": "execute_result"
    }
   ],
   "source": [
    "def test1(a,b):\n",
    "    return a+b\n",
    "test1(7,8)"
   ]
  },
  {
   "cell_type": "code",
   "execution_count": 45,
   "id": "3894818d",
   "metadata": {},
   "outputs": [],
   "source": [
    "def addition(a,b):\n",
    "    return a+b\n",
    "def multiplication(a,b):\n",
    "    return a*b\n",
    "def subtraction(a,b):\n",
    "    return a-b\n",
    "def division(a,b):\n",
    "    return a/b"
   ]
  },
  {
   "cell_type": "code",
   "execution_count": 46,
   "id": "60d3b56e",
   "metadata": {},
   "outputs": [
    {
     "data": {
      "text/plain": [
       "80"
      ]
     },
     "execution_count": 46,
     "metadata": {},
     "output_type": "execute_result"
    }
   ],
   "source": [
    "subtraction(88,8)"
   ]
  },
  {
   "cell_type": "code",
   "execution_count": 47,
   "id": "c65547da",
   "metadata": {},
   "outputs": [
    {
     "data": {
      "text/plain": [
       "49"
      ]
     },
     "execution_count": 47,
     "metadata": {},
     "output_type": "execute_result"
    }
   ],
   "source": [
    "multiplication(7,7)"
   ]
  },
  {
   "cell_type": "code",
   "execution_count": 48,
   "id": "bc15e438",
   "metadata": {},
   "outputs": [
    {
     "data": {
      "text/plain": [
       "3.0"
      ]
     },
     "execution_count": 48,
     "metadata": {},
     "output_type": "execute_result"
    }
   ],
   "source": [
    "division(9,3)"
   ]
  },
  {
   "cell_type": "code",
   "execution_count": 49,
   "id": "000495a8",
   "metadata": {},
   "outputs": [
    {
     "data": {
      "text/plain": [
       "96"
      ]
     },
     "execution_count": 49,
     "metadata": {},
     "output_type": "execute_result"
    }
   ],
   "source": [
    "addition(9,87)"
   ]
  },
  {
   "cell_type": "code",
   "execution_count": 51,
   "id": "97cd370c",
   "metadata": {},
   "outputs": [
    {
     "data": {
      "text/plain": [
       "(30, 10, 200, 2.0)"
      ]
     },
     "execution_count": 51,
     "metadata": {},
     "output_type": "execute_result"
    }
   ],
   "source": [
    "def test1(a,b):\n",
    "    return a+b, a-b, a*b, a/b\n",
    "test1(20,10)"
   ]
  },
  {
   "cell_type": "code",
   "execution_count": 53,
   "id": "a4bcccec",
   "metadata": {},
   "outputs": [],
   "source": [
    "def add(a,b):\n",
    "    \"\"\"This is function for addition  of two numbers\"\"\"\n",
    "    return a+b"
   ]
  },
  {
   "cell_type": "code",
   "execution_count": 54,
   "id": "ba4f72f4",
   "metadata": {},
   "outputs": [
    {
     "data": {
      "text/plain": [
       "7"
      ]
     },
     "execution_count": 54,
     "metadata": {},
     "output_type": "execute_result"
    }
   ],
   "source": [
    "add(3,4)"
   ]
  },
  {
   "cell_type": "code",
   "execution_count": 63,
   "id": "77a8b8f1",
   "metadata": {},
   "outputs": [
    {
     "name": "stdout",
     "output_type": "stream",
     "text": [
      "Enter your weight in kg = 75.5\n",
      "Enter your height in meters = 1.78\n"
     ]
    },
    {
     "data": {
      "text/plain": [
       "23.83"
      ]
     },
     "execution_count": 63,
     "metadata": {},
     "output_type": "execute_result"
    }
   ],
   "source": [
    "def bmi(w,h):\n",
    "    \"\"\"This is a function to find out the BMI\"\"\"\n",
    "    return w/h**2\n",
    "w = float(input(\"Enter your weight in kg = \"))\n",
    "h = float(input(\"Enter your height in meters = \"))\n",
    "\n",
    "round(bmi(w,h), 2)"
   ]
  },
  {
   "cell_type": "code",
   "execution_count": 7,
   "id": "6aeb0814",
   "metadata": {},
   "outputs": [
    {
     "name": "stdout",
     "output_type": "stream",
     "text": [
      "Enter the temp in celsius = 37\n"
     ]
    },
    {
     "data": {
      "text/plain": [
       "98.60000000000001"
      ]
     },
     "execution_count": 7,
     "metadata": {},
     "output_type": "execute_result"
    }
   ],
   "source": [
    "def convert(c):\n",
    "    \"\"\"This is a function to convert degree into farenheit\"\"\"\n",
    "    f = (c*1.8)+32\n",
    "    return f \n",
    "\n",
    "c = round(float(input(\"Enter the temp in celsius = \")), 2)\n",
    "\n",
    "convert(c)"
   ]
  },
  {
   "cell_type": "code",
   "execution_count": 10,
   "id": "22fc2cb9",
   "metadata": {},
   "outputs": [
    {
     "data": {
      "text/plain": [
       "(5, -1, 6, 0.6666666666666666)"
      ]
     },
     "execution_count": 10,
     "metadata": {},
     "output_type": "execute_result"
    }
   ],
   "source": [
    "def test(a,b):\n",
    "    return (a+b, a-b, a*b, a/b)\n",
    "test(2,3)"
   ]
  },
  {
   "cell_type": "code",
   "execution_count": 11,
   "id": "497c392a",
   "metadata": {},
   "outputs": [
    {
     "name": "stdout",
     "output_type": "stream",
     "text": [
      "Enter a number = 5\n",
      "Enter a number = 5\n"
     ]
    }
   ],
   "source": [
    "def addition(a,b):\n",
    "    \"\"\"This will add the two numbers\"\"\"\n",
    "    return a+b\n",
    "def multiplication(a,b):\n",
    "    \"\"\"This will multiply two numbers\"\"\"\n",
    "    return a*b\n",
    "def subtraction(a,b):\n",
    "    \"\"\"This will subtract two numbers\"\"\"\n",
    "    return a-b\n",
    "def division(a,b):\n",
    "    \"\"\"This will divide two numbers\"\"\"\n",
    "    return a/b\n",
    "\n",
    "a = float(input(\"Enter a number = \"))\n",
    "b = float(input(\"Enter a number = \"))"
   ]
  },
  {
   "cell_type": "code",
   "execution_count": 18,
   "id": "49b65f68",
   "metadata": {},
   "outputs": [
    {
     "data": {
      "text/plain": [
       "13"
      ]
     },
     "execution_count": 18,
     "metadata": {},
     "output_type": "execute_result"
    }
   ],
   "source": [
    "division(5,5)\n",
    "multiplication(8,8)\n",
    "subtraction(5,45)\n",
    "addition(6,7)"
   ]
  },
  {
   "cell_type": "code",
   "execution_count": 21,
   "id": "ae800194",
   "metadata": {},
   "outputs": [
    {
     "data": {
      "text/plain": [
       "(4, 6, 9, [8, 1, 3])"
      ]
     },
     "execution_count": 21,
     "metadata": {},
     "output_type": "execute_result"
    }
   ],
   "source": [
    "def test(*args):\n",
    "    return args\n",
    "test(4, 6, 9, [8,1,3])"
   ]
  },
  {
   "cell_type": "code",
   "execution_count": 26,
   "id": "51d980fa",
   "metadata": {},
   "outputs": [],
   "source": [
    "def test(a, *b):\n",
    "    return a,b"
   ]
  },
  {
   "cell_type": "code",
   "execution_count": 27,
   "id": "bf1dbb5a",
   "metadata": {},
   "outputs": [
    {
     "data": {
      "text/plain": [
       "(6, (7, 8, 9, 2, 6, 4))"
      ]
     },
     "execution_count": 27,
     "metadata": {},
     "output_type": "execute_result"
    }
   ],
   "source": [
    "test(6,7,8,9,2,6,4)"
   ]
  },
  {
   "cell_type": "code",
   "execution_count": 30,
   "id": "ed53631a",
   "metadata": {},
   "outputs": [],
   "source": [
    "def test(**kwargs):\n",
    "    return kwargs"
   ]
  },
  {
   "cell_type": "code",
   "execution_count": 31,
   "id": "8d04583e",
   "metadata": {},
   "outputs": [
    {
     "data": {
      "text/plain": [
       "{'a': 10, 'b': 10}"
      ]
     },
     "execution_count": 31,
     "metadata": {},
     "output_type": "execute_result"
    }
   ],
   "source": [
    "test(a=10,b=10)"
   ]
  },
  {
   "cell_type": "code",
   "execution_count": 62,
   "id": "4f88a389",
   "metadata": {},
   "outputs": [],
   "source": [
    "# Mantain the sequence\n",
    "\n",
    "def test(a, *args, **kwargs):\n",
    "    return a, args, kwargs"
   ]
  },
  {
   "cell_type": "code",
   "execution_count": 65,
   "id": "1a17c99a",
   "metadata": {},
   "outputs": [
    {
     "data": {
      "text/plain": [
       "(99, (101, 103, 105), {'x': 87, 'y': 78, 'z': [1, 2, 3, 4, 5, 6, 7, 8, 9]})"
      ]
     },
     "execution_count": 65,
     "metadata": {},
     "output_type": "execute_result"
    }
   ],
   "source": [
    "test(99,101,103,105, x=87, y=78, z=[1, 2, 3, 4, 5, 6, 7, 8, 9])"
   ]
  },
  {
   "cell_type": "code",
   "execution_count": 3,
   "id": "b668cdb1",
   "metadata": {},
   "outputs": [],
   "source": [
    "def test1(*args):\n",
    "    l = []\n",
    "    for i in args:\n",
    "        if type(i) == int:\n",
    "            l.append(i)\n",
    "    return l"
   ]
  },
  {
   "cell_type": "code",
   "execution_count": 4,
   "id": "c503f552",
   "metadata": {},
   "outputs": [
    {
     "data": {
      "text/plain": [
       "[4, 9, 5, 8, 5]"
      ]
     },
     "execution_count": 4,
     "metadata": {},
     "output_type": "execute_result"
    }
   ],
   "source": [
    "test1(4,9,5,8,5,\"arffk\")"
   ]
  },
  {
   "cell_type": "code",
   "execution_count": 45,
   "id": "d793e452",
   "metadata": {},
   "outputs": [],
   "source": [
    "def test1(**kwargs):\n",
    "    for i in kwargs:\n",
    "        return kwargs.keys()"
   ]
  },
  {
   "cell_type": "code",
   "execution_count": 46,
   "id": "24bc0e99",
   "metadata": {},
   "outputs": [
    {
     "data": {
      "text/plain": [
       "dict_keys(['y', 'z'])"
      ]
     },
     "execution_count": 46,
     "metadata": {},
     "output_type": "execute_result"
    }
   ],
   "source": [
    "test1(y=78, z=[1, 2, 3, 4, 5])"
   ]
  },
  {
   "cell_type": "code",
   "execution_count": 49,
   "id": "94d4ab65",
   "metadata": {},
   "outputs": [],
   "source": [
    "def test1(**kwargs):\n",
    "    for i in kwargs:\n",
    "        return kwargs.values()"
   ]
  },
  {
   "cell_type": "code",
   "execution_count": 50,
   "id": "3b339bca",
   "metadata": {},
   "outputs": [
    {
     "data": {
      "text/plain": [
       "dict_values([78, [1, 2, 3, 4, 5]])"
      ]
     },
     "execution_count": 50,
     "metadata": {},
     "output_type": "execute_result"
    }
   ],
   "source": [
    "test1(y=78, z=[1, 2, 3, 4, 5])"
   ]
  },
  {
   "cell_type": "code",
   "execution_count": 58,
   "id": "2950005b",
   "metadata": {},
   "outputs": [
    {
     "name": "stdout",
     "output_type": "stream",
     "text": [
      "Enter a number = 4\n",
      "Enter a number = 5\n"
     ]
    },
    {
     "data": {
      "text/plain": [
       "(9, 20)"
      ]
     },
     "execution_count": 58,
     "metadata": {},
     "output_type": "execute_result"
    }
   ],
   "source": [
    "def test(a,b):\n",
    "    return (a+b),(a*b)\n",
    "a = int(input(\"Enter a number = \"))\n",
    "b = int(input(\"Enter a number = \"))\n",
    "test(a,b)"
   ]
  },
  {
   "cell_type": "code",
   "execution_count": 59,
   "id": "2e4fd476",
   "metadata": {},
   "outputs": [],
   "source": [
    "a = lambda a, b : (a+b, a*b, a/b, a-b)"
   ]
  },
  {
   "cell_type": "code",
   "execution_count": 60,
   "id": "772349cd",
   "metadata": {},
   "outputs": [
    {
     "data": {
      "text/plain": [
       "(30, 200, 0.5, -10)"
      ]
     },
     "execution_count": 60,
     "metadata": {},
     "output_type": "execute_result"
    }
   ],
   "source": [
    "a(10,20)"
   ]
  },
  {
   "cell_type": "code",
   "execution_count": 71,
   "id": "7d84d0f3",
   "metadata": {},
   "outputs": [],
   "source": [
    "b = lambda a : (a%2 == 0)"
   ]
  },
  {
   "cell_type": "code",
   "execution_count": 72,
   "id": "5304f15a",
   "metadata": {},
   "outputs": [
    {
     "data": {
      "text/plain": [
       "True"
      ]
     },
     "execution_count": 72,
     "metadata": {},
     "output_type": "execute_result"
    }
   ],
   "source": [
    "b(4)"
   ]
  },
  {
   "cell_type": "code",
   "execution_count": 84,
   "id": "1ce37109",
   "metadata": {},
   "outputs": [
    {
     "name": "stdout",
     "output_type": "stream",
     "text": [
      "4, 4\n",
      "9, 6\n"
     ]
    }
   ],
   "source": [
    "l = [1,2,3,4,6,7,8,9,0]\n",
    "for i in l:\n",
    "    if (i<4) and (i>1):\n",
    "        print(f\"{i**2}, {i+i}\")"
   ]
  },
  {
   "cell_type": "code",
   "execution_count": 85,
   "id": "302696fd",
   "metadata": {},
   "outputs": [
    {
     "data": {
      "text/plain": [
       "[(4, 4), (9, 6)]"
      ]
     },
     "execution_count": 85,
     "metadata": {},
     "output_type": "execute_result"
    }
   ],
   "source": [
    "#List comprehension\n",
    "\n",
    "l = [1,2,3,4,6,7,8,9,0]\n",
    "[(i**2, i+i) for i in l if i<4 if i>1]"
   ]
  },
  {
   "cell_type": "code",
   "execution_count": 2,
   "id": "d943818f",
   "metadata": {},
   "outputs": [
    {
     "name": "stdout",
     "output_type": "stream",
     "text": [
      "1\n",
      "4\n",
      "9\n",
      "16\n",
      "25\n",
      "36\n",
      "49\n",
      "64\n",
      "81\n"
     ]
    }
   ],
   "source": [
    "numbers_list = [1,2,3,4,5,6,7,8,9]\n",
    "for num in numbers_list:\n",
    "    a = num**2\n",
    "    print(a)\n",
    "    "
   ]
  },
  {
   "cell_type": "code",
   "execution_count": 4,
   "id": "ebc6717c",
   "metadata": {},
   "outputs": [
    {
     "name": "stdout",
     "output_type": "stream",
     "text": [
      "[1, 4, 9, 16, 25, 36, 49, 64, 81]\n"
     ]
    }
   ],
   "source": [
    "def square(num):\n",
    "    return num**2\n",
    "\n",
    "numbers_list = [1,2,3,4,5,6,7,8,9]\n",
    "result = map(square, numbers_list)\n",
    "sq = list(result)\n",
    "print(sq)"
   ]
  },
  {
   "cell_type": "code",
   "execution_count": 8,
   "id": "eeb4656f",
   "metadata": {},
   "outputs": [
    {
     "name": "stdout",
     "output_type": "stream",
     "text": [
      "1\n",
      "4\n",
      "9\n",
      "16\n",
      "25\n",
      "36\n",
      "49\n",
      "64\n",
      "81\n"
     ]
    }
   ],
   "source": [
    "def square(num):\n",
    "    return num**2\n",
    "\n",
    "numbers_list = [1,2,3,4,5,6,7,8,9]\n",
    "for i in map(square, numbers_list):\n",
    "    print(i)"
   ]
  },
  {
   "cell_type": "code",
   "execution_count": 13,
   "id": "c15d2072",
   "metadata": {},
   "outputs": [
    {
     "name": "stdout",
     "output_type": "stream",
     "text": [
      "['J', 'Even', 'M', 'A', 'M', 'Even']\n"
     ]
    }
   ],
   "source": [
    "def inspect(mystring):\n",
    "    if len(mystring)%2 == 0:\n",
    "        return 'Even'\n",
    "    else:\n",
    "        return mystring[0]\n",
    "months = [\"January\", \"February\", \"March\", \"April\", \"May\", 'August']\n",
    "print(list(map(inspect,months)))"
   ]
  },
  {
   "cell_type": "code",
   "execution_count": 20,
   "id": "4950d8f8",
   "metadata": {},
   "outputs": [
    {
     "name": "stdout",
     "output_type": "stream",
     "text": [
      "J\n",
      "None\n",
      "Even\n",
      "None\n",
      "J\n",
      "None\n",
      "J\n",
      "None\n",
      "J\n",
      "None\n"
     ]
    }
   ],
   "source": [
    "def check(name):\n",
    "    if len(name) % 2 == 0:\n",
    "        print('Even')\n",
    "    else:\n",
    "        print(months[0][0])\n",
    "\n",
    "months = ['January', \"February\", \"March\", \"April\", \"May\"]\n",
    "for i in map(check, months):\n",
    "         print(i)"
   ]
  },
  {
   "cell_type": "code",
   "execution_count": 23,
   "id": "c819d45d",
   "metadata": {},
   "outputs": [
    {
     "data": {
      "text/plain": [
       "['S', 'S', 'M', 'J', 'F']"
      ]
     },
     "execution_count": 23,
     "metadata": {},
     "output_type": "execute_result"
    }
   ],
   "source": [
    "list(map(lambda x:x[0], ['Sachin', 'Subhash', 'March', 'January', 'February']))"
   ]
  },
  {
   "cell_type": "code",
   "execution_count": 5,
   "id": "cb531a6b",
   "metadata": {},
   "outputs": [
    {
     "name": "stdout",
     "output_type": "stream",
     "text": [
      "[2, 4, 6, 8]\n"
     ]
    }
   ],
   "source": [
    "def check(num):\n",
    "    return num%2 == 0\n",
    "numbers = [1,2,3,4,5,6,7,8,9]\n",
    "value = filter(check, numbers)\n",
    "print(list(value))"
   ]
  },
  {
   "cell_type": "code",
   "execution_count": 6,
   "id": "9963ca53",
   "metadata": {},
   "outputs": [
    {
     "name": "stdout",
     "output_type": "stream",
     "text": [
      "2\n",
      "4\n",
      "6\n",
      "8\n"
     ]
    }
   ],
   "source": [
    "def check(num):\n",
    "    return  num%2 == 0\n",
    "numbers = [1,2,3,4,5,6,7,8,9]\n",
    "for i in filter(check, numbers):\n",
    "    print(i)"
   ]
  },
  {
   "cell_type": "code",
   "execution_count": 14,
   "id": "ffd8c5ee",
   "metadata": {},
   "outputs": [
    {
     "name": "stdout",
     "output_type": "stream",
     "text": [
      "[2, 4, 6, 8]\n"
     ]
    }
   ],
   "source": [
    "print(list(filter(lambda i:i%2 == 0, [1,2,3,4,5,6,7,8,9])))"
   ]
  },
  {
   "cell_type": "code",
   "execution_count": 17,
   "id": "b3af089d",
   "metadata": {},
   "outputs": [
    {
     "name": "stdout",
     "output_type": "stream",
     "text": [
      "I love Python\n"
     ]
    }
   ],
   "source": [
    "#Global variable (variable is outside the fucntion)\n",
    "s = \"I love Python\"\n",
    "def f():\n",
    "    print(s)\n",
    "def f1():\n",
    "    print(s)\n",
    "f1()  "
   ]
  },
  {
   "cell_type": "code",
   "execution_count": 30,
   "id": "1fdd423d",
   "metadata": {},
   "outputs": [
    {
     "name": "stdout",
     "output_type": "stream",
     "text": [
      "I love python\n"
     ]
    }
   ],
   "source": [
    "#Local variable (variable is inside the function)\n",
    "def f():\n",
    "    s = \"I love python\"\n",
    "    print(s)\n",
    "f()"
   ]
  },
  {
   "cell_type": "code",
   "execution_count": 23,
   "id": "e250318d",
   "metadata": {},
   "outputs": [
    {
     "name": "stdout",
     "output_type": "stream",
     "text": [
      "I love C\n",
      "2577340735664\n",
      "I love python\n",
      "2577341326448\n"
     ]
    }
   ],
   "source": [
    "s2 = \"I love python\"\n",
    "def f():\n",
    "    s2 = \"I love C\"\n",
    "    print(s2)\n",
    "    print(id(s2))\n",
    "f()\n",
    "print(s2)\n",
    "print(id(s2))"
   ]
  },
  {
   "cell_type": "code",
   "execution_count": 27,
   "id": "7cf3595c",
   "metadata": {},
   "outputs": [
    {
     "name": "stdout",
     "output_type": "stream",
     "text": [
      "I love C\n"
     ]
    }
   ],
   "source": [
    "def f():\n",
    "    global p1\n",
    "    p1 = \"I love C\"\n",
    "    print(p1)\n",
    "f()"
   ]
  },
  {
   "cell_type": "code",
   "execution_count": 31,
   "id": "e757533a",
   "metadata": {},
   "outputs": [],
   "source": [
    "f = open(\"test51.txt\", \"w\")"
   ]
  },
  {
   "cell_type": "code",
   "execution_count": 32,
   "id": "2748c2e6",
   "metadata": {},
   "outputs": [
    {
     "name": "stdout",
     "output_type": "stream",
     "text": [
      " Volume in drive C has no label.\n",
      " Volume Serial Number is 9C44-0518\n",
      "\n",
      " Directory of C:\\Users\\lenovo\n",
      "\n",
      "10-01-2023  14:39    <DIR>          .\n",
      "28-09-2022  21:17    <DIR>          ..\n",
      "10-01-2023  14:40    <DIR>          .conda\n",
      "20-12-2022  20:33                25 .condarc\n",
      "20-12-2022  20:32    <DIR>          .continuum\n",
      "05-01-2023  14:19    <DIR>          .ipynb_checkpoints\n",
      "21-12-2022  14:09    <DIR>          .ipython\n",
      "26-12-2022  14:53    <DIR>          .jupyter\n",
      "28-05-2022  21:55             6,819 -1.14-windows.xml\n",
      "31-01-2022  15:24    <DIR>          3D Objects\n",
      "08-01-2023  23:16            25,498 Assignments.ipynb\n",
      "29-09-2022  02:16    <DIR>          Contacts\n",
      "10-05-2022  12:47    <DIR>          Documents\n",
      "10-01-2023  14:35             7,210 Doubts.ipynb\n",
      "10-01-2023  14:37    <DIR>          Downloads\n",
      "29-09-2022  02:16    <DIR>          Favorites\n",
      "29-09-2022  02:16    <DIR>          Links\n",
      "29-09-2022  02:16    <DIR>          Music\n",
      "29-09-2022  02:11    <DIR>          OneDrive\n",
      "10-01-2023  14:39           108,679 Python BIT Class.ipynb\n",
      "29-09-2022  02:16    <DIR>          Saved Games\n",
      "29-09-2022  02:16    <DIR>          Searches\n",
      "10-01-2023  14:39                 0 test51.txt\n",
      "29-09-2022  02:16    <DIR>          Videos\n",
      "               6 File(s)        148,231 bytes\n",
      "              18 Dir(s)  55,554,842,624 bytes free\n"
     ]
    }
   ],
   "source": [
    "%ls"
   ]
  },
  {
   "cell_type": "code",
   "execution_count": 36,
   "id": "ca223d35",
   "metadata": {},
   "outputs": [
    {
     "ename": "ValueError",
     "evalue": "I/O operation on closed file.",
     "output_type": "error",
     "traceback": [
      "\u001b[1;31m---------------------------------------------------------------------------\u001b[0m",
      "\u001b[1;31mValueError\u001b[0m                                Traceback (most recent call last)",
      "\u001b[1;32m~\\AppData\\Local\\Temp\\ipykernel_12120\\103508215.py\u001b[0m in \u001b[0;36m<module>\u001b[1;34m\u001b[0m\n\u001b[1;32m----> 1\u001b[1;33m \u001b[0mf\u001b[0m\u001b[1;33m.\u001b[0m\u001b[0mwrite\u001b[0m\u001b[1;33m(\u001b[0m\u001b[1;34m\"Hello, Sachin!\"\u001b[0m\u001b[1;33m)\u001b[0m\u001b[1;33m\u001b[0m\u001b[1;33m\u001b[0m\u001b[0m\n\u001b[0m",
      "\u001b[1;31mValueError\u001b[0m: I/O operation on closed file."
     ]
    }
   ],
   "source": [
    "f.write(\"Hello, Sachin!\")"
   ]
  },
  {
   "cell_type": "code",
   "execution_count": 39,
   "id": "e143965d",
   "metadata": {},
   "outputs": [],
   "source": [
    "f = open(\"test51.txt\", \"w\")"
   ]
  },
  {
   "cell_type": "code",
   "execution_count": 40,
   "id": "47e7b0ca",
   "metadata": {},
   "outputs": [
    {
     "data": {
      "text/plain": [
       "14"
      ]
     },
     "execution_count": 40,
     "metadata": {},
     "output_type": "execute_result"
    }
   ],
   "source": [
    "f.write(\"Hello, Sachin!\")"
   ]
  },
  {
   "cell_type": "code",
   "execution_count": 41,
   "id": "16d521ea",
   "metadata": {},
   "outputs": [],
   "source": [
    "f.close()"
   ]
  },
  {
   "cell_type": "code",
   "execution_count": 42,
   "id": "b7d1cc74",
   "metadata": {},
   "outputs": [],
   "source": [
    "f = open(\"test51.txt\", \"a\") #for append"
   ]
  },
  {
   "cell_type": "code",
   "execution_count": 45,
   "id": "a8de4394",
   "metadata": {},
   "outputs": [
    {
     "ename": "ValueError",
     "evalue": "I/O operation on closed file.",
     "output_type": "error",
     "traceback": [
      "\u001b[1;31m---------------------------------------------------------------------------\u001b[0m",
      "\u001b[1;31mValueError\u001b[0m                                Traceback (most recent call last)",
      "\u001b[1;32m~\\AppData\\Local\\Temp\\ipykernel_12120\\3649944264.py\u001b[0m in \u001b[0;36m<module>\u001b[1;34m\u001b[0m\n\u001b[1;32m----> 1\u001b[1;33m \u001b[0mf\u001b[0m\u001b[1;33m.\u001b[0m\u001b[0mwrite\u001b[0m\u001b[1;33m(\u001b[0m\u001b[1;34m\"You can start typing from here!\"\u001b[0m\u001b[1;33m)\u001b[0m\u001b[1;33m\u001b[0m\u001b[1;33m\u001b[0m\u001b[0m\n\u001b[0m",
      "\u001b[1;31mValueError\u001b[0m: I/O operation on closed file."
     ]
    }
   ],
   "source": [
    "f.write(\"You can start typing from here!\")"
   ]
  },
  {
   "cell_type": "code",
   "execution_count": 44,
   "id": "d57c7331",
   "metadata": {},
   "outputs": [],
   "source": [
    "f.close()"
   ]
  },
  {
   "cell_type": "code",
   "execution_count": 49,
   "id": "8a9be5fb",
   "metadata": {},
   "outputs": [],
   "source": [
    "f = open(\"test51.txt\", \"w\")"
   ]
  },
  {
   "cell_type": "code",
   "execution_count": 50,
   "id": "4d9d19a0",
   "metadata": {},
   "outputs": [
    {
     "data": {
      "text/plain": [
       "46"
      ]
     },
     "execution_count": 50,
     "metadata": {},
     "output_type": "execute_result"
    }
   ],
   "source": [
    "f.write(\"Hello, Sachin! You can start typing from here!\")"
   ]
  },
  {
   "cell_type": "code",
   "execution_count": 51,
   "id": "a2e9c17a",
   "metadata": {},
   "outputs": [],
   "source": [
    "f.close()"
   ]
  },
  {
   "cell_type": "code",
   "execution_count": 52,
   "id": "ff8e3c78",
   "metadata": {},
   "outputs": [
    {
     "data": {
      "text/plain": [
       "'C:\\\\Users\\\\lenovo'"
      ]
     },
     "execution_count": 52,
     "metadata": {},
     "output_type": "execute_result"
    }
   ],
   "source": [
    "pwd()"
   ]
  },
  {
   "cell_type": "code",
   "execution_count": 53,
   "id": "f6560ce3",
   "metadata": {},
   "outputs": [
    {
     "ename": "NameError",
     "evalue": "name 'cwd' is not defined",
     "output_type": "error",
     "traceback": [
      "\u001b[1;31m---------------------------------------------------------------------------\u001b[0m",
      "\u001b[1;31mNameError\u001b[0m                                 Traceback (most recent call last)",
      "\u001b[1;32m~\\AppData\\Local\\Temp\\ipykernel_12120\\4188852787.py\u001b[0m in \u001b[0;36m<module>\u001b[1;34m\u001b[0m\n\u001b[1;32m----> 1\u001b[1;33m \u001b[0mcwd\u001b[0m\u001b[1;33m(\u001b[0m\u001b[1;33m)\u001b[0m\u001b[1;33m\u001b[0m\u001b[1;33m\u001b[0m\u001b[0m\n\u001b[0m",
      "\u001b[1;31mNameError\u001b[0m: name 'cwd' is not defined"
     ]
    }
   ],
   "source": [
    "cwd()"
   ]
  },
  {
   "cell_type": "code",
   "execution_count": 54,
   "id": "1d0781c7",
   "metadata": {},
   "outputs": [],
   "source": [
    "import os"
   ]
  },
  {
   "cell_type": "code",
   "execution_count": 55,
   "id": "d220a039",
   "metadata": {},
   "outputs": [
    {
     "data": {
      "text/plain": [
       "'C:\\\\Users\\\\lenovo'"
      ]
     },
     "execution_count": 55,
     "metadata": {},
     "output_type": "execute_result"
    }
   ],
   "source": [
    "os.getcwd()"
   ]
  },
  {
   "cell_type": "code",
   "execution_count": 56,
   "id": "631e6117",
   "metadata": {},
   "outputs": [
    {
     "ename": "ValueError",
     "evalue": "I/O operation on closed file.",
     "output_type": "error",
     "traceback": [
      "\u001b[1;31m---------------------------------------------------------------------------\u001b[0m",
      "\u001b[1;31mValueError\u001b[0m                                Traceback (most recent call last)",
      "\u001b[1;32m~\\AppData\\Local\\Temp\\ipykernel_12120\\3059900045.py\u001b[0m in \u001b[0;36m<module>\u001b[1;34m\u001b[0m\n\u001b[1;32m----> 1\u001b[1;33m \u001b[0mf\u001b[0m\u001b[1;33m.\u001b[0m\u001b[0mread\u001b[0m\u001b[1;33m(\u001b[0m\u001b[1;33m)\u001b[0m\u001b[1;33m\u001b[0m\u001b[1;33m\u001b[0m\u001b[0m\n\u001b[0m",
      "\u001b[1;31mValueError\u001b[0m: I/O operation on closed file."
     ]
    }
   ],
   "source": [
    "f.read()"
   ]
  },
  {
   "cell_type": "code",
   "execution_count": 59,
   "id": "4b3a101c",
   "metadata": {},
   "outputs": [],
   "source": [
    "f = open(\"test51.txt\", \"r\")"
   ]
  },
  {
   "cell_type": "code",
   "execution_count": 60,
   "id": "f0b95f8f",
   "metadata": {},
   "outputs": [
    {
     "data": {
      "text/plain": [
       "'Hello, Sachin! You can start typing from here!'"
      ]
     },
     "execution_count": 60,
     "metadata": {},
     "output_type": "execute_result"
    }
   ],
   "source": [
    "f.read()"
   ]
  },
  {
   "cell_type": "code",
   "execution_count": 61,
   "id": "b8a2b885",
   "metadata": {},
   "outputs": [
    {
     "data": {
      "text/plain": [
       "46"
      ]
     },
     "execution_count": 61,
     "metadata": {},
     "output_type": "execute_result"
    }
   ],
   "source": [
    "f.tell()"
   ]
  },
  {
   "cell_type": "code",
   "execution_count": 2,
   "id": "f295c4f0",
   "metadata": {},
   "outputs": [],
   "source": [
    "g = open(\"Wiki.txt\", \"w\")"
   ]
  },
  {
   "cell_type": "code",
   "execution_count": 11,
   "id": "e4af3bd1",
   "metadata": {},
   "outputs": [
    {
     "ename": "ValueError",
     "evalue": "I/O operation on closed file.",
     "output_type": "error",
     "traceback": [
      "\u001b[1;31m---------------------------------------------------------------------------\u001b[0m",
      "\u001b[1;31mValueError\u001b[0m                                Traceback (most recent call last)",
      "\u001b[1;32m~\\AppData\\Local\\Temp\\ipykernel_3920\\1299384692.py\u001b[0m in \u001b[0;36m<module>\u001b[1;34m\u001b[0m\n\u001b[1;32m----> 1\u001b[1;33m \u001b[0mg\u001b[0m\u001b[1;33m.\u001b[0m\u001b[0mwrite\u001b[0m\u001b[1;33m(\u001b[0m\u001b[1;34m\"Arnold Alois Schwarzenegger (born July 30, 1947) is an Austrian and American actor, film producer, businessman, retired professional bodybuilder and politician who served as the 38th governor of California between 2003 and 2011. Time magazine named Schwarzenegger one of the 100 most influential people in the world in 2004 and 2007. As a Republican candidate, Schwarzenegger was first elected on October 7, 2003, in a special recall election to replace then-Governor Gray Davis. He received 48.6% of the vote, 17 points ahead of Democrat runner-up Cruz Bustamante. He was sworn in on November 17 to serve the remainder of Davis' term, and was re-elected in the 2006 California gubernatorial election with an increased vote share of 55.9% to serve a full term as governor.[10] In 2011, he reached his term limit as governor and returned to acting. Schwarzenegger was nicknamed the 'Austrian Oak' in his bodybuilding days, during his acting career,[11] and 'the Governator' a portmanteau of 'Governor' and 'Terminator' during his political career. He married Maria Shriver, a niece of President John F. Kennedy, in 1986. They separated in 2011 after he admitted to having fathered a child with their housemaid in 1997, their divorce was finalized in 2021.\"\u001b[0m\u001b[1;33m)\u001b[0m\u001b[1;33m\u001b[0m\u001b[1;33m\u001b[0m\u001b[0m\n\u001b[0m",
      "\u001b[1;31mValueError\u001b[0m: I/O operation on closed file."
     ]
    }
   ],
   "source": [
    "g.write(\"Arnold Alois Schwarzenegger (born July 30, 1947) is an Austrian and American actor, film producer, businessman, retired professional bodybuilder and politician who served as the 38th governor of California between 2003 and 2011. Time magazine named Schwarzenegger one of the 100 most influential people in the world in 2004 and 2007. As a Republican candidate, Schwarzenegger was first elected on October 7, 2003, in a special recall election to replace then-Governor Gray Davis. He received 48.6% of the vote, 17 points ahead of Democrat runner-up Cruz Bustamante. He was sworn in on November 17 to serve the remainder of Davis' term, and was re-elected in the 2006 California gubernatorial election with an increased vote share of 55.9% to serve a full term as governor.[10] In 2011, he reached his term limit as governor and returned to acting. Schwarzenegger was nicknamed the 'Austrian Oak' in his bodybuilding days, during his acting career,[11] and 'the Governator' a portmanteau of 'Governor' and 'Terminator' during his political career. He married Maria Shriver, a niece of President John F. Kennedy, in 1986. They separated in 2011 after he admitted to having fathered a child with their housemaid in 1997, their divorce was finalized in 2021.\")"
   ]
  },
  {
   "cell_type": "code",
   "execution_count": 12,
   "id": "d211ab8e",
   "metadata": {},
   "outputs": [
    {
     "ename": "AttributeError",
     "evalue": "'_io.TextIOWrapper' object has no attribute 'open'",
     "output_type": "error",
     "traceback": [
      "\u001b[1;31m---------------------------------------------------------------------------\u001b[0m",
      "\u001b[1;31mAttributeError\u001b[0m                            Traceback (most recent call last)",
      "\u001b[1;32m~\\AppData\\Local\\Temp\\ipykernel_3920\\750638303.py\u001b[0m in \u001b[0;36m<module>\u001b[1;34m\u001b[0m\n\u001b[1;32m----> 1\u001b[1;33m \u001b[0mg\u001b[0m\u001b[1;33m.\u001b[0m\u001b[0mopen\u001b[0m\u001b[1;33m(\u001b[0m\u001b[1;33m)\u001b[0m\u001b[1;33m\u001b[0m\u001b[1;33m\u001b[0m\u001b[0m\n\u001b[0m",
      "\u001b[1;31mAttributeError\u001b[0m: '_io.TextIOWrapper' object has no attribute 'open'"
     ]
    }
   ],
   "source": [
    "g.open()"
   ]
  },
  {
   "cell_type": "code",
   "execution_count": 13,
   "id": "2c16437a",
   "metadata": {},
   "outputs": [],
   "source": [
    "g = open(\"Wiki.txt\", \"w\")"
   ]
  },
  {
   "cell_type": "code",
   "execution_count": 14,
   "id": "73beac20",
   "metadata": {},
   "outputs": [
    {
     "data": {
      "text/plain": [
       "1254"
      ]
     },
     "execution_count": 14,
     "metadata": {},
     "output_type": "execute_result"
    }
   ],
   "source": [
    "g.write(\"Arnold Alois Schwarzenegger (born July 30, 1947) is an Austrian and American actor, film producer, businessman, retired professional bodybuilder and politician who served as the 38th governor of California between 2003 and 2011. Time magazine named Schwarzenegger one of the 100 most influential people in the world in 2004 and 2007. As a Republican candidate, Schwarzenegger was first elected on October 7, 2003, in a special recall election to replace then-Governor Gray Davis. He received 48.6% of the vote, 17 points ahead of Democrat runner-up Cruz Bustamante. He was sworn in on November 17 to serve the remainder of Davis' term, and was re-elected in the 2006 California gubernatorial election with an increased vote share of 55.9% to serve a full term as governor.[10] In 2011, he reached his term limit as governor and returned to acting. Schwarzenegger was nicknamed the 'Austrian Oak' in his bodybuilding days, during his acting career,[11] and 'the Governator' a portmanteau of 'Governor' and 'Terminator' during his political career. He married Maria Shriver, a niece of President John F. Kennedy, in 1986. They separated in 2011 after he admitted to having fathered a child with their housemaid in 1997, their divorce was finalized in 2021.\")"
   ]
  },
  {
   "cell_type": "code",
   "execution_count": 15,
   "id": "f9f01666",
   "metadata": {},
   "outputs": [],
   "source": [
    "g.close()"
   ]
  },
  {
   "cell_type": "code",
   "execution_count": 17,
   "id": "42a783d9",
   "metadata": {},
   "outputs": [],
   "source": [
    "g = open(\"Wiki.txt\", \"r\")"
   ]
  },
  {
   "cell_type": "code",
   "execution_count": 18,
   "id": "365c530c",
   "metadata": {},
   "outputs": [
    {
     "data": {
      "text/plain": [
       "5"
      ]
     },
     "execution_count": 18,
     "metadata": {},
     "output_type": "execute_result"
    }
   ],
   "source": [
    "g.seek(5)"
   ]
  },
  {
   "cell_type": "code",
   "execution_count": 19,
   "id": "e11bcf32",
   "metadata": {},
   "outputs": [
    {
     "data": {
      "text/plain": [
       "\"d Alois Schwarzenegger (born July 30, 1947) is an Austrian and American actor, film producer, businessman, retired professional bodybuilder and politician who served as the 38th governor of California between 2003 and 2011. Time magazine named Schwarzenegger one of the 100 most influential people in the world in 2004 and 2007. As a Republican candidate, Schwarzenegger was first elected on October 7, 2003, in a special recall election to replace then-Governor Gray Davis. He received 48.6% of the vote, 17 points ahead of Democrat runner-up Cruz Bustamante. He was sworn in on November 17 to serve the remainder of Davis' term, and was re-elected in the 2006 California gubernatorial election with an increased vote share of 55.9% to serve a full term as governor.[10] In 2011, he reached his term limit as governor and returned to acting. Schwarzenegger was nicknamed the 'Austrian Oak' in his bodybuilding days, during his acting career,[11] and 'the Governator' a portmanteau of 'Governor' and 'Terminator' during his political career. He married Maria Shriver, a niece of President John F. Kennedy, in 1986. They separated in 2011 after he admitted to having fathered a child with their housemaid in 1997, their divorce was finalized in 2021.\""
      ]
     },
     "execution_count": 19,
     "metadata": {},
     "output_type": "execute_result"
    }
   ],
   "source": [
    "g.readline()"
   ]
  },
  {
   "cell_type": "code",
   "execution_count": 20,
   "id": "c8b5ae4e",
   "metadata": {},
   "outputs": [],
   "source": [
    "g.close()"
   ]
  },
  {
   "cell_type": "code",
   "execution_count": 21,
   "id": "c2ebd01a",
   "metadata": {},
   "outputs": [
    {
     "name": "stdout",
     "output_type": "stream",
     "text": [
      "Arnold Alois Schwarzenegger (born July 30, 1947) is an Austrian and American actor, film producer, businessman, retired professional bodybuilder and politician who served as the 38th governor of California between 2003 and 2011. Time magazine named Schwarzenegger one of the 100 most influential people in the world in 2004 and 2007. As a Republican candidate, Schwarzenegger was first elected on October 7, 2003, in a special recall election to replace then-Governor Gray Davis. He received 48.6% of the vote, 17 points ahead of Democrat runner-up Cruz Bustamante. He was sworn in on November 17 to serve the remainder of Davis' term, and was re-elected in the 2006 California gubernatorial election with an increased vote share of 55.9% to serve a full term as governor.[10] In 2011, he reached his term limit as governor and returned to acting. Schwarzenegger was nicknamed the 'Austrian Oak' in his bodybuilding days, during his acting career,[11] and 'the Governator' a portmanteau of 'Governor' and 'Terminator' during his political career. He married Maria Shriver, a niece of President John F. Kennedy, in 1986. They separated in 2011 after he admitted to having fathered a child with their housemaid in 1997, their divorce was finalized in 2021. "
     ]
    }
   ],
   "source": [
    "g = open(\"Wiki.txt\",\"r+\")\n",
    "for line in g:\n",
    "    print(line, end = \" \")"
   ]
  },
  {
   "cell_type": "code",
   "execution_count": 22,
   "id": "3d74ae03",
   "metadata": {},
   "outputs": [],
   "source": [
    "g.close()"
   ]
  },
  {
   "cell_type": "code",
   "execution_count": 23,
   "id": "07a07c7a",
   "metadata": {},
   "outputs": [],
   "source": [
    "import logging"
   ]
  },
  {
   "cell_type": "code",
   "execution_count": 24,
   "id": "a5a94120",
   "metadata": {},
   "outputs": [],
   "source": [
    "logging.basicConfig(filename = \"test.log\", level = logging.INFO)"
   ]
  },
  {
   "cell_type": "code",
   "execution_count": 25,
   "id": "00477fb2",
   "metadata": {},
   "outputs": [],
   "source": [
    "logging.info(\"This is my info log\")\n",
    "logging.warning(\"This is my warning log\")\n",
    "logging.error(\"This is my error log\")"
   ]
  },
  {
   "cell_type": "code",
   "execution_count": 26,
   "id": "6b535de0",
   "metadata": {},
   "outputs": [],
   "source": [
    "logging.shutdown()"
   ]
  },
  {
   "cell_type": "code",
   "execution_count": 5,
   "id": "df099b71",
   "metadata": {},
   "outputs": [],
   "source": [
    "import logging\n",
    "logging.basicConfig(filename = \"test30.log\", level = logging.DEBUG, format = \"%(asctime)s %(levelname)s %(message)s\")"
   ]
  },
  {
   "cell_type": "code",
   "execution_count": 6,
   "id": "f501b3c9",
   "metadata": {},
   "outputs": [],
   "source": [
    "logging.info(\"This is my info log\")\n",
    "logging.warning(\"This is my warning log\")\n",
    "logging.debug(\"This is my debug log\")\n",
    "logging.error(\"This is m error log\")"
   ]
  },
  {
   "cell_type": "code",
   "execution_count": 7,
   "id": "922c21ce",
   "metadata": {},
   "outputs": [],
   "source": [
    "logging.shutdown()"
   ]
  },
  {
   "cell_type": "code",
   "execution_count": 1,
   "id": "250d990d",
   "metadata": {},
   "outputs": [],
   "source": [
    "import logging\n",
    "logging.basicConfig(filename = \"test30.log\", level = logging.DEBUG, format = \"%(asctime)s %(levelname)s %(message)s\")"
   ]
  },
  {
   "cell_type": "code",
   "execution_count": 2,
   "id": "166dbaa7",
   "metadata": {},
   "outputs": [],
   "source": [
    "import logging\n",
    "def divbyzero(a,b):\n",
    "    logging.info(\"This is a start of my code  and I am trying to enter %s and %s\",a,b)\n",
    "    try:\n",
    "        div = a/b\n",
    "        logging.info(\"Executed success\")\n",
    "    except Exception as e:\n",
    "        logging.error(\"Error has been detected\")\n",
    "        logging.exception(\"Exception occured\" + str(e))"
   ]
  },
  {
   "cell_type": "code",
   "execution_count": 3,
   "id": "c879197a",
   "metadata": {},
   "outputs": [],
   "source": [
    "divbyzero(4,4)"
   ]
  },
  {
   "cell_type": "code",
   "execution_count": 7,
   "id": "b8cf91ce",
   "metadata": {},
   "outputs": [],
   "source": [
    "divbyzero(4,0)"
   ]
  },
  {
   "cell_type": "code",
   "execution_count": 4,
   "id": "0c6399ed",
   "metadata": {},
   "outputs": [],
   "source": [
    "#OOPs concept\n",
    "\n",
    "class test:\n",
    "    def test(Sachin):\n",
    "        print(\"This is my test function.\")"
   ]
  },
  {
   "cell_type": "code",
   "execution_count": 5,
   "id": "66d648be",
   "metadata": {},
   "outputs": [],
   "source": [
    "obj = test()"
   ]
  },
  {
   "cell_type": "code",
   "execution_count": 6,
   "id": "93c35168",
   "metadata": {},
   "outputs": [
    {
     "name": "stdout",
     "output_type": "stream",
     "text": [
      "This is my test function.\n"
     ]
    }
   ],
   "source": [
    "obj.test()"
   ]
  },
  {
   "cell_type": "code",
   "execution_count": 26,
   "id": "6514fa52",
   "metadata": {},
   "outputs": [],
   "source": [
    "class A:\n",
    "    def trial(Sachin):\n",
    "        print(\"This is my first name.\")\n",
    "    def trial1(Sachin):\n",
    "        print(\"This is my surname.\")\n",
    "obj = A()"
   ]
  },
  {
   "cell_type": "code",
   "execution_count": 27,
   "id": "4a7234d2",
   "metadata": {},
   "outputs": [
    {
     "name": "stdout",
     "output_type": "stream",
     "text": [
      "This is my surname.\n"
     ]
    }
   ],
   "source": [
    "obj.trial1()"
   ]
  },
  {
   "cell_type": "code",
   "execution_count": 28,
   "id": "680b4162",
   "metadata": {},
   "outputs": [],
   "source": [
    "class B:\n",
    "    def func(Sachin):\n",
    "        return \"My name is Sachin!\"\n",
    "    def func1(Sachin,a,b):\n",
    "        return a*b\n",
    "obj = B()"
   ]
  },
  {
   "cell_type": "code",
   "execution_count": 34,
   "id": "f1a6b627",
   "metadata": {},
   "outputs": [
    {
     "data": {
      "text/plain": [
       "'My name is Sachin!'"
      ]
     },
     "execution_count": 34,
     "metadata": {},
     "output_type": "execute_result"
    }
   ],
   "source": [
    "obj.func()"
   ]
  },
  {
   "cell_type": "code",
   "execution_count": 35,
   "id": "63582bdc",
   "metadata": {},
   "outputs": [
    {
     "data": {
      "text/plain": [
       "81"
      ]
     },
     "execution_count": 35,
     "metadata": {},
     "output_type": "execute_result"
    }
   ],
   "source": [
    "obj.func1(9,9)"
   ]
  },
  {
   "cell_type": "code",
   "execution_count": 36,
   "id": "0b6b3f71",
   "metadata": {},
   "outputs": [],
   "source": [
    "class car:\n",
    "    def func2(Sachin,colour,engine):\n",
    "        return \"This is my function 2.\"\n",
    "    def func3(Sachin):\n",
    "        return \"This is my function 3.\"\n",
    "    def func4(Sachin):\n",
    "        return Sachin.colour,Sachin.engine"
   ]
  },
  {
   "cell_type": "code",
   "execution_count": 39,
   "id": "c6d3258c",
   "metadata": {},
   "outputs": [
    {
     "ename": "NameError",
     "evalue": "name 'white' is not defined",
     "output_type": "error",
     "traceback": [
      "\u001b[1;31m---------------------------------------------------------------------------\u001b[0m",
      "\u001b[1;31mNameError\u001b[0m                                 Traceback (most recent call last)",
      "\u001b[1;32m~\\AppData\\Local\\Temp\\ipykernel_10792\\789812923.py\u001b[0m in \u001b[0;36m<module>\u001b[1;34m\u001b[0m\n\u001b[1;32m----> 1\u001b[1;33m \u001b[0mobj\u001b[0m \u001b[1;33m=\u001b[0m \u001b[0mcar\u001b[0m\u001b[1;33m(\u001b[0m\u001b[0mwhite\u001b[0m\u001b[1;33m,\u001b[0m \u001b[0mPetrol\u001b[0m\u001b[1;33m)\u001b[0m\u001b[1;33m\u001b[0m\u001b[1;33m\u001b[0m\u001b[0m\n\u001b[0m",
      "\u001b[1;31mNameError\u001b[0m: name 'white' is not defined"
     ]
    }
   ],
   "source": [
    "obj = car()"
   ]
  },
  {
   "cell_type": "code",
   "execution_count": null,
   "id": "9b1d415b",
   "metadata": {},
   "outputs": [],
   "source": [
    "obj.func4()"
   ]
  },
  {
   "cell_type": "code",
   "execution_count": 41,
   "id": "934b483e",
   "metadata": {},
   "outputs": [
    {
     "data": {
      "text/plain": [
       "11"
      ]
     },
     "execution_count": 41,
     "metadata": {},
     "output_type": "execute_result"
    }
   ],
   "source": [
    "class C:\n",
    "    def func1(self,a,b):\n",
    "        self.a = a\n",
    "        self.b = b\n",
    "    def func2(self):\n",
    "        return self.a + self.b\n",
    "p1 = C()\n",
    "p1.func1(5,6)\n",
    "p1.func2()"
   ]
  },
  {
   "cell_type": "code",
   "execution_count": 47,
   "id": "5c0a32fb",
   "metadata": {},
   "outputs": [],
   "source": [
    "class car:\n",
    "    def __init__(self,colour,engine,mileage,price):\n",
    "        self.colour = colour\n",
    "        self.engine = engine\n",
    "        self.mileage = mileage\n",
    "        self.price = price\n",
    "    def func2(self):\n",
    "        return \"This is my function 2.\"\n",
    "    def func3(self):\n",
    "        return \"This is my function 3.\"\n",
    "    def func4(self):\n",
    "        return self.colour,self.engine,self.mileage,self.price"
   ]
  },
  {
   "cell_type": "code",
   "execution_count": 48,
   "id": "dc75f4d4",
   "metadata": {},
   "outputs": [],
   "source": [
    "obj = car(\"White\", \"Petrol\", \"14kmpl\", \"13L\")"
   ]
  },
  {
   "cell_type": "code",
   "execution_count": 50,
   "id": "28d35f43",
   "metadata": {},
   "outputs": [
    {
     "data": {
      "text/plain": [
       "('White', 'Petrol', '14kmpl', '13L')"
      ]
     },
     "execution_count": 50,
     "metadata": {},
     "output_type": "execute_result"
    }
   ],
   "source": [
    "obj.func4()"
   ]
  },
  {
   "cell_type": "code",
   "execution_count": 3,
   "id": "7c56282a",
   "metadata": {},
   "outputs": [
    {
     "data": {
      "text/plain": [
       "'This is my parent class!'"
      ]
     },
     "execution_count": 3,
     "metadata": {},
     "output_type": "execute_result"
    }
   ],
   "source": [
    "#Inheritance in OOPs concept:\n",
    "\n",
    "class A:\n",
    "    def func1(self):\n",
    "        return \"This is my parent class!\"\n",
    "obj = A()\n",
    "obj.func1()"
   ]
  },
  {
   "cell_type": "code",
   "execution_count": 4,
   "id": "4b955bae",
   "metadata": {},
   "outputs": [
    {
     "data": {
      "text/plain": [
       "'This is my child class!'"
      ]
     },
     "execution_count": 4,
     "metadata": {},
     "output_type": "execute_result"
    }
   ],
   "source": [
    "class B:\n",
    "    def func2(self):\n",
    "        return \"This is my child class!\"\n",
    "obj1 = B()\n",
    "obj1.func2()"
   ]
  },
  {
   "cell_type": "code",
   "execution_count": 7,
   "id": "4b553094",
   "metadata": {},
   "outputs": [
    {
     "data": {
      "text/plain": [
       "'This is my child class!'"
      ]
     },
     "execution_count": 7,
     "metadata": {},
     "output_type": "execute_result"
    }
   ],
   "source": [
    "class A:\n",
    "    def func1(self):\n",
    "        return \"This is my parent class!\"\n",
    "class B(A):\n",
    "    def func2(self):\n",
    "        return \"This is my child class!\"\n",
    "obj1 = B()\n",
    "obj1.func2()"
   ]
  },
  {
   "cell_type": "code",
   "execution_count": 8,
   "id": "6e117eab",
   "metadata": {},
   "outputs": [
    {
     "data": {
      "text/plain": [
       "(3, 4)"
      ]
     },
     "execution_count": 8,
     "metadata": {},
     "output_type": "execute_result"
    }
   ],
   "source": [
    "class parent:\n",
    "    def __init__(self,a,b):\n",
    "        self.a = a\n",
    "        self.b = b\n",
    "    def func1(self):\n",
    "        return \"This is my parent class!\"\n",
    "    def func2(self):\n",
    "        return self.a, self.b\n",
    "obj = parent(3,4)\n",
    "obj.func2()"
   ]
  },
  {
   "cell_type": "code",
   "execution_count": 21,
   "id": "c3ac622c",
   "metadata": {},
   "outputs": [
    {
     "data": {
      "text/plain": [
       "14"
      ]
     },
     "execution_count": 21,
     "metadata": {},
     "output_type": "execute_result"
    }
   ],
   "source": [
    "class parent:\n",
    "    def __init__(self,a,b):\n",
    "        self.a = a\n",
    "        self.b = b\n",
    "    def func1(self):\n",
    "        return \"This is my parent class!\"\n",
    "    def func2(self):\n",
    "        return self.a, self.b\n",
    "    \n",
    "class child(parent):\n",
    "    def __init__(self,a,b,c,d):\n",
    "        self.c = c\n",
    "        self.d = d\n",
    "        parent.__init__(self,a,b)\n",
    "    def func3(self):\n",
    "        return \"This is my child class!\"\n",
    "    def func4(self):\n",
    "        return self.c + self.d\n",
    "    \n",
    "obj = child(11,12,8,6)\n",
    "obj.func4()"
   ]
  },
  {
   "cell_type": "code",
   "execution_count": 27,
   "id": "d78e5558",
   "metadata": {},
   "outputs": [
    {
     "ename": "TypeError",
     "evalue": "__init__() takes 3 positional arguments but 5 were given",
     "output_type": "error",
     "traceback": [
      "\u001b[1;31m---------------------------------------------------------------------------\u001b[0m",
      "\u001b[1;31mTypeError\u001b[0m                                 Traceback (most recent call last)",
      "\u001b[1;32m~\\AppData\\Local\\Temp\\ipykernel_7008\\56748736.py\u001b[0m in \u001b[0;36m<module>\u001b[1;34m\u001b[0m\n\u001b[0;32m     12\u001b[0m     \u001b[1;32mdef\u001b[0m \u001b[0mfunc2\u001b[0m\u001b[1;33m(\u001b[0m\u001b[0mself\u001b[0m\u001b[1;33m)\u001b[0m\u001b[1;33m:\u001b[0m\u001b[1;33m\u001b[0m\u001b[1;33m\u001b[0m\u001b[0m\n\u001b[0;32m     13\u001b[0m         \u001b[1;32mreturn\u001b[0m \u001b[0mself\u001b[0m\u001b[1;33m.\u001b[0m\u001b[0mprice\u001b[0m\u001b[1;33m,\u001b[0m \u001b[0mself\u001b[0m\u001b[1;33m.\u001b[0m\u001b[0mcolour\u001b[0m\u001b[1;33m\u001b[0m\u001b[1;33m\u001b[0m\u001b[0m\n\u001b[1;32m---> 14\u001b[1;33m \u001b[0mobj\u001b[0m \u001b[1;33m=\u001b[0m \u001b[0mcar\u001b[0m\u001b[1;33m(\u001b[0m\u001b[1;34m\"White\"\u001b[0m\u001b[1;33m,\u001b[0m \u001b[1;34m\"14 kmpl\"\u001b[0m\u001b[1;33m,\u001b[0m\u001b[1;36m13\u001b[0m\u001b[1;33m,\u001b[0m \u001b[1;34m\"SUV\"\u001b[0m\u001b[1;33m)\u001b[0m\u001b[1;33m\u001b[0m\u001b[1;33m\u001b[0m\u001b[0m\n\u001b[0m\u001b[0;32m     15\u001b[0m \u001b[0mobj\u001b[0m\u001b[1;33m.\u001b[0m\u001b[0mfunc2\u001b[0m\u001b[1;33m(\u001b[0m\u001b[1;33m)\u001b[0m\u001b[1;33m\u001b[0m\u001b[1;33m\u001b[0m\u001b[0m\n",
      "\u001b[1;31mTypeError\u001b[0m: __init__() takes 3 positional arguments but 5 were given"
     ]
    }
   ],
   "source": [
    "class car:\n",
    "    def __init__(self,colour,mileage):\n",
    "        self.colour = colour\n",
    "        self.mileage = mileage\n",
    "    def func1(self):\n",
    "        return self.colour, self.mileage\n",
    "    \n",
    "class engine(car):\n",
    "    def __init__(self,colour,mileage,price,model):\n",
    "        self.price = price\n",
    "        self.model = model\n",
    "        car. __init__(self,colour,mileage)\n",
    "    def func2(self):\n",
    "        return self.price, self.colour\n",
    "    \n",
    "obj = car(\"White\", \"14 kmpl\",13, \"SUV\")\n",
    "obj.func2()"
   ]
  },
  {
   "cell_type": "code",
   "execution_count": 1,
   "id": "239db811",
   "metadata": {},
   "outputs": [
    {
     "data": {
      "text/plain": [
       "(13, 'White')"
      ]
     },
     "execution_count": 1,
     "metadata": {},
     "output_type": "execute_result"
    }
   ],
   "source": [
    "class car:\n",
    "    def __init__(self,colour,mileage):\n",
    "        self.colour = colour\n",
    "        self.mileage = mileage\n",
    "    def func1(self):\n",
    "        return self.colour, self.mileage\n",
    "    \n",
    "class engine(car):\n",
    "    def __init__(self,colour,mileage,price,model):\n",
    "        self.price = price\n",
    "        self.model = model\n",
    "        car. __init__(self,colour,mileage)\n",
    "    def func2(self):\n",
    "        return self.price, self.colour\n",
    "    \n",
    "obj = engine(\"White\", \"14 kmpl\", 13, \"SUV\")\n",
    "obj.func2()"
   ]
  },
  {
   "cell_type": "code",
   "execution_count": 2,
   "id": "daf6c80c",
   "metadata": {},
   "outputs": [],
   "source": [
    "import os"
   ]
  },
  {
   "cell_type": "code",
   "execution_count": 1,
   "id": "f5d292da",
   "metadata": {},
   "outputs": [],
   "source": [
    "f = open(\"BMICalculator.txt\", \"w\")"
   ]
  },
  {
   "cell_type": "code",
   "execution_count": 2,
   "id": "e3eced42",
   "metadata": {},
   "outputs": [],
   "source": [
    "import logging\n",
    "logging.basicConfig(filename = \"BMI.log\", level = logging.DEBUG)"
   ]
  },
  {
   "cell_type": "code",
   "execution_count": 17,
   "id": "aa9d2537",
   "metadata": {},
   "outputs": [],
   "source": [
    "import logging\n",
    "def calculatebmi(w,h):\n",
    "    logging.info(\"Enter your height and weight: %s and %s\",w,h)\n",
    "    try:\n",
    "        div = (w/(h*h))\n",
    "        print(div)\n",
    "        logging.info(f\"Your BMI is {div}\")\n",
    "    except Exception as e:\n",
    "        logging.error(\"Error has been detected\")\n",
    "        logging.exception(\"Exception occured\" + str(e))"
   ]
  },
  {
   "cell_type": "code",
   "execution_count": 18,
   "id": "9c45990e",
   "metadata": {},
   "outputs": [
    {
     "name": "stdout",
     "output_type": "stream",
     "text": [
      "25.969529085872576\n"
     ]
    }
   ],
   "source": [
    "calculatebmi(60,1.52)"
   ]
  },
  {
   "cell_type": "code",
   "execution_count": 23,
   "id": "a03fca46",
   "metadata": {},
   "outputs": [
    {
     "name": "stdout",
     "output_type": "stream",
     "text": [
      "Enter your weight is kg = \n",
      "75\n",
      "Enter your height in meters = \n",
      "1.75\n"
     ]
    },
    {
     "ename": "TypeError",
     "evalue": "A() takes no arguments",
     "output_type": "error",
     "traceback": [
      "\u001b[1;31m---------------------------------------------------------------------------\u001b[0m",
      "\u001b[1;31mTypeError\u001b[0m                                 Traceback (most recent call last)",
      "\u001b[1;32m~\\AppData\\Local\\Temp\\ipykernel_2496\\3684288170.py\u001b[0m in \u001b[0;36m<module>\u001b[1;34m\u001b[0m\n\u001b[0;32m      4\u001b[0m \u001b[0mw\u001b[0m \u001b[1;33m=\u001b[0m \u001b[0mfloat\u001b[0m\u001b[1;33m(\u001b[0m\u001b[0minput\u001b[0m\u001b[1;33m(\u001b[0m\u001b[1;34m\"Enter your weight is kg = \\n\"\u001b[0m\u001b[1;33m)\u001b[0m\u001b[1;33m)\u001b[0m\u001b[1;33m\u001b[0m\u001b[1;33m\u001b[0m\u001b[0m\n\u001b[0;32m      5\u001b[0m \u001b[0mh\u001b[0m \u001b[1;33m=\u001b[0m \u001b[0mfloat\u001b[0m\u001b[1;33m(\u001b[0m\u001b[0minput\u001b[0m\u001b[1;33m(\u001b[0m\u001b[1;34m\"Enter your height in meters = \\n\"\u001b[0m\u001b[1;33m)\u001b[0m\u001b[1;33m)\u001b[0m\u001b[1;33m\u001b[0m\u001b[1;33m\u001b[0m\u001b[0m\n\u001b[1;32m----> 6\u001b[1;33m \u001b[0mobj\u001b[0m \u001b[1;33m=\u001b[0m \u001b[0mA\u001b[0m\u001b[1;33m(\u001b[0m\u001b[0mw\u001b[0m\u001b[1;33m,\u001b[0m\u001b[0mh\u001b[0m\u001b[1;33m)\u001b[0m\u001b[1;33m\u001b[0m\u001b[1;33m\u001b[0m\u001b[0m\n\u001b[0m\u001b[0;32m      7\u001b[0m \u001b[0mobj\u001b[0m\u001b[1;33m.\u001b[0m\u001b[0mbmi\u001b[0m\u001b[1;33m(\u001b[0m\u001b[1;33m)\u001b[0m\u001b[1;33m\u001b[0m\u001b[1;33m\u001b[0m\u001b[0m\n",
      "\u001b[1;31mTypeError\u001b[0m: A() takes no arguments"
     ]
    }
   ],
   "source": [
    "class A:\n",
    "    def bmi(w,h):\n",
    "        return (w/h**2)\n",
    "w = float(input(\"Enter your weight is kg = \\n\"))\n",
    "h = float(input(\"Enter your height in meters = \\n\"))\n",
    "obj = A(w,h)\n",
    "obj.bmi()"
   ]
  },
  {
   "cell_type": "code",
   "execution_count": 28,
   "id": "2e5a05ee",
   "metadata": {},
   "outputs": [
    {
     "name": "stdout",
     "output_type": "stream",
     "text": [
      "Enter your weight in kgs = 75.5\n",
      "Enter your height in meters = 1.78\n",
      "Your BMI is: 23.829061987122838\n"
     ]
    }
   ],
   "source": [
    "# BMI Calculator using Class\n",
    "\n",
    "class BMI():\n",
    "    \"\"\"This is a program to calcualate the body mass index for person\"\"\"\n",
    "    def __init__(self,w,h):\n",
    "        self.w = w\n",
    "        self.h = h\n",
    "    def bmi_cal(self):\n",
    "        try:\n",
    "            bmi = self.w / (self.h)**2\n",
    "            print(f\"Your BMI is: {bmi}\")\n",
    "        except Exception as e:\n",
    "            print(e)\n",
    "try:\n",
    "    w = float(input(\"Enter your weight in kgs = \"))\n",
    "    h = float(input(\"Enter your height in meters = \"))\n",
    "    obj = BMI(w,h)\n",
    "    obj.bmi_cal()\n",
    "except:\n",
    "    print(\"Please enter a valid value!\")"
   ]
  },
  {
   "cell_type": "code",
   "execution_count": null,
   "id": "00e19181",
   "metadata": {},
   "outputs": [],
   "source": [
    "#Program for addition, mulplication, subtraction and division"
   ]
  },
  {
   "cell_type": "code",
   "execution_count": 7,
   "id": "94ac4415",
   "metadata": {},
   "outputs": [
    {
     "data": {
      "text/plain": [
       "'This is multiple level inheritance for class C!'"
      ]
     },
     "execution_count": 7,
     "metadata": {},
     "output_type": "execute_result"
    }
   ],
   "source": [
    "class A:\n",
    "    def statement(self):\n",
    "        return \"This is inheritance!\"\n",
    "class B(A):\n",
    "    def statement1(self):\n",
    "        return \"This is multi-level inheritance!\"\n",
    "class C(B):\n",
    "    def statement2(self):\n",
    "        return \"This is multiple level inheritance for class C!\"\n",
    "obj = C()\n",
    "obj.statement2()"
   ]
  },
  {
   "cell_type": "code",
   "execution_count": 2,
   "id": "e96670ac",
   "metadata": {},
   "outputs": [],
   "source": [
    "#Celsius to Farenheit\n",
    "#Positive and Negative numbers"
   ]
  },
  {
   "cell_type": "code",
   "execution_count": 8,
   "id": "e93e1737",
   "metadata": {},
   "outputs": [
    {
     "data": {
      "text/plain": [
       "'This is a function for class C!'"
      ]
     },
     "execution_count": 8,
     "metadata": {},
     "output_type": "execute_result"
    }
   ],
   "source": [
    "#Multiple child classes\n",
    "\n",
    "class A:\n",
    "    def statement(self):\n",
    "        return \"This is inheritance!\"\n",
    "class B(A):\n",
    "    def function1(self):\n",
    "        return \"This is a function for class B!\"\n",
    "class C(A):\n",
    "    def function2(self):\n",
    "        return \"This is a function for class C!\"\n",
    "obj = C()\n",
    "obj.function2()"
   ]
  },
  {
   "cell_type": "code",
   "execution_count": 19,
   "id": "f125a843",
   "metadata": {},
   "outputs": [
    {
     "data": {
      "text/plain": [
       "(13, 'White')"
      ]
     },
     "execution_count": 19,
     "metadata": {},
     "output_type": "execute_result"
    }
   ],
   "source": [
    "class car:\n",
    "    def __init__(self,colour,mileage):\n",
    "        self.colour = colour\n",
    "        self.mileage = mileage\n",
    "    def func1(self):\n",
    "        return self.colour, self.mileage\n",
    "    \n",
    "class engine(car):\n",
    "    def __init__(self,colour,mileage,price,model):\n",
    "        self.price = price\n",
    "        self.model = model\n",
    "        car. __init__(self,colour,mileage)\n",
    "    def func2(self):\n",
    "        return self.price, self.colour\n",
    "    \n",
    "obj = engine(\"White\", \"14 kmpl\", 13, \"SUV\")\n",
    "obj.func2()"
   ]
  },
  {
   "cell_type": "code",
   "execution_count": 4,
   "id": "a6876605",
   "metadata": {},
   "outputs": [
    {
     "data": {
      "text/plain": [
       "('White', '12kmpl')"
      ]
     },
     "execution_count": 4,
     "metadata": {},
     "output_type": "execute_result"
    }
   ],
   "source": [
    "class vehicle:\n",
    "    def __init__(self,colour,mileage):\n",
    "        self.colour = colour\n",
    "        self.mileage = mileage\n",
    "        \n",
    "    def function1(self):\n",
    "        return self.colour, self.mileage\n",
    "    \n",
    "class car1(vehicle):\n",
    "    def __init__(self,colour,mileage,price,model):\n",
    "        vehicle.__init__(self,price,model)\n",
    "        self.price = price\n",
    "        self.model = model\n",
    "        \n",
    "    def function2(self):\n",
    "        return self.price,self.model\n",
    "\n",
    "class car2(car1):\n",
    "    def __init__(self,colour,mileage,price,model,torque,horsepower):\n",
    "        car1.__init__(self,colour,mileage,price,model)\n",
    "        \n",
    "        self.torque = torque \n",
    "        self.horsepower = horsepower\n",
    "        \n",
    "    def function3(self):\n",
    "        return self.torque, self.horsepower\n",
    "\n",
    "obj = car2(\"130nm\", \"1500CC\", \"13Lacs\", \"SUV\", \"White\", \"12kmpl\")\n",
    "obj.function3()"
   ]
  },
  {
   "cell_type": "code",
   "execution_count": 8,
   "id": "b4db449a",
   "metadata": {},
   "outputs": [
    {
     "name": "stdout",
     "output_type": "stream",
     "text": [
      "Meow\n",
      "I am a cat. My name is Kitty. I am 2.5 years old.\n",
      "Bark\n",
      "I am a dog. My name is Fluffy. I am 4 years old.\n"
     ]
    }
   ],
   "source": [
    "class cat:\n",
    "    def __init__(self,name,age):\n",
    "        self.name = name\n",
    "        self.age =  age\n",
    "        \n",
    "    def intro(self):\n",
    "        print(f\"I am a cat. My name is {self.name}. I am {self.age} years old.\")\n",
    "        \n",
    "    def sound(self):\n",
    "        print(\"Meow\")\n",
    "        \n",
    "class dog:\n",
    "    def __init__(self,name,age):\n",
    "        self.name = name\n",
    "        self.age = age\n",
    "    \n",
    "    def intro(self):\n",
    "        print(f\"I am a dog. My name is {self.name}. I am {self.age} years old.\")\n",
    "        \n",
    "    def sound(self):\n",
    "        print(\"Bark\")\n",
    "        \n",
    "cat1 = cat(\"Kitty\", 2.5)\n",
    "dog1 = dog(\"Fluffy\", 4)\n",
    "\n",
    "for animal in (cat1, dog1):\n",
    "    animal.sound()\n",
    "    animal.intro()"
   ]
  },
  {
   "cell_type": "code",
   "execution_count": 7,
   "id": "e3977d41",
   "metadata": {},
   "outputs": [
    {
     "name": "stdout",
     "output_type": "stream",
     "text": [
      "4\n",
      "2\n",
      "13\n"
     ]
    }
   ],
   "source": [
    "print(len([\"Sachin\", \"Subhash\", 48, 87]))\n",
    "print(len({1:\"Sachin\", 2:\"Subhash\"}))\n",
    "print(len(\"SachinSubhash\"))"
   ]
  },
  {
   "cell_type": "code",
   "execution_count": 23,
   "id": "9ec3c666",
   "metadata": {},
   "outputs": [
    {
     "name": "stdout",
     "output_type": "stream",
     "text": [
      "This will share my facebook posts.\n"
     ]
    }
   ],
   "source": [
    "# Method overriding\n",
    "\n",
    "class insta:\n",
    "    def share_stories(self):\n",
    "        print(\"This will share my insta stories.\")\n",
    "class facebook(insta):\n",
    "    def share_stories(self):\n",
    "        print(\"This will share my facebook posts.\")\n",
    "        \n",
    "fb1 = facebook()\n",
    "fb1.share_stories()\n",
    "\n",
    "# As the function is same, the 2nd class gets over ridden over the 1st class. Hence we have to use super() function."
   ]
  },
  {
   "cell_type": "code",
   "execution_count": 16,
   "id": "02ac771d",
   "metadata": {},
   "outputs": [
    {
     "name": "stdout",
     "output_type": "stream",
     "text": [
      "This will share my insta stories.\n",
      "This will share my facebook posts.\n"
     ]
    }
   ],
   "source": [
    "class insta:\n",
    "    def share_stories(self):\n",
    "        print(\"This will share my insta stories.\")\n",
    "class facebook(insta):\n",
    "    def share_stories(self):\n",
    "        super().share_stories()\n",
    "        print(\"This will share my facebook posts.\")\n",
    "        \n",
    "fb1 = facebook()\n",
    "fb1.share_stories()"
   ]
  },
  {
   "cell_type": "code",
   "execution_count": 17,
   "id": "7ea7253a",
   "metadata": {},
   "outputs": [
    {
     "name": "stdout",
     "output_type": "stream",
     "text": [
      "This will share my facebook posts.\n",
      "This will share my insta stories.\n"
     ]
    }
   ],
   "source": [
    "class insta:\n",
    "    def share_stories(self):\n",
    "        print(\"This will share my insta stories.\")\n",
    "class facebook(insta):\n",
    "    def share_stories(self):\n",
    "        print(\"This will share my facebook posts.\")\n",
    "        super().share_stories()\n",
    "        \n",
    "fb1 = facebook()\n",
    "fb1.share_stories()"
   ]
  },
  {
   "cell_type": "code",
   "execution_count": 21,
   "id": "49fa0b73",
   "metadata": {},
   "outputs": [
    {
     "name": "stdout",
     "output_type": "stream",
     "text": [
      "Addition of 30 and 40 is 70.\n",
      "Multiplication of 20 and 50 is 1000.\n"
     ]
    }
   ],
   "source": [
    "class add:\n",
    "    def result(self,a,b):\n",
    "        print(f\"Addition of {a} and {b} is {a+b}.\")\n",
    "class multi(add):\n",
    "    def result(self,a,b):\n",
    "        super().result(30,40)\n",
    "        print(f\"Multiplication of {a} and {b} is {a*b}.\")\n",
    "    \n",
    "obj = multi()\n",
    "obj.result(20,50)"
   ]
  },
  {
   "cell_type": "code",
   "execution_count": null,
   "id": "f236b3e3",
   "metadata": {},
   "outputs": [],
   "source": [
    "# Method overloading\n",
    "# Magic Method"
   ]
  },
  {
   "cell_type": "code",
   "execution_count": 1,
   "id": "fb436409",
   "metadata": {},
   "outputs": [
    {
     "name": "stdout",
     "output_type": "stream",
     "text": [
      "(3, 5)\n"
     ]
    }
   ],
   "source": [
    "class complex:\n",
    "    def __init__(self,a,b):\n",
    "        self.a = a\n",
    "        self.b = b\n",
    "\n",
    "    def __add__(self, other):\n",
    "        return self.a + other.a, self.b + other.b\n",
    "    \n",
    "obj1 = complex(1,2)\n",
    "obj2 = complex(2,3)\n",
    "answer =  obj1 + obj2\n",
    "print(answer)"
   ]
  },
  {
   "cell_type": "code",
   "execution_count": 5,
   "id": "61a0e5c2",
   "metadata": {},
   "outputs": [
    {
     "name": "stdout",
     "output_type": "stream",
     "text": [
      "obj1 is greater than obj2!\n"
     ]
    }
   ],
   "source": [
    "class A:\n",
    "    def __init__(self,a):\n",
    "        self.a = a\n",
    "    def __gt__(self, other):\n",
    "        if(self.a > other.a):\n",
    "            return True\n",
    "        else:\n",
    "            return False\n",
    "obj1 = A(4)\n",
    "obj2 = A(3)\n",
    "if obj1>obj2:\n",
    "    print(\"obj1 is greater than obj2!\")\n",
    "else:\n",
    "    print(\"obj2 is greater than obj1!\")"
   ]
  },
  {
   "cell_type": "code",
   "execution_count": null,
   "id": "0307adfc",
   "metadata": {},
   "outputs": [],
   "source": []
  }
 ],
 "metadata": {
  "kernelspec": {
   "display_name": "Python 3 (ipykernel)",
   "language": "python",
   "name": "python3"
  },
  "language_info": {
   "codemirror_mode": {
    "name": "ipython",
    "version": 3
   },
   "file_extension": ".py",
   "mimetype": "text/x-python",
   "name": "python",
   "nbconvert_exporter": "python",
   "pygments_lexer": "ipython3",
   "version": "3.9.13"
  }
 },
 "nbformat": 4,
 "nbformat_minor": 5
}
